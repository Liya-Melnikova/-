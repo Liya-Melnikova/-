{
 "cells": [
  {
   "cell_type": "markdown",
   "metadata": {},
   "source": [
    "# Анализ данных для интернет-магазина компьютерных игр «Стримчик»"
   ]
  },
  {
   "cell_type": "markdown",
   "metadata": {},
   "source": [
    " Цель работы: выявить закономерности определяющие успешность игры.\\\n",
    " \\\n",
    "     План работы: \n",
    " 1) изучить информацию о дадасете и выпелнить предобработку: заполнить пропуски, удалить дубликаты, преобразовать типы данных, добавить столбцы.\\\n",
    " 2) провести исследовательский анализ данных.\\\n",
    " 3) проверить гипотезы\\\n",
    " 4) сформулировать вывод"
   ]
  },
  {
   "cell_type": "markdown",
   "metadata": {},
   "source": [
    "### Шаг 1. Откройте файл с данными и изучите общую информацию"
   ]
  },
  {
   "cell_type": "code",
   "execution_count": 1,
   "metadata": {},
   "outputs": [],
   "source": [
    "import pandas as pd\n",
    "import seaborn as sns\n",
    "import matplotlib.pyplot as plt\n",
    "import numpy as np\n",
    "from scipy import stats as st\n",
    "from scipy.stats import binom\n",
    "import math"
   ]
  },
  {
   "cell_type": "code",
   "execution_count": 2,
   "metadata": {},
   "outputs": [
    {
     "data": {
      "text/html": [
       "<div>\n",
       "<style scoped>\n",
       "    .dataframe tbody tr th:only-of-type {\n",
       "        vertical-align: middle;\n",
       "    }\n",
       "\n",
       "    .dataframe tbody tr th {\n",
       "        vertical-align: top;\n",
       "    }\n",
       "\n",
       "    .dataframe thead th {\n",
       "        text-align: right;\n",
       "    }\n",
       "</style>\n",
       "<table border=\"1\" class=\"dataframe\">\n",
       "  <thead>\n",
       "    <tr style=\"text-align: right;\">\n",
       "      <th></th>\n",
       "      <th>Name</th>\n",
       "      <th>Platform</th>\n",
       "      <th>Year_of_Release</th>\n",
       "      <th>Genre</th>\n",
       "      <th>NA_sales</th>\n",
       "      <th>EU_sales</th>\n",
       "      <th>JP_sales</th>\n",
       "      <th>Other_sales</th>\n",
       "      <th>Critic_Score</th>\n",
       "      <th>User_Score</th>\n",
       "      <th>Rating</th>\n",
       "    </tr>\n",
       "  </thead>\n",
       "  <tbody>\n",
       "    <tr>\n",
       "      <th>0</th>\n",
       "      <td>Wii Sports</td>\n",
       "      <td>Wii</td>\n",
       "      <td>2006.0</td>\n",
       "      <td>Sports</td>\n",
       "      <td>41.36</td>\n",
       "      <td>28.96</td>\n",
       "      <td>3.77</td>\n",
       "      <td>8.45</td>\n",
       "      <td>76.0</td>\n",
       "      <td>8</td>\n",
       "      <td>E</td>\n",
       "    </tr>\n",
       "    <tr>\n",
       "      <th>1</th>\n",
       "      <td>Super Mario Bros.</td>\n",
       "      <td>NES</td>\n",
       "      <td>1985.0</td>\n",
       "      <td>Platform</td>\n",
       "      <td>29.08</td>\n",
       "      <td>3.58</td>\n",
       "      <td>6.81</td>\n",
       "      <td>0.77</td>\n",
       "      <td>NaN</td>\n",
       "      <td>NaN</td>\n",
       "      <td>NaN</td>\n",
       "    </tr>\n",
       "    <tr>\n",
       "      <th>2</th>\n",
       "      <td>Mario Kart Wii</td>\n",
       "      <td>Wii</td>\n",
       "      <td>2008.0</td>\n",
       "      <td>Racing</td>\n",
       "      <td>15.68</td>\n",
       "      <td>12.76</td>\n",
       "      <td>3.79</td>\n",
       "      <td>3.29</td>\n",
       "      <td>82.0</td>\n",
       "      <td>8.3</td>\n",
       "      <td>E</td>\n",
       "    </tr>\n",
       "    <tr>\n",
       "      <th>3</th>\n",
       "      <td>Wii Sports Resort</td>\n",
       "      <td>Wii</td>\n",
       "      <td>2009.0</td>\n",
       "      <td>Sports</td>\n",
       "      <td>15.61</td>\n",
       "      <td>10.93</td>\n",
       "      <td>3.28</td>\n",
       "      <td>2.95</td>\n",
       "      <td>80.0</td>\n",
       "      <td>8</td>\n",
       "      <td>E</td>\n",
       "    </tr>\n",
       "    <tr>\n",
       "      <th>4</th>\n",
       "      <td>Pokemon Red/Pokemon Blue</td>\n",
       "      <td>GB</td>\n",
       "      <td>1996.0</td>\n",
       "      <td>Role-Playing</td>\n",
       "      <td>11.27</td>\n",
       "      <td>8.89</td>\n",
       "      <td>10.22</td>\n",
       "      <td>1.00</td>\n",
       "      <td>NaN</td>\n",
       "      <td>NaN</td>\n",
       "      <td>NaN</td>\n",
       "    </tr>\n",
       "  </tbody>\n",
       "</table>\n",
       "</div>"
      ],
      "text/plain": [
       "                       Name Platform  Year_of_Release         Genre  NA_sales  \\\n",
       "0                Wii Sports      Wii           2006.0        Sports     41.36   \n",
       "1         Super Mario Bros.      NES           1985.0      Platform     29.08   \n",
       "2            Mario Kart Wii      Wii           2008.0        Racing     15.68   \n",
       "3         Wii Sports Resort      Wii           2009.0        Sports     15.61   \n",
       "4  Pokemon Red/Pokemon Blue       GB           1996.0  Role-Playing     11.27   \n",
       "\n",
       "   EU_sales  JP_sales  Other_sales  Critic_Score User_Score Rating  \n",
       "0     28.96      3.77         8.45          76.0          8      E  \n",
       "1      3.58      6.81         0.77           NaN        NaN    NaN  \n",
       "2     12.76      3.79         3.29          82.0        8.3      E  \n",
       "3     10.93      3.28         2.95          80.0          8      E  \n",
       "4      8.89     10.22         1.00           NaN        NaN    NaN  "
      ]
     },
     "execution_count": 2,
     "metadata": {},
     "output_type": "execute_result"
    }
   ],
   "source": [
    "df = pd.read_csv('/datasets/games.csv')\n",
    "df.head()"
   ]
  },
  {
   "cell_type": "code",
   "execution_count": 3,
   "metadata": {},
   "outputs": [
    {
     "name": "stdout",
     "output_type": "stream",
     "text": [
      "<class 'pandas.core.frame.DataFrame'>\n",
      "RangeIndex: 16715 entries, 0 to 16714\n",
      "Data columns (total 11 columns):\n",
      " #   Column           Non-Null Count  Dtype  \n",
      "---  ------           --------------  -----  \n",
      " 0   Name             16713 non-null  object \n",
      " 1   Platform         16715 non-null  object \n",
      " 2   Year_of_Release  16446 non-null  float64\n",
      " 3   Genre            16713 non-null  object \n",
      " 4   NA_sales         16715 non-null  float64\n",
      " 5   EU_sales         16715 non-null  float64\n",
      " 6   JP_sales         16715 non-null  float64\n",
      " 7   Other_sales      16715 non-null  float64\n",
      " 8   Critic_Score     8137 non-null   float64\n",
      " 9   User_Score       10014 non-null  object \n",
      " 10  Rating           9949 non-null   object \n",
      "dtypes: float64(6), object(5)\n",
      "memory usage: 1.4+ MB\n"
     ]
    }
   ],
   "source": [
    "df.info()"
   ]
  },
  {
   "cell_type": "code",
   "execution_count": 4,
   "metadata": {},
   "outputs": [
    {
     "data": {
      "text/plain": [
       "Name                  2\n",
       "Platform              0\n",
       "Year_of_Release     269\n",
       "Genre                 2\n",
       "NA_sales              0\n",
       "EU_sales              0\n",
       "JP_sales              0\n",
       "Other_sales           0\n",
       "Critic_Score       8578\n",
       "User_Score         6701\n",
       "Rating             6766\n",
       "dtype: int64"
      ]
     },
     "execution_count": 4,
     "metadata": {},
     "output_type": "execute_result"
    }
   ],
   "source": [
    "df.isna().sum()"
   ]
  },
  {
   "cell_type": "markdown",
   "metadata": {},
   "source": [
    "Вывод: имеем на входе таблицу размерностью в 16715 строк. Имеются пропуски в данных. Дубликатов нет."
   ]
  },
  {
   "cell_type": "code",
   "execution_count": 27,
   "metadata": {},
   "outputs": [
    {
     "name": "stdout",
     "output_type": "stream",
     "text": [
      "name               3\n",
      "platform           3\n",
      "year_of_release    3\n",
      "genre              3\n",
      "na_sales           3\n",
      "eu_sales           3\n",
      "jp_sales           3\n",
      "other_sales        3\n",
      "critic_score       3\n",
      "user_score         3\n",
      "rating             3\n",
      "sum_sales          3\n",
      "dtype: int64\n",
      "                              name platform  year_of_release   genre  \\\n",
      "1591   Need for Speed: Most Wanted     X360             2005  Racing   \n",
      "11715  Need for Speed: Most Wanted       PC             2012  Racing   \n",
      "16230                Madden NFL 13      PS3             2012  Sports   \n",
      "\n",
      "       na_sales  eu_sales  jp_sales  other_sales  critic_score  user_score  \\\n",
      "1591        1.0      0.13      0.02         0.10          83.0         8.5   \n",
      "11715       0.0      0.06      0.00         0.02          82.0         8.5   \n",
      "16230       0.0      0.01      0.00         0.00          83.0         5.5   \n",
      "\n",
      "      rating  sum_sales  \n",
      "1591       T       1.25  \n",
      "11715      T       0.08  \n",
      "16230      E       0.01  \n",
      "name               0\n",
      "platform           0\n",
      "year_of_release    0\n",
      "genre              0\n",
      "na_sales           0\n",
      "eu_sales           0\n",
      "jp_sales           0\n",
      "other_sales        0\n",
      "critic_score       0\n",
      "user_score         0\n",
      "rating             0\n",
      "sum_sales          0\n",
      "dtype: int64\n"
     ]
    }
   ],
   "source": [
    "df = df.drop_duplicates()\n",
    "\n",
    "print(df[df.duplicated(['name', 'platform'])].count())\n",
    "print(df[df.duplicated(['name', 'platform'])])\n",
    "df = df.drop_duplicates(['name', 'platform'])\n",
    "print(df[df.duplicated(['name', 'platform'])].count())"
   ]
  },
  {
   "cell_type": "markdown",
   "metadata": {},
   "source": [
    "### Шаг 2. Подготовьте данные\n"
   ]
  },
  {
   "cell_type": "markdown",
   "metadata": {},
   "source": [
    "#### Замена названий столбцов (приведите к нижнему регистру);"
   ]
  },
  {
   "cell_type": "code",
   "execution_count": 28,
   "metadata": {},
   "outputs": [
    {
     "data": {
      "text/html": [
       "<div>\n",
       "<style scoped>\n",
       "    .dataframe tbody tr th:only-of-type {\n",
       "        vertical-align: middle;\n",
       "    }\n",
       "\n",
       "    .dataframe tbody tr th {\n",
       "        vertical-align: top;\n",
       "    }\n",
       "\n",
       "    .dataframe thead th {\n",
       "        text-align: right;\n",
       "    }\n",
       "</style>\n",
       "<table border=\"1\" class=\"dataframe\">\n",
       "  <thead>\n",
       "    <tr style=\"text-align: right;\">\n",
       "      <th></th>\n",
       "      <th>name</th>\n",
       "      <th>platform</th>\n",
       "      <th>year_of_release</th>\n",
       "      <th>genre</th>\n",
       "      <th>na_sales</th>\n",
       "      <th>eu_sales</th>\n",
       "      <th>jp_sales</th>\n",
       "      <th>other_sales</th>\n",
       "      <th>critic_score</th>\n",
       "      <th>user_score</th>\n",
       "      <th>rating</th>\n",
       "      <th>sum_sales</th>\n",
       "    </tr>\n",
       "  </thead>\n",
       "  <tbody>\n",
       "    <tr>\n",
       "      <th>0</th>\n",
       "      <td>Wii Sports</td>\n",
       "      <td>Wii</td>\n",
       "      <td>2006</td>\n",
       "      <td>Sports</td>\n",
       "      <td>41.36</td>\n",
       "      <td>28.96</td>\n",
       "      <td>3.77</td>\n",
       "      <td>8.45</td>\n",
       "      <td>76.0</td>\n",
       "      <td>8.0</td>\n",
       "      <td>E</td>\n",
       "      <td>82.54</td>\n",
       "    </tr>\n",
       "    <tr>\n",
       "      <th>1</th>\n",
       "      <td>Super Mario Bros.</td>\n",
       "      <td>NES</td>\n",
       "      <td>1985</td>\n",
       "      <td>Platform</td>\n",
       "      <td>29.08</td>\n",
       "      <td>3.58</td>\n",
       "      <td>6.81</td>\n",
       "      <td>0.77</td>\n",
       "      <td>NaN</td>\n",
       "      <td>NaN</td>\n",
       "      <td>NaN</td>\n",
       "      <td>40.24</td>\n",
       "    </tr>\n",
       "    <tr>\n",
       "      <th>2</th>\n",
       "      <td>Mario Kart Wii</td>\n",
       "      <td>Wii</td>\n",
       "      <td>2008</td>\n",
       "      <td>Racing</td>\n",
       "      <td>15.68</td>\n",
       "      <td>12.76</td>\n",
       "      <td>3.79</td>\n",
       "      <td>3.29</td>\n",
       "      <td>82.0</td>\n",
       "      <td>8.3</td>\n",
       "      <td>E</td>\n",
       "      <td>35.52</td>\n",
       "    </tr>\n",
       "    <tr>\n",
       "      <th>3</th>\n",
       "      <td>Wii Sports Resort</td>\n",
       "      <td>Wii</td>\n",
       "      <td>2009</td>\n",
       "      <td>Sports</td>\n",
       "      <td>15.61</td>\n",
       "      <td>10.93</td>\n",
       "      <td>3.28</td>\n",
       "      <td>2.95</td>\n",
       "      <td>80.0</td>\n",
       "      <td>8.0</td>\n",
       "      <td>E</td>\n",
       "      <td>32.77</td>\n",
       "    </tr>\n",
       "    <tr>\n",
       "      <th>4</th>\n",
       "      <td>Pokemon Red/Pokemon Blue</td>\n",
       "      <td>GB</td>\n",
       "      <td>1996</td>\n",
       "      <td>Role-Playing</td>\n",
       "      <td>11.27</td>\n",
       "      <td>8.89</td>\n",
       "      <td>10.22</td>\n",
       "      <td>1.00</td>\n",
       "      <td>NaN</td>\n",
       "      <td>NaN</td>\n",
       "      <td>NaN</td>\n",
       "      <td>31.38</td>\n",
       "    </tr>\n",
       "  </tbody>\n",
       "</table>\n",
       "</div>"
      ],
      "text/plain": [
       "                       name platform  year_of_release         genre  na_sales  \\\n",
       "0                Wii Sports      Wii             2006        Sports     41.36   \n",
       "1         Super Mario Bros.      NES             1985      Platform     29.08   \n",
       "2            Mario Kart Wii      Wii             2008        Racing     15.68   \n",
       "3         Wii Sports Resort      Wii             2009        Sports     15.61   \n",
       "4  Pokemon Red/Pokemon Blue       GB             1996  Role-Playing     11.27   \n",
       "\n",
       "   eu_sales  jp_sales  other_sales  critic_score  user_score rating  sum_sales  \n",
       "0     28.96      3.77         8.45          76.0         8.0      E      82.54  \n",
       "1      3.58      6.81         0.77           NaN         NaN    NaN      40.24  \n",
       "2     12.76      3.79         3.29          82.0         8.3      E      35.52  \n",
       "3     10.93      3.28         2.95          80.0         8.0      E      32.77  \n",
       "4      8.89     10.22         1.00           NaN         NaN    NaN      31.38  "
      ]
     },
     "execution_count": 28,
     "metadata": {},
     "output_type": "execute_result"
    }
   ],
   "source": [
    "df = df.rename(columns={'Name':'name', 'Platform':'platform', 'Year_of_Release':'year_of_release','Genre':'genre', \\\n",
    "                        'NA_sales':'na_sales','EU_sales':'eu_sales', 'JP_sales':'jp_sales', \\\n",
    "                        'Other_sales':'other_sales', 'Critic_Score':'critic_score', 'User_Score':'user_score', \\\n",
    "                        'Rating':'rating'})\n",
    "df.head()"
   ]
  },
  {
   "cell_type": "markdown",
   "metadata": {},
   "source": [
    "#### Преобразуйте данные в нужные типы. Опишите, в каких столбцах заменили тип данных и почему;\n"
   ]
  },
  {
   "cell_type": "code",
   "execution_count": 29,
   "metadata": {},
   "outputs": [],
   "source": [
    "df.dropna(subset=['year_of_release'], inplace=True)"
   ]
  },
  {
   "cell_type": "code",
   "execution_count": 30,
   "metadata": {},
   "outputs": [
    {
     "name": "stdout",
     "output_type": "stream",
     "text": [
      "<class 'pandas.core.frame.DataFrame'>\n",
      "Int64Index: 16441 entries, 0 to 16714\n",
      "Data columns (total 12 columns):\n",
      " #   Column           Non-Null Count  Dtype  \n",
      "---  ------           --------------  -----  \n",
      " 0   name             16441 non-null  object \n",
      " 1   platform         16441 non-null  object \n",
      " 2   year_of_release  16441 non-null  int64  \n",
      " 3   genre            16441 non-null  object \n",
      " 4   na_sales         16441 non-null  float64\n",
      " 5   eu_sales         16441 non-null  float64\n",
      " 6   jp_sales         16441 non-null  float64\n",
      " 7   other_sales      16441 non-null  float64\n",
      " 8   critic_score     7980 non-null   float64\n",
      " 9   user_score       7460 non-null   float64\n",
      " 10  rating           9765 non-null   object \n",
      " 11  sum_sales        16441 non-null  float64\n",
      "dtypes: float64(7), int64(1), object(4)\n",
      "memory usage: 1.6+ MB\n"
     ]
    }
   ],
   "source": [
    "df['year_of_release'] = df['year_of_release'].astype('int')\n",
    "df.info()"
   ]
  },
  {
   "cell_type": "code",
   "execution_count": 31,
   "metadata": {},
   "outputs": [
    {
     "data": {
      "text/html": [
       "<div>\n",
       "<style scoped>\n",
       "    .dataframe tbody tr th:only-of-type {\n",
       "        vertical-align: middle;\n",
       "    }\n",
       "\n",
       "    .dataframe tbody tr th {\n",
       "        vertical-align: top;\n",
       "    }\n",
       "\n",
       "    .dataframe thead th {\n",
       "        text-align: right;\n",
       "    }\n",
       "</style>\n",
       "<table border=\"1\" class=\"dataframe\">\n",
       "  <thead>\n",
       "    <tr style=\"text-align: right;\">\n",
       "      <th></th>\n",
       "      <th>name</th>\n",
       "      <th>platform</th>\n",
       "      <th>year_of_release</th>\n",
       "      <th>genre</th>\n",
       "      <th>na_sales</th>\n",
       "      <th>eu_sales</th>\n",
       "      <th>jp_sales</th>\n",
       "      <th>other_sales</th>\n",
       "      <th>critic_score</th>\n",
       "      <th>user_score</th>\n",
       "      <th>rating</th>\n",
       "      <th>sum_sales</th>\n",
       "    </tr>\n",
       "  </thead>\n",
       "  <tbody>\n",
       "    <tr>\n",
       "      <th>0</th>\n",
       "      <td>Wii Sports</td>\n",
       "      <td>Wii</td>\n",
       "      <td>2006</td>\n",
       "      <td>Sports</td>\n",
       "      <td>41.36</td>\n",
       "      <td>28.96</td>\n",
       "      <td>3.77</td>\n",
       "      <td>8.45</td>\n",
       "      <td>76.0</td>\n",
       "      <td>8.0</td>\n",
       "      <td>E</td>\n",
       "      <td>82.54</td>\n",
       "    </tr>\n",
       "    <tr>\n",
       "      <th>1</th>\n",
       "      <td>Super Mario Bros.</td>\n",
       "      <td>NES</td>\n",
       "      <td>1985</td>\n",
       "      <td>Platform</td>\n",
       "      <td>29.08</td>\n",
       "      <td>3.58</td>\n",
       "      <td>6.81</td>\n",
       "      <td>0.77</td>\n",
       "      <td>NaN</td>\n",
       "      <td>NaN</td>\n",
       "      <td>NaN</td>\n",
       "      <td>40.24</td>\n",
       "    </tr>\n",
       "    <tr>\n",
       "      <th>2</th>\n",
       "      <td>Mario Kart Wii</td>\n",
       "      <td>Wii</td>\n",
       "      <td>2008</td>\n",
       "      <td>Racing</td>\n",
       "      <td>15.68</td>\n",
       "      <td>12.76</td>\n",
       "      <td>3.79</td>\n",
       "      <td>3.29</td>\n",
       "      <td>82.0</td>\n",
       "      <td>8.3</td>\n",
       "      <td>E</td>\n",
       "      <td>35.52</td>\n",
       "    </tr>\n",
       "    <tr>\n",
       "      <th>3</th>\n",
       "      <td>Wii Sports Resort</td>\n",
       "      <td>Wii</td>\n",
       "      <td>2009</td>\n",
       "      <td>Sports</td>\n",
       "      <td>15.61</td>\n",
       "      <td>10.93</td>\n",
       "      <td>3.28</td>\n",
       "      <td>2.95</td>\n",
       "      <td>80.0</td>\n",
       "      <td>8.0</td>\n",
       "      <td>E</td>\n",
       "      <td>32.77</td>\n",
       "    </tr>\n",
       "    <tr>\n",
       "      <th>4</th>\n",
       "      <td>Pokemon Red/Pokemon Blue</td>\n",
       "      <td>GB</td>\n",
       "      <td>1996</td>\n",
       "      <td>Role-Playing</td>\n",
       "      <td>11.27</td>\n",
       "      <td>8.89</td>\n",
       "      <td>10.22</td>\n",
       "      <td>1.00</td>\n",
       "      <td>NaN</td>\n",
       "      <td>NaN</td>\n",
       "      <td>NaN</td>\n",
       "      <td>31.38</td>\n",
       "    </tr>\n",
       "  </tbody>\n",
       "</table>\n",
       "</div>"
      ],
      "text/plain": [
       "                       name platform  year_of_release         genre  na_sales  \\\n",
       "0                Wii Sports      Wii             2006        Sports     41.36   \n",
       "1         Super Mario Bros.      NES             1985      Platform     29.08   \n",
       "2            Mario Kart Wii      Wii             2008        Racing     15.68   \n",
       "3         Wii Sports Resort      Wii             2009        Sports     15.61   \n",
       "4  Pokemon Red/Pokemon Blue       GB             1996  Role-Playing     11.27   \n",
       "\n",
       "   eu_sales  jp_sales  other_sales  critic_score  user_score rating  sum_sales  \n",
       "0     28.96      3.77         8.45          76.0         8.0      E      82.54  \n",
       "1      3.58      6.81         0.77           NaN         NaN    NaN      40.24  \n",
       "2     12.76      3.79         3.29          82.0         8.3      E      35.52  \n",
       "3     10.93      3.28         2.95          80.0         8.0      E      32.77  \n",
       "4      8.89     10.22         1.00           NaN         NaN    NaN      31.38  "
      ]
     },
     "execution_count": 31,
     "metadata": {},
     "output_type": "execute_result"
    }
   ],
   "source": [
    "df.head()"
   ]
  },
  {
   "cell_type": "markdown",
   "metadata": {},
   "source": [
    "Необходимо было изменить типы данных в столбцах year_of_release и user_score. В первом случае нам необходимо привести тип данных к int, так как год -- это целое число. Предварительно удалила записи с пропущенными значениями по году выпуска, так как их значение не велико и заменять на медиану нет смысла. В значениях же столбца user_score встречается значение \"tbd\" -- оно не дает изменить тип данных с object на float. Оставим пока как есть, разберемся с ним позже."
   ]
  },
  {
   "cell_type": "markdown",
   "metadata": {},
   "source": [
    "#### Обработайте пропуски при необходимости:\n",
    "Объясните, почему заполнили пропуски определённым образом или почему не стали это делать;\n",
    "Опишите причины, которые могли привести к пропускам;\n"
   ]
  },
  {
   "cell_type": "code",
   "execution_count": 32,
   "metadata": {},
   "outputs": [],
   "source": [
    "df.dropna(subset=['name'], inplace=True)\n",
    "df.dropna(subset=['genre'], inplace=True)"
   ]
  },
  {
   "cell_type": "markdown",
   "metadata": {},
   "source": [
    "По 2 пропущенных значения в выше приведенных столбцах. Удалила их. Теперь перейдем к пропускам в столбцах Critic_Score (8578 пропусков), User_Score (6701 пропуск) и Rating (6766 пропусков)."
   ]
  },
  {
   "cell_type": "markdown",
   "metadata": {},
   "source": [
    "Для данных critic_score и user_score не целесообразно заменять пропуски. Оставим как есть."
   ]
  },
  {
   "cell_type": "markdown",
   "metadata": {},
   "source": [
    "Обратите внимание на аббревиатуру 'tbd' в столбце с оценкой пользователей. Отдельно разберите это значение и опишите, как его обработать;\n"
   ]
  },
  {
   "cell_type": "code",
   "execution_count": 33,
   "metadata": {},
   "outputs": [
    {
     "data": {
      "text/html": [
       "<div>\n",
       "<style scoped>\n",
       "    .dataframe tbody tr th:only-of-type {\n",
       "        vertical-align: middle;\n",
       "    }\n",
       "\n",
       "    .dataframe tbody tr th {\n",
       "        vertical-align: top;\n",
       "    }\n",
       "\n",
       "    .dataframe thead th {\n",
       "        text-align: right;\n",
       "    }\n",
       "</style>\n",
       "<table border=\"1\" class=\"dataframe\">\n",
       "  <thead>\n",
       "    <tr style=\"text-align: right;\">\n",
       "      <th></th>\n",
       "      <th>name</th>\n",
       "      <th>platform</th>\n",
       "      <th>year_of_release</th>\n",
       "      <th>genre</th>\n",
       "      <th>na_sales</th>\n",
       "      <th>eu_sales</th>\n",
       "      <th>jp_sales</th>\n",
       "      <th>other_sales</th>\n",
       "      <th>critic_score</th>\n",
       "      <th>user_score</th>\n",
       "      <th>rating</th>\n",
       "      <th>sum_sales</th>\n",
       "    </tr>\n",
       "  </thead>\n",
       "  <tbody>\n",
       "  </tbody>\n",
       "</table>\n",
       "</div>"
      ],
      "text/plain": [
       "Empty DataFrame\n",
       "Columns: [name, platform, year_of_release, genre, na_sales, eu_sales, jp_sales, other_sales, critic_score, user_score, rating, sum_sales]\n",
       "Index: []"
      ]
     },
     "execution_count": 33,
     "metadata": {},
     "output_type": "execute_result"
    }
   ],
   "source": [
    "df.loc[df['user_score'] == 'tbd']"
   ]
  },
  {
   "cell_type": "markdown",
   "metadata": {},
   "source": [
    "TBD - аббревиатура от английского To Be Determined (будет определено). Значит можно приравнять эти значения к пропускам, преобразовать в нан и заменить на медиану по жанрам. "
   ]
  },
  {
   "cell_type": "code",
   "execution_count": 34,
   "metadata": {},
   "outputs": [
    {
     "data": {
      "text/plain": [
       "name                  0\n",
       "platform              0\n",
       "year_of_release       0\n",
       "genre                 0\n",
       "na_sales              0\n",
       "eu_sales              0\n",
       "jp_sales              0\n",
       "other_sales           0\n",
       "critic_score       8461\n",
       "user_score         8981\n",
       "rating             6676\n",
       "sum_sales             0\n",
       "dtype: int64"
      ]
     },
     "execution_count": 34,
     "metadata": {},
     "output_type": "execute_result"
    }
   ],
   "source": [
    "df['user_score'] = df['user_score'].replace('tbd', np.nan)\n",
    "\n",
    "df.isna().sum() #замена прошла верно"
   ]
  },
  {
   "cell_type": "code",
   "execution_count": 13,
   "metadata": {},
   "outputs": [],
   "source": [
    "#теперь можно изменить тип данных у столбца user_score. Заменим object на float.\n",
    "\n",
    "df['user_score'] = df['user_score'].astype('float')"
   ]
  },
  {
   "cell_type": "code",
   "execution_count": 35,
   "metadata": {},
   "outputs": [
    {
     "data": {
      "text/plain": [
       "name                  0\n",
       "platform              0\n",
       "year_of_release       0\n",
       "genre                 0\n",
       "na_sales              0\n",
       "eu_sales              0\n",
       "jp_sales              0\n",
       "other_sales           0\n",
       "critic_score       8461\n",
       "user_score         8981\n",
       "rating             6676\n",
       "sum_sales             0\n",
       "dtype: int64"
      ]
     },
     "execution_count": 35,
     "metadata": {},
     "output_type": "execute_result"
    }
   ],
   "source": [
    "df.isna().sum()"
   ]
  },
  {
   "cell_type": "markdown",
   "metadata": {},
   "source": [
    "Заменим пропуски в столбце c рейтингом от организации ESRB значением \"unknown\"."
   ]
  },
  {
   "cell_type": "code",
   "execution_count": 85,
   "metadata": {},
   "outputs": [
    {
     "data": {
      "text/plain": [
       "name                  0\n",
       "platform              0\n",
       "year_of_release       0\n",
       "genre                 0\n",
       "na_sales              0\n",
       "eu_sales              0\n",
       "jp_sales              0\n",
       "other_sales           0\n",
       "critic_score       8461\n",
       "user_score         8981\n",
       "rating                0\n",
       "sum_sales             0\n",
       "dtype: int64"
      ]
     },
     "execution_count": 85,
     "metadata": {},
     "output_type": "execute_result"
    }
   ],
   "source": [
    "df['rating'] = df['rating'].fillna('unknown')\n",
    "df.isna().sum()"
   ]
  },
  {
   "cell_type": "markdown",
   "metadata": {},
   "source": [
    "Пропусков не осталось, можно приступать к дальнейшему анализу. Среди возможных причин можно выделить нежелание пользователей ставить оценки играм или неверно выгруженные данные."
   ]
  },
  {
   "cell_type": "markdown",
   "metadata": {},
   "source": [
    "#### Посчитайте суммарные продажи во всех регионах и запишите их в отдельный столбец."
   ]
  },
  {
   "cell_type": "code",
   "execution_count": 36,
   "metadata": {},
   "outputs": [
    {
     "data": {
      "text/html": [
       "<div>\n",
       "<style scoped>\n",
       "    .dataframe tbody tr th:only-of-type {\n",
       "        vertical-align: middle;\n",
       "    }\n",
       "\n",
       "    .dataframe tbody tr th {\n",
       "        vertical-align: top;\n",
       "    }\n",
       "\n",
       "    .dataframe thead th {\n",
       "        text-align: right;\n",
       "    }\n",
       "</style>\n",
       "<table border=\"1\" class=\"dataframe\">\n",
       "  <thead>\n",
       "    <tr style=\"text-align: right;\">\n",
       "      <th></th>\n",
       "      <th>name</th>\n",
       "      <th>platform</th>\n",
       "      <th>year_of_release</th>\n",
       "      <th>genre</th>\n",
       "      <th>na_sales</th>\n",
       "      <th>eu_sales</th>\n",
       "      <th>jp_sales</th>\n",
       "      <th>other_sales</th>\n",
       "      <th>critic_score</th>\n",
       "      <th>user_score</th>\n",
       "      <th>rating</th>\n",
       "      <th>sum_sales</th>\n",
       "    </tr>\n",
       "  </thead>\n",
       "  <tbody>\n",
       "    <tr>\n",
       "      <th>0</th>\n",
       "      <td>Wii Sports</td>\n",
       "      <td>Wii</td>\n",
       "      <td>2006</td>\n",
       "      <td>Sports</td>\n",
       "      <td>41.36</td>\n",
       "      <td>28.96</td>\n",
       "      <td>3.77</td>\n",
       "      <td>8.45</td>\n",
       "      <td>76.0</td>\n",
       "      <td>8.0</td>\n",
       "      <td>E</td>\n",
       "      <td>82.54</td>\n",
       "    </tr>\n",
       "    <tr>\n",
       "      <th>1</th>\n",
       "      <td>Super Mario Bros.</td>\n",
       "      <td>NES</td>\n",
       "      <td>1985</td>\n",
       "      <td>Platform</td>\n",
       "      <td>29.08</td>\n",
       "      <td>3.58</td>\n",
       "      <td>6.81</td>\n",
       "      <td>0.77</td>\n",
       "      <td>NaN</td>\n",
       "      <td>NaN</td>\n",
       "      <td>NaN</td>\n",
       "      <td>40.24</td>\n",
       "    </tr>\n",
       "    <tr>\n",
       "      <th>2</th>\n",
       "      <td>Mario Kart Wii</td>\n",
       "      <td>Wii</td>\n",
       "      <td>2008</td>\n",
       "      <td>Racing</td>\n",
       "      <td>15.68</td>\n",
       "      <td>12.76</td>\n",
       "      <td>3.79</td>\n",
       "      <td>3.29</td>\n",
       "      <td>82.0</td>\n",
       "      <td>8.3</td>\n",
       "      <td>E</td>\n",
       "      <td>35.52</td>\n",
       "    </tr>\n",
       "    <tr>\n",
       "      <th>3</th>\n",
       "      <td>Wii Sports Resort</td>\n",
       "      <td>Wii</td>\n",
       "      <td>2009</td>\n",
       "      <td>Sports</td>\n",
       "      <td>15.61</td>\n",
       "      <td>10.93</td>\n",
       "      <td>3.28</td>\n",
       "      <td>2.95</td>\n",
       "      <td>80.0</td>\n",
       "      <td>8.0</td>\n",
       "      <td>E</td>\n",
       "      <td>32.77</td>\n",
       "    </tr>\n",
       "    <tr>\n",
       "      <th>4</th>\n",
       "      <td>Pokemon Red/Pokemon Blue</td>\n",
       "      <td>GB</td>\n",
       "      <td>1996</td>\n",
       "      <td>Role-Playing</td>\n",
       "      <td>11.27</td>\n",
       "      <td>8.89</td>\n",
       "      <td>10.22</td>\n",
       "      <td>1.00</td>\n",
       "      <td>NaN</td>\n",
       "      <td>NaN</td>\n",
       "      <td>NaN</td>\n",
       "      <td>31.38</td>\n",
       "    </tr>\n",
       "  </tbody>\n",
       "</table>\n",
       "</div>"
      ],
      "text/plain": [
       "                       name platform  year_of_release         genre  na_sales  \\\n",
       "0                Wii Sports      Wii             2006        Sports     41.36   \n",
       "1         Super Mario Bros.      NES             1985      Platform     29.08   \n",
       "2            Mario Kart Wii      Wii             2008        Racing     15.68   \n",
       "3         Wii Sports Resort      Wii             2009        Sports     15.61   \n",
       "4  Pokemon Red/Pokemon Blue       GB             1996  Role-Playing     11.27   \n",
       "\n",
       "   eu_sales  jp_sales  other_sales  critic_score  user_score rating  sum_sales  \n",
       "0     28.96      3.77         8.45          76.0         8.0      E      82.54  \n",
       "1      3.58      6.81         0.77           NaN         NaN    NaN      40.24  \n",
       "2     12.76      3.79         3.29          82.0         8.3      E      35.52  \n",
       "3     10.93      3.28         2.95          80.0         8.0      E      32.77  \n",
       "4      8.89     10.22         1.00           NaN         NaN    NaN      31.38  "
      ]
     },
     "execution_count": 36,
     "metadata": {},
     "output_type": "execute_result"
    }
   ],
   "source": [
    "df['sum_sales'] = df['na_sales'] + df['eu_sales'] + df['jp_sales']+ df['other_sales']\n",
    "df.head()"
   ]
  },
  {
   "cell_type": "markdown",
   "metadata": {},
   "source": [
    "### Шаг 3. Проведите исследовательский анализ данных"
   ]
  },
  {
   "cell_type": "markdown",
   "metadata": {},
   "source": [
    "#### Посмотрите, сколько игр выпускалось в разные годы. Важны ли данные за все периоды?"
   ]
  },
  {
   "cell_type": "code",
   "execution_count": 37,
   "metadata": {},
   "outputs": [
    {
     "data": {
      "text/plain": [
       "<AxesSubplot:title={'center':'распределение игр по годам'}, xlabel='год выпуска', ylabel='кол-во игр'>"
      ]
     },
     "execution_count": 37,
     "metadata": {},
     "output_type": "execute_result"
    },
    {
     "data": {
      "image/png": "[encoded data removed]",
      "text/plain": [
       "<Figure size 1080x360 with 1 Axes>"
      ]
     },
     "metadata": {
      "needs_background": "light"
     },
     "output_type": "display_data"
    }
   ],
   "source": [
    "(\n",
    "    df\n",
    "    .pivot_table(index='year_of_release', values='name', aggfunc='count')\n",
    "    .plot(grid=True, kind = 'bar',figsize=(15, 5),title = 'распределение игр по годам', ylabel = 'кол-во игр',xlabel = 'год выпуска')\n",
    ")"
   ]
  },
  {
   "cell_type": "markdown",
   "metadata": {},
   "source": [
    "Данные за весь период нам не важны, так как наибольшее количество игр выпускалось с 1995 по 2016 год. В 2002 и 2008 годах видим резкие скачки в количестве игр, вероятнее всего это связано с появленеим новых платформ, а следовательно и новых возможностей для разработчиков. с 2012 года наблюдается спад количества новых игр. Также стоит отметить, что с 2012-2016 год наблюдаем относительную стагнацию касаемо количества новых игр."
   ]
  },
  {
   "cell_type": "markdown",
   "metadata": {},
   "source": [
    "#### Посмотрите, как менялись продажи по платформам. Выберите платформы с наибольшими суммарными продажами и постройте распределение по годам. За какой характерный срок появляются новые и исчезают старые платформы?"
   ]
  },
  {
   "cell_type": "code",
   "execution_count": 19,
   "metadata": {},
   "outputs": [
    {
     "data": {
      "text/plain": [
       "<AxesSubplot:title={'center':'распределение продаж по годам'}, xlabel='год выпуска', ylabel='продажи'>"
      ]
     },
     "execution_count": 19,
     "metadata": {},
     "output_type": "execute_result"
    },
    {
     "data": {
      "image/png": "[encoded data removed]",
      "text/plain": [
       "<Figure size 1080x360 with 1 Axes>"
      ]
     },
     "metadata": {
      "needs_background": "light"
     },
     "output_type": "display_data"
    }
   ],
   "source": [
    "(\n",
    "    df\n",
    "    .pivot_table(index='platform', values='sum_sales', aggfunc='sum')\n",
    "    .sort_values(by='sum_sales', ascending=False)\n",
    "    .plot(grid=True, kind = 'bar',figsize=(15, 5),title = 'распределение продаж по годам', ylabel = 'продажи',xlabel = 'год выпуска')\n",
    ")\n"
   ]
  },
  {
   "cell_type": "markdown",
   "metadata": {},
   "source": [
    "Возьмем топ-6 для дальнейшего анализа."
   ]
  },
  {
   "cell_type": "code",
   "execution_count": 20,
   "metadata": {},
   "outputs": [
    {
     "data": {
      "text/plain": [
       "<AxesSubplot:title={'center':'распределение по годам'}, xlabel='год выпуска', ylabel='продажи'>"
      ]
     },
     "execution_count": 20,
     "metadata": {},
     "output_type": "execute_result"
    },
    {
     "data": {
      "image/png": "[encoded data removed]",
      "text/plain": [
       "<Figure size 1080x360 with 1 Axes>"
      ]
     },
     "metadata": {
      "needs_background": "light"
     },
     "output_type": "display_data"
    }
   ],
   "source": [
    "platform_max = df.query('platform in [\"PS2\", \"X360\" , \"DS\", \"PS3\", \"Wii\", \"PS\" ]')\n",
    "platform_max.pivot_table(index = 'year_of_release', values = 'sum_sales', aggfunc = 'sum').plot(grid=True, kind = 'bar', \\\n",
    "                                                                                          figsize=(15, 5), \\\n",
    "                                                                                          title = 'распределение по годам',\\\n",
    "                                                                                          ylabel = 'продажи',\\\n",
    "                                                                                         xlabel = 'год выпуска')"
   ]
  },
  {
   "cell_type": "markdown",
   "metadata": {},
   "source": [
    " Посмотрим за какой характерный срок появляются новые и исчезают старые платформы:"
   ]
  },
  {
   "cell_type": "code",
   "execution_count": 38,
   "metadata": {},
   "outputs": [
    {
     "data": {
      "text/plain": [
       "<AxesSubplot:title={'center':'PS2'}, xlabel='год выпуска', ylabel='продажи'>"
      ]
     },
     "execution_count": 38,
     "metadata": {},
     "output_type": "execute_result"
    },
    {
     "data": {
      "image/png": "[encoded data removed]",
      "text/plain": [
       "<Figure size 1080x360 with 1 Axes>"
      ]
     },
     "metadata": {
      "needs_background": "light"
     },
     "output_type": "display_data"
    }
   ],
   "source": [
    "(platform_max\n",
    "    .query('platform == \"PS2\"')\n",
    "    .pivot_table(index = 'year_of_release', values = 'sum_sales', aggfunc = 'sum')\n",
    "    .sort_values('year_of_release')['sum_sales']\n",
    "    .plot(grid=True, kind = 'bar', figsize=(15, 5), title = 'PS2',\\\n",
    "           ylabel = 'продажи',xlabel = 'год выпуска'))"
   ]
  },
  {
   "cell_type": "code",
   "execution_count": 23,
   "metadata": {},
   "outputs": [
    {
     "data": {
      "text/plain": [
       "<AxesSubplot:title={'center':'X360'}, xlabel='год выпуска', ylabel='продажи'>"
      ]
     },
     "execution_count": 23,
     "metadata": {},
     "output_type": "execute_result"
    },
    {
     "data": {
      "image/png": "[encoded data removed]",
      "text/plain": [
       "<Figure size 1080x360 with 1 Axes>"
      ]
     },
     "metadata": {
      "needs_background": "light"
     },
     "output_type": "display_data"
    }
   ],
   "source": [
    "(platform_max\n",
    "    .query('platform == \"X360\"')\n",
    "    .pivot_table(index = 'year_of_release', values = 'sum_sales', aggfunc = 'sum')\n",
    "    .sort_values('year_of_release')['sum_sales']\n",
    "    .plot(grid=True, kind = 'bar', figsize=(15, 5), title = 'X360',\\\n",
    "           ylabel = 'продажи',xlabel = 'год выпуска'))"
   ]
  },
  {
   "cell_type": "code",
   "execution_count": 24,
   "metadata": {},
   "outputs": [
    {
     "data": {
      "text/plain": [
       "<AxesSubplot:title={'center':'DS'}, xlabel='год выпуска', ylabel='продажи'>"
      ]
     },
     "execution_count": 24,
     "metadata": {},
     "output_type": "execute_result"
    },
    {
     "data": {
      "image/png": "[encoded data removed]",
      "text/plain": [
       "<Figure size 1080x360 with 1 Axes>"
      ]
     },
     "metadata": {
      "needs_background": "light"
     },
     "output_type": "display_data"
    }
   ],
   "source": [
    "(platform_max\n",
    "    .query('platform == \"DS\"')\n",
    "    .pivot_table(index = 'year_of_release', values = 'sum_sales', aggfunc = 'sum')\n",
    "    .sort_values('year_of_release')['sum_sales']\n",
    "    .plot(grid=True, kind = 'bar', figsize=(15, 5), title = 'DS',\\\n",
    "           ylabel = 'продажи',xlabel = 'год выпуска'))"
   ]
  },
  {
   "cell_type": "code",
   "execution_count": 25,
   "metadata": {},
   "outputs": [],
   "source": [
    "platform_max.query('platform == \"DS\" and year_of_release == 1985')\n",
    "platform_max = platform_max.drop(index= 15957)"
   ]
  },
  {
   "cell_type": "code",
   "execution_count": 40,
   "metadata": {},
   "outputs": [
    {
     "data": {
      "text/plain": [
       "<AxesSubplot:title={'center':'DS'}, xlabel='год выпуска', ylabel='продажи'>"
      ]
     },
     "execution_count": 40,
     "metadata": {},
     "output_type": "execute_result"
    },
    {
     "data": {
      "image/png": "[encoded data removed]",
      "text/plain": [
       "<Figure size 1080x360 with 1 Axes>"
      ]
     },
     "metadata": {
      "needs_background": "light"
     },
     "output_type": "display_data"
    }
   ],
   "source": [
    "(platform_max\n",
    "    .query('platform == \"DS\"')\n",
    "    .pivot_table(index = 'year_of_release', values = 'sum_sales', aggfunc = 'sum')\n",
    "    .sort_values('year_of_release')['sum_sales']\n",
    "    .plot(grid=True, kind = 'bar', figsize=(15, 5), title = 'DS',\\\n",
    "           ylabel = 'продажи',xlabel = 'год выпуска'))"
   ]
  },
  {
   "cell_type": "code",
   "execution_count": 41,
   "metadata": {},
   "outputs": [
    {
     "data": {
      "text/plain": [
       "<AxesSubplot:title={'center':'PS3'}, xlabel='год выпуска', ylabel='продажи'>"
      ]
     },
     "execution_count": 41,
     "metadata": {},
     "output_type": "execute_result"
    },
    {
     "data": {
      "image/png": "[encoded data removed]",
      "text/plain": [
       "<Figure size 1080x360 with 1 Axes>"
      ]
     },
     "metadata": {
      "needs_background": "light"
     },
     "output_type": "display_data"
    }
   ],
   "source": [
    "(platform_max\n",
    "    .query('platform == \"PS3\"')\n",
    "    .pivot_table(index = 'year_of_release', values = 'sum_sales', aggfunc = 'sum')\n",
    "    .sort_values('year_of_release')['sum_sales']\n",
    "    .plot(grid=True, kind = 'bar', figsize=(15, 5), title = 'PS3',\\\n",
    "           ylabel = 'продажи',xlabel = 'год выпуска'))"
   ]
  },
  {
   "cell_type": "code",
   "execution_count": 42,
   "metadata": {},
   "outputs": [
    {
     "data": {
      "text/plain": [
       "<AxesSubplot:title={'center':'Wii'}, xlabel='год выпуска', ylabel='продажи'>"
      ]
     },
     "execution_count": 42,
     "metadata": {},
     "output_type": "execute_result"
    },
    {
     "data": {
      "image/png": "[encoded data removed]",
      "text/plain": [
       "<Figure size 1080x360 with 1 Axes>"
      ]
     },
     "metadata": {
      "needs_background": "light"
     },
     "output_type": "display_data"
    }
   ],
   "source": [
    "(platform_max\n",
    "    .query('platform == \"Wii\"')\n",
    "    .pivot_table(index = 'year_of_release', values = 'sum_sales', aggfunc = 'sum')\n",
    "    .sort_values('year_of_release')['sum_sales']\n",
    "    .plot(grid=True, kind = 'bar', figsize=(15, 5), title = 'Wii',\\\n",
    "           ylabel = 'продажи',xlabel = 'год выпуска'))"
   ]
  },
  {
   "cell_type": "code",
   "execution_count": 43,
   "metadata": {},
   "outputs": [
    {
     "data": {
      "text/plain": [
       "<AxesSubplot:title={'center':'PS'}, xlabel='год выпуска', ylabel='продажи'>"
      ]
     },
     "execution_count": 43,
     "metadata": {},
     "output_type": "execute_result"
    },
    {
     "data": {
      "image/png": "[encoded data removed]",
      "text/plain": [
       "<Figure size 1080x360 with 1 Axes>"
      ]
     },
     "metadata": {
      "needs_background": "light"
     },
     "output_type": "display_data"
    }
   ],
   "source": [
    "(platform_max\n",
    "    .query('platform == \"PS\"')\n",
    "    .pivot_table(index = 'year_of_release', values = 'sum_sales', aggfunc = 'sum')\n",
    "    .sort_values('year_of_release')['sum_sales']\n",
    "    .plot(grid=True, kind = 'bar', figsize=(15, 5), title = 'PS',\\\n",
    "           ylabel = 'продажи',xlabel = 'год выпуска'))"
   ]
  },
  {
   "cell_type": "markdown",
   "metadata": {},
   "source": [
    "По графикам можно сделать вывод, что платформы используются в течение 10-12 лет. Наибольшее количество продаж приходится на 4-6 год с момента появления платформы."
   ]
  },
  {
   "cell_type": "markdown",
   "metadata": {},
   "source": [
    "#### Какие платформы лидируют по продажам, растут или падают? Выберите несколько потенциально прибыльных платформ.\n",
    "Возьмите данные за соответствующий актуальный период. Актуальный период определите самостоятельно в результате исследования предыдущих вопросов. Основной фактор — эти данные помогут построить прогноз на 2017 год.\n",
    "Не учитывайте в работе данные за предыдущие годы."
   ]
  },
  {
   "cell_type": "code",
   "execution_count": 44,
   "metadata": {},
   "outputs": [
    {
     "data": {
      "text/plain": [
       "<AxesSubplot:title={'center':'распределение продаж по годам'}, xlabel='год выпуска', ylabel='продажи'>"
      ]
     },
     "execution_count": 44,
     "metadata": {},
     "output_type": "execute_result"
    },
    {
     "data": {
      "image/png": "[encoded data removed]",
      "text/plain": [
       "<Figure size 1080x360 with 1 Axes>"
      ]
     },
     "metadata": {
      "needs_background": "light"
     },
     "output_type": "display_data"
    }
   ],
   "source": [
    "(\n",
    "    df\n",
    "    .query('year_of_release >= 2010')\n",
    "    .pivot_table(index='platform', values='sum_sales', aggfunc='sum')\n",
    "    .sort_values(by='sum_sales')\n",
    "    .plot(grid=True, kind = 'bar',figsize=(15, 5),title = 'распределение продаж по годам', ylabel = 'продажи',xlabel = 'год выпуска')\n",
    ")"
   ]
  },
  {
   "cell_type": "markdown",
   "metadata": {},
   "source": [
    "На графике видим платформы, которые принесли наибольшую прибыль за последние 6 лет. Но все ли можно считать перспективными? нет, так как стоит учитывать, что платформы теряют актуальность каждые 10-12 лет. У PS3 и X360 уже был пик по продажам в 2010-2011 годах, сейчас их продажи падают. Ситуация с Wii еще хуже, чем с первыми двумя. Проверим PS4, 3DS XOne, WiiU на предмет перспективы роста продаж. "
   ]
  },
  {
   "cell_type": "code",
   "execution_count": 45,
   "metadata": {},
   "outputs": [
    {
     "data": {
      "text/plain": [
       "<AxesSubplot:title={'center':'PS4'}, xlabel='год выпуска', ylabel='продажи'>"
      ]
     },
     "execution_count": 45,
     "metadata": {},
     "output_type": "execute_result"
    },
    {
     "data": {
      "image/png": "[encoded data removed]",
      "text/plain": [
       "<Figure size 1080x360 with 1 Axes>"
      ]
     },
     "metadata": {
      "needs_background": "light"
     },
     "output_type": "display_data"
    }
   ],
   "source": [
    "(df\n",
    "    .query('platform == \"PS4\"')\n",
    "    .pivot_table(index = 'year_of_release', values = 'sum_sales', aggfunc = 'sum')\n",
    "    .sort_values('year_of_release')['sum_sales']\n",
    "    .plot(grid=True, kind = 'bar', figsize=(15, 5), title = 'PS4',\\\n",
    "           ylabel = 'продажи',xlabel = 'год выпуска'))"
   ]
  },
  {
   "cell_type": "code",
   "execution_count": 46,
   "metadata": {},
   "outputs": [
    {
     "data": {
      "text/plain": [
       "<AxesSubplot:title={'center':'3DS'}, xlabel='год выпуска', ylabel='продажи'>"
      ]
     },
     "execution_count": 46,
     "metadata": {},
     "output_type": "execute_result"
    },
    {
     "data": {
      "image/png": "[encoded data removed]",
      "text/plain": [
       "<Figure size 1080x360 with 1 Axes>"
      ]
     },
     "metadata": {
      "needs_background": "light"
     },
     "output_type": "display_data"
    }
   ],
   "source": [
    "(df\n",
    "    .query('platform == \"3DS\"')\n",
    "    .pivot_table(index = 'year_of_release', values = 'sum_sales', aggfunc = 'sum')\n",
    "    .sort_values('year_of_release')['sum_sales']\n",
    "    .plot(grid=True, kind = 'bar', figsize=(15, 5), title = '3DS',\\\n",
    "           ylabel = 'продажи',xlabel = 'год выпуска'))"
   ]
  },
  {
   "cell_type": "markdown",
   "metadata": {},
   "source": [
    "Существует уже достаточно продолжительное время и продажи идут на спад. Не является перспективной платформой."
   ]
  },
  {
   "cell_type": "code",
   "execution_count": 47,
   "metadata": {},
   "outputs": [
    {
     "data": {
      "text/plain": [
       "<AxesSubplot:title={'center':'XOne'}, xlabel='год выпуска', ylabel='продажи'>"
      ]
     },
     "execution_count": 47,
     "metadata": {},
     "output_type": "execute_result"
    },
    {
     "data": {
      "image/png": "[encoded data removed]",
      "text/plain": [
       "<Figure size 1080x360 with 1 Axes>"
      ]
     },
     "metadata": {
      "needs_background": "light"
     },
     "output_type": "display_data"
    }
   ],
   "source": [
    "(df\n",
    "    .query('platform == \"XOne\"')\n",
    "    .pivot_table(index = 'year_of_release', values = 'sum_sales', aggfunc = 'sum')\n",
    "    .sort_values('year_of_release')['sum_sales']\n",
    "    .plot(grid=True, kind = 'bar', figsize=(15, 5), title = 'XOne',\\\n",
    "           ylabel = 'продажи',xlabel = 'год выпуска'))"
   ]
  },
  {
   "cell_type": "code",
   "execution_count": 48,
   "metadata": {},
   "outputs": [
    {
     "data": {
      "text/plain": [
       "<AxesSubplot:title={'center':'WiiU'}, xlabel='год выпуска', ylabel='продажи'>"
      ]
     },
     "execution_count": 48,
     "metadata": {},
     "output_type": "execute_result"
    },
    {
     "data": {
      "image/png": "[encoded data removed]",
      "text/plain": [
       "<Figure size 1080x360 with 1 Axes>"
      ]
     },
     "metadata": {
      "needs_background": "light"
     },
     "output_type": "display_data"
    }
   ],
   "source": [
    "(df\n",
    "    .query('platform == \"WiiU\"')\n",
    "    .pivot_table(index = 'year_of_release', values = 'sum_sales', aggfunc = 'sum')\n",
    "    .sort_values('year_of_release')['sum_sales']\n",
    "    .plot(grid=True, kind = 'bar', figsize=(15, 5), title = 'WiiU',\\\n",
    "           ylabel = 'продажи',xlabel = 'год выпуска'))"
   ]
  },
  {
   "cell_type": "markdown",
   "metadata": {},
   "source": [
    "Появилась относительно недавно, но продажи падают поледние 2 года. Не является перспективной платформой."
   ]
  },
  {
   "cell_type": "code",
   "execution_count": 49,
   "metadata": {},
   "outputs": [
    {
     "data": {
      "text/plain": [
       "<AxesSubplot:title={'center':'PSP'}, xlabel='год выпуска', ylabel='продажи'>"
      ]
     },
     "execution_count": 49,
     "metadata": {},
     "output_type": "execute_result"
    },
    {
     "data": {
      "image/png": "[encoded data removed]",
      "text/plain": [
       "<Figure size 1080x360 with 1 Axes>"
      ]
     },
     "metadata": {
      "needs_background": "light"
     },
     "output_type": "display_data"
    }
   ],
   "source": [
    "(df\n",
    "    .query('platform == \"PSP\"')\n",
    "    .pivot_table(index = 'year_of_release', values = 'sum_sales', aggfunc = 'sum')\n",
    "    .sort_values('year_of_release')['sum_sales']\n",
    "    .plot(grid=True, kind = 'bar', figsize=(15, 5), title = 'PSP',\\\n",
    "           ylabel = 'продажи',xlabel = 'год выпуска'))"
   ]
  },
  {
   "cell_type": "markdown",
   "metadata": {},
   "source": [
    "Существует уже достаточно продолжительное время и продажи идут на спад. Не является перспективной платформой."
   ]
  },
  {
   "cell_type": "markdown",
   "metadata": {},
   "source": [
    "Делаем вывод, что наиболее перспективными платформами являются PS4, XOne."
   ]
  },
  {
   "cell_type": "markdown",
   "metadata": {},
   "source": [
    "#### Постройте график «ящик с усами» по глобальным продажам игр в разбивке по платформам. Опишите результат."
   ]
  },
  {
   "cell_type": "code",
   "execution_count": 88,
   "metadata": {},
   "outputs": [
    {
     "data": {
      "text/plain": [
       "Text(0, 0.5, 'Продажи')"
      ]
     },
     "execution_count": 88,
     "metadata": {},
     "output_type": "execute_result"
    },
    {
     "data": {
      "image/png": "[encoded data removed]",
      "text/plain": [
       "<Figure size 1080x360 with 1 Axes>"
      ]
     },
     "metadata": {
      "needs_background": "light"
     },
     "output_type": "display_data"
    }
   ],
   "source": [
    "actual_pl = df.query('year_of_release >= 2013')\n",
    "\n",
    "plt.figure(figsize=(15,5))\n",
    "sns.boxplot(data=actual_pl, x='platform', y='sum_sales')\n",
    "plt.title('Глобальные продажи по платформам', fontsize=15)\n",
    "plt.xlabel('Платформа', fontsize=12)\n",
    "plt.ylabel('Продажи',fontsize=12)"
   ]
  },
  {
   "cell_type": "code",
   "execution_count": 51,
   "metadata": {},
   "outputs": [
    {
     "data": {
      "text/plain": [
       "Text(0, 0.5, 'Продажи')"
      ]
     },
     "execution_count": 51,
     "metadata": {},
     "output_type": "execute_result"
    },
    {
     "data": {
      "image/png": "[encoded data removed]",
      "text/plain": [
       "<Figure size 1080x360 with 1 Axes>"
      ]
     },
     "metadata": {
      "needs_background": "light"
     },
     "output_type": "display_data"
    }
   ],
   "source": [
    "plt.figure(figsize=(15,5))\n",
    "sns.boxplot(data=actual_pl, x='platform', y='sum_sales')\n",
    "plt.ylim([0, 0.85])\n",
    "plt.title('Глобальные продажи по платформам', fontsize=15)\n",
    "plt.xlabel('Платформа', fontsize=12)\n",
    "plt.ylabel('Продажи',fontsize=12)"
   ]
  },
  {
   "cell_type": "code",
   "execution_count": null,
   "metadata": {},
   "outputs": [],
   "source": [
    "actual_pl.describe()"
   ]
  },
  {
   "cell_type": "markdown",
   "metadata": {},
   "source": [
    "Медианная сумма продаж 0.13, по всем платформам присутствуют выбросы."
   ]
  },
  {
   "cell_type": "markdown",
   "metadata": {},
   "source": [
    "#### Посмотрите, как влияют на продажи внутри одной популярной платформы отзывы пользователей и критиков. Постройте диаграмму рассеяния и посчитайте корреляцию между отзывами и продажами. Сформулируйте выводы."
   ]
  },
  {
   "cell_type": "markdown",
   "metadata": {},
   "source": [
    "Bозьмем для анализа лидера по продажам -- платформу PS3."
   ]
  },
  {
   "cell_type": "code",
   "execution_count": 52,
   "metadata": {},
   "outputs": [
    {
     "data": {
      "text/html": [
       "<div>\n",
       "<style scoped>\n",
       "    .dataframe tbody tr th:only-of-type {\n",
       "        vertical-align: middle;\n",
       "    }\n",
       "\n",
       "    .dataframe tbody tr th {\n",
       "        vertical-align: top;\n",
       "    }\n",
       "\n",
       "    .dataframe thead th {\n",
       "        text-align: right;\n",
       "    }\n",
       "</style>\n",
       "<table border=\"1\" class=\"dataframe\">\n",
       "  <thead>\n",
       "    <tr style=\"text-align: right;\">\n",
       "      <th></th>\n",
       "      <th>name</th>\n",
       "      <th>platform</th>\n",
       "      <th>year_of_release</th>\n",
       "      <th>genre</th>\n",
       "      <th>na_sales</th>\n",
       "      <th>eu_sales</th>\n",
       "      <th>jp_sales</th>\n",
       "      <th>other_sales</th>\n",
       "      <th>critic_score</th>\n",
       "      <th>user_score</th>\n",
       "      <th>rating</th>\n",
       "      <th>sum_sales</th>\n",
       "    </tr>\n",
       "  </thead>\n",
       "  <tbody>\n",
       "    <tr>\n",
       "      <th>16</th>\n",
       "      <td>Grand Theft Auto V</td>\n",
       "      <td>PS3</td>\n",
       "      <td>2013</td>\n",
       "      <td>Action</td>\n",
       "      <td>7.02</td>\n",
       "      <td>9.09</td>\n",
       "      <td>0.98</td>\n",
       "      <td>3.96</td>\n",
       "      <td>97.0</td>\n",
       "      <td>8.2</td>\n",
       "      <td>M</td>\n",
       "      <td>21.05</td>\n",
       "    </tr>\n",
       "    <tr>\n",
       "      <th>69</th>\n",
       "      <td>Call of Duty: Ghosts</td>\n",
       "      <td>PS3</td>\n",
       "      <td>2013</td>\n",
       "      <td>Shooter</td>\n",
       "      <td>4.10</td>\n",
       "      <td>3.63</td>\n",
       "      <td>0.38</td>\n",
       "      <td>1.25</td>\n",
       "      <td>71.0</td>\n",
       "      <td>2.6</td>\n",
       "      <td>M</td>\n",
       "      <td>9.36</td>\n",
       "    </tr>\n",
       "    <tr>\n",
       "      <th>126</th>\n",
       "      <td>FIFA 14</td>\n",
       "      <td>PS3</td>\n",
       "      <td>2013</td>\n",
       "      <td>Sports</td>\n",
       "      <td>0.78</td>\n",
       "      <td>4.24</td>\n",
       "      <td>0.07</td>\n",
       "      <td>1.37</td>\n",
       "      <td>86.0</td>\n",
       "      <td>4.3</td>\n",
       "      <td>E</td>\n",
       "      <td>6.46</td>\n",
       "    </tr>\n",
       "    <tr>\n",
       "      <th>149</th>\n",
       "      <td>The Last of Us</td>\n",
       "      <td>PS3</td>\n",
       "      <td>2013</td>\n",
       "      <td>Action</td>\n",
       "      <td>2.41</td>\n",
       "      <td>2.18</td>\n",
       "      <td>0.28</td>\n",
       "      <td>0.99</td>\n",
       "      <td>95.0</td>\n",
       "      <td>9.1</td>\n",
       "      <td>M</td>\n",
       "      <td>5.86</td>\n",
       "    </tr>\n",
       "    <tr>\n",
       "      <th>337</th>\n",
       "      <td>Assassin's Creed IV: Black Flag</td>\n",
       "      <td>PS3</td>\n",
       "      <td>2013</td>\n",
       "      <td>Action</td>\n",
       "      <td>1.33</td>\n",
       "      <td>1.68</td>\n",
       "      <td>0.13</td>\n",
       "      <td>0.57</td>\n",
       "      <td>88.0</td>\n",
       "      <td>8.1</td>\n",
       "      <td>M</td>\n",
       "      <td>3.71</td>\n",
       "    </tr>\n",
       "  </tbody>\n",
       "</table>\n",
       "</div>"
      ],
      "text/plain": [
       "                                name platform  year_of_release    genre  \\\n",
       "16                Grand Theft Auto V      PS3             2013   Action   \n",
       "69              Call of Duty: Ghosts      PS3             2013  Shooter   \n",
       "126                          FIFA 14      PS3             2013   Sports   \n",
       "149                   The Last of Us      PS3             2013   Action   \n",
       "337  Assassin's Creed IV: Black Flag      PS3             2013   Action   \n",
       "\n",
       "     na_sales  eu_sales  jp_sales  other_sales  critic_score  user_score  \\\n",
       "16       7.02      9.09      0.98         3.96          97.0         8.2   \n",
       "69       4.10      3.63      0.38         1.25          71.0         2.6   \n",
       "126      0.78      4.24      0.07         1.37          86.0         4.3   \n",
       "149      2.41      2.18      0.28         0.99          95.0         9.1   \n",
       "337      1.33      1.68      0.13         0.57          88.0         8.1   \n",
       "\n",
       "    rating  sum_sales  \n",
       "16       M      21.05  \n",
       "69       M       9.36  \n",
       "126      E       6.46  \n",
       "149      M       5.86  \n",
       "337      M       3.71  "
      ]
     },
     "execution_count": 52,
     "metadata": {},
     "output_type": "execute_result"
    }
   ],
   "source": [
    "PS3 = actual_pl.query('platform == \"PS3\"').dropna()\n",
    "PS3.head()\n"
   ]
  },
  {
   "cell_type": "code",
   "execution_count": 53,
   "metadata": {},
   "outputs": [
    {
     "name": "stdout",
     "output_type": "stream",
     "text": [
      "Корреляция между отзывами пользователей и продажами равна: 0.0023944027357566925\n"
     ]
    },
    {
     "data": {
      "image/png": "[encoded data removed]",
      "text/plain": [
       "<Figure size 1080x360 with 1 Axes>"
      ]
     },
     "metadata": {
      "needs_background": "light"
     },
     "output_type": "display_data"
    }
   ],
   "source": [
    "PS3 = actual_pl.query('platform == \"PS3\"')\n",
    "PS3.plot.scatter (x = 'user_score', y = 'sum_sales', figsize=(15, 5), grid=True, title = 'Диаграмма рассеяния')\n",
    "print('Корреляция между отзывами пользователей и продажами равна:', PS3['sum_sales'].corr(PS3['user_score']))"
   ]
  },
  {
   "cell_type": "markdown",
   "metadata": {},
   "source": [
    "Отзывы пользователей слабо влияют на продажи внутри одной популярной платформы. "
   ]
  },
  {
   "cell_type": "code",
   "execution_count": 54,
   "metadata": {},
   "outputs": [
    {
     "name": "stdout",
     "output_type": "stream",
     "text": [
      "Корреляция между отзывами критиков и продажами равна: 0.3342853393371919\n"
     ]
    },
    {
     "data": {
      "image/png": "[encoded data removed]",
      "text/plain": [
       "<Figure size 1080x360 with 1 Axes>"
      ]
     },
     "metadata": {
      "needs_background": "light"
     },
     "output_type": "display_data"
    }
   ],
   "source": [
    "PS3.plot.scatter (x = 'critic_score', y = 'sum_sales', figsize=(15, 5), grid=True,\\\n",
    "                  title = 'Диаграмма рассеяния' )\n",
    "print('Корреляция между отзывами критиков и продажами равна:', PS3['sum_sales'].corr(PS3['critic_score']))"
   ]
  },
  {
   "cell_type": "markdown",
   "metadata": {},
   "source": [
    "Оценки критиков демонстрируют прямую, средне-слабую корреляцию с \"цифрами\" продаж. Оценки пользователей корреляции с продажами не имеют."
   ]
  },
  {
   "cell_type": "markdown",
   "metadata": {},
   "source": [
    "#### Соотнесите выводы с продажами игр на других платформах."
   ]
  },
  {
   "cell_type": "code",
   "execution_count": 56,
   "metadata": {
    "scrolled": true
   },
   "outputs": [
    {
     "name": "stdout",
     "output_type": "stream",
     "text": [
      "<class 'pandas.core.frame.DataFrame'>\n",
      "Int64Index: 942 entries, 16 to 16692\n",
      "Data columns (total 12 columns):\n",
      " #   Column           Non-Null Count  Dtype  \n",
      "---  ------           --------------  -----  \n",
      " 0   name             942 non-null    object \n",
      " 1   platform         942 non-null    object \n",
      " 2   year_of_release  942 non-null    int64  \n",
      " 3   genre            942 non-null    object \n",
      " 4   na_sales         942 non-null    float64\n",
      " 5   eu_sales         942 non-null    float64\n",
      " 6   jp_sales         942 non-null    float64\n",
      " 7   other_sales      942 non-null    float64\n",
      " 8   critic_score     942 non-null    float64\n",
      " 9   user_score       942 non-null    float64\n",
      " 10  rating           942 non-null    object \n",
      " 11  sum_sales        942 non-null    float64\n",
      "dtypes: float64(7), int64(1), object(4)\n",
      "memory usage: 95.7+ KB\n"
     ]
    }
   ],
   "source": [
    "actual_pl_without_nan = actual_pl.dropna()\n",
    "actual_pl_without_nan.info()"
   ]
  },
  {
   "cell_type": "code",
   "execution_count": 59,
   "metadata": {},
   "outputs": [
    {
     "name": "stdout",
     "output_type": "stream",
     "text": [
      "Корреляция между отзывами пользователей и продажами равна: -0.0026078133545982744\n"
     ]
    },
    {
     "data": {
      "image/png": "[encoded data removed]",
      "text/plain": [
       "<Figure size 1080x360 with 1 Axes>"
      ]
     },
     "metadata": {
      "needs_background": "light"
     },
     "output_type": "display_data"
    }
   ],
   "source": [
    "actual_pl_without_nan.plot.scatter (x = 'user_score', y = 'sum_sales', figsize=(15, 5), grid=True, title = 'Диаграмма рассеяния')\n",
    "print('Корреляция между отзывами пользователей и продажами равна:', actual_pl['sum_sales'].corr(actual_pl['user_score']))"
   ]
  },
  {
   "cell_type": "code",
   "execution_count": 60,
   "metadata": {},
   "outputs": [
    {
     "name": "stdout",
     "output_type": "stream",
     "text": [
      "Корреляция между отзывами критиков и продажами равна: 0.3136995151027371\n"
     ]
    },
    {
     "data": {
      "image/png": "[encoded data removed]",
      "text/plain": [
       "<Figure size 1080x360 with 1 Axes>"
      ]
     },
     "metadata": {
      "needs_background": "light"
     },
     "output_type": "display_data"
    }
   ],
   "source": [
    "actual_pl_without_nan.plot.scatter (x = 'critic_score', y = 'sum_sales', figsize=(15, 5), grid=True, title = 'Диаграмма рассеяния')\n",
    "print('Корреляция между отзывами критиков и продажами равна:', actual_pl['sum_sales'].corr(actual_pl['critic_score']))"
   ]
  },
  {
   "cell_type": "markdown",
   "metadata": {},
   "source": [
    "Рассматривая продажи игр на других платформах, видим те же зависимости: oценки критиков демонстрируют прямую, средне-слабую корреляцию с \"цифрами\" продаж. Оценки пользователей корреляции с продажами не имеют."
   ]
  },
  {
   "cell_type": "markdown",
   "metadata": {},
   "source": [
    "#### Посмотрите на общее распределение игр по жанрам. Что можно сказать о самых прибыльных жанрах? Выделяются ли жанры с высокими и низкими продажами?"
   ]
  },
  {
   "cell_type": "code",
   "execution_count": 61,
   "metadata": {},
   "outputs": [
    {
     "data": {
      "text/plain": [
       "<AxesSubplot:title={'center':'PSP'}, xlabel='год выпуска', ylabel='продажи'>"
      ]
     },
     "execution_count": 61,
     "metadata": {},
     "output_type": "execute_result"
    },
    {
     "data": {
      "image/png": "[encoded data removed]",
      "text/plain": [
       "<Figure size 1080x360 with 1 Axes>"
      ]
     },
     "metadata": {
      "needs_background": "light"
     },
     "output_type": "display_data"
    }
   ],
   "source": [
    "(\n",
    "    actual_pl_without_nan\n",
    "    .pivot_table(index = 'genre', values = 'sum_sales', aggfunc = 'median')\n",
    "    .sort_values('sum_sales')\n",
    "    .plot(grid=True, kind = 'bar', figsize=(15, 5), title = 'PSP',\\\n",
    "           ylabel = 'продажи',xlabel = 'год выпуска'))"
   ]
  },
  {
   "cell_type": "markdown",
   "metadata": {},
   "source": [
    "Самым продаваемым жанром игр является Action, и наобот меньше всего прибыли принес жанр Puzzle."
   ]
  },
  {
   "cell_type": "code",
   "execution_count": 62,
   "metadata": {},
   "outputs": [
    {
     "data": {
      "text/html": [
       "<div>\n",
       "<style scoped>\n",
       "    .dataframe tbody tr th:only-of-type {\n",
       "        vertical-align: middle;\n",
       "    }\n",
       "\n",
       "    .dataframe tbody tr th {\n",
       "        vertical-align: top;\n",
       "    }\n",
       "\n",
       "    .dataframe thead th {\n",
       "        text-align: right;\n",
       "    }\n",
       "</style>\n",
       "<table border=\"1\" class=\"dataframe\">\n",
       "  <thead>\n",
       "    <tr style=\"text-align: right;\">\n",
       "      <th></th>\n",
       "      <th>year_of_release</th>\n",
       "      <th>na_sales</th>\n",
       "      <th>eu_sales</th>\n",
       "      <th>jp_sales</th>\n",
       "      <th>other_sales</th>\n",
       "      <th>critic_score</th>\n",
       "      <th>user_score</th>\n",
       "      <th>sum_sales</th>\n",
       "    </tr>\n",
       "  </thead>\n",
       "  <tbody>\n",
       "    <tr>\n",
       "      <th>count</th>\n",
       "      <td>766.000000</td>\n",
       "      <td>766.000000</td>\n",
       "      <td>766.000000</td>\n",
       "      <td>766.000000</td>\n",
       "      <td>766.000000</td>\n",
       "      <td>313.000000</td>\n",
       "      <td>389.000000</td>\n",
       "      <td>766.000000</td>\n",
       "    </tr>\n",
       "    <tr>\n",
       "      <th>mean</th>\n",
       "      <td>2014.603133</td>\n",
       "      <td>0.164556</td>\n",
       "      <td>0.154217</td>\n",
       "      <td>0.052859</td>\n",
       "      <td>0.048564</td>\n",
       "      <td>71.453674</td>\n",
       "      <td>6.837532</td>\n",
       "      <td>0.420196</td>\n",
       "    </tr>\n",
       "    <tr>\n",
       "      <th>std</th>\n",
       "      <td>1.043719</td>\n",
       "      <td>0.542802</td>\n",
       "      <td>0.516450</td>\n",
       "      <td>0.168198</td>\n",
       "      <td>0.191316</td>\n",
       "      <td>11.906093</td>\n",
       "      <td>1.330173</td>\n",
       "      <td>1.253909</td>\n",
       "    </tr>\n",
       "    <tr>\n",
       "      <th>min</th>\n",
       "      <td>2013.000000</td>\n",
       "      <td>0.000000</td>\n",
       "      <td>0.000000</td>\n",
       "      <td>0.000000</td>\n",
       "      <td>0.000000</td>\n",
       "      <td>26.000000</td>\n",
       "      <td>2.000000</td>\n",
       "      <td>0.010000</td>\n",
       "    </tr>\n",
       "    <tr>\n",
       "      <th>25%</th>\n",
       "      <td>2014.000000</td>\n",
       "      <td>0.000000</td>\n",
       "      <td>0.000000</td>\n",
       "      <td>0.000000</td>\n",
       "      <td>0.000000</td>\n",
       "      <td>66.000000</td>\n",
       "      <td>6.300000</td>\n",
       "      <td>0.030000</td>\n",
       "    </tr>\n",
       "    <tr>\n",
       "      <th>50%</th>\n",
       "      <td>2015.000000</td>\n",
       "      <td>0.020000</td>\n",
       "      <td>0.020000</td>\n",
       "      <td>0.010000</td>\n",
       "      <td>0.010000</td>\n",
       "      <td>73.000000</td>\n",
       "      <td>7.100000</td>\n",
       "      <td>0.110000</td>\n",
       "    </tr>\n",
       "    <tr>\n",
       "      <th>75%</th>\n",
       "      <td>2015.000000</td>\n",
       "      <td>0.120000</td>\n",
       "      <td>0.120000</td>\n",
       "      <td>0.050000</td>\n",
       "      <td>0.030000</td>\n",
       "      <td>79.000000</td>\n",
       "      <td>7.800000</td>\n",
       "      <td>0.337500</td>\n",
       "    </tr>\n",
       "    <tr>\n",
       "      <th>max</th>\n",
       "      <td>2016.000000</td>\n",
       "      <td>9.660000</td>\n",
       "      <td>9.090000</td>\n",
       "      <td>2.790000</td>\n",
       "      <td>3.960000</td>\n",
       "      <td>97.000000</td>\n",
       "      <td>9.100000</td>\n",
       "      <td>21.050000</td>\n",
       "    </tr>\n",
       "  </tbody>\n",
       "</table>\n",
       "</div>"
      ],
      "text/plain": [
       "       year_of_release    na_sales    eu_sales    jp_sales  other_sales  \\\n",
       "count       766.000000  766.000000  766.000000  766.000000   766.000000   \n",
       "mean       2014.603133    0.164556    0.154217    0.052859     0.048564   \n",
       "std           1.043719    0.542802    0.516450    0.168198     0.191316   \n",
       "min        2013.000000    0.000000    0.000000    0.000000     0.000000   \n",
       "25%        2014.000000    0.000000    0.000000    0.000000     0.000000   \n",
       "50%        2015.000000    0.020000    0.020000    0.010000     0.010000   \n",
       "75%        2015.000000    0.120000    0.120000    0.050000     0.030000   \n",
       "max        2016.000000    9.660000    9.090000    2.790000     3.960000   \n",
       "\n",
       "       critic_score  user_score   sum_sales  \n",
       "count    313.000000  389.000000  766.000000  \n",
       "mean      71.453674    6.837532    0.420196  \n",
       "std       11.906093    1.330173    1.253909  \n",
       "min       26.000000    2.000000    0.010000  \n",
       "25%       66.000000    6.300000    0.030000  \n",
       "50%       73.000000    7.100000    0.110000  \n",
       "75%       79.000000    7.800000    0.337500  \n",
       "max       97.000000    9.100000   21.050000  "
      ]
     },
     "execution_count": 62,
     "metadata": {},
     "output_type": "execute_result"
    },
    {
     "data": {
      "image/png": "[encoded data removed]",
      "text/plain": [
       "<Figure size 1080x216 with 1 Axes>"
      ]
     },
     "metadata": {
      "needs_background": "light"
     },
     "output_type": "display_data"
    },
    {
     "data": {
      "image/png": "[encoded data removed]",
      "text/plain": [
       "<Figure size 1080x216 with 1 Axes>"
      ]
     },
     "metadata": {
      "needs_background": "light"
     },
     "output_type": "display_data"
    },
    {
     "data": {
      "image/png": "[encoded data removed]",
      "text/plain": [
       "<Figure size 1080x216 with 1 Axes>"
      ]
     },
     "metadata": {
      "needs_background": "light"
     },
     "output_type": "display_data"
    }
   ],
   "source": [
    "(\n",
    "    actual_pl_without_nan\n",
    "    .query('genre == \"Action\"')\n",
    "    .pivot_table(index = 'year_of_release', values = 'critic_score', aggfunc = 'median')\n",
    "    .plot(grid=True, kind = 'bar', figsize=(15, 3), title = 'Action critic_score',\\\n",
    "           ylabel = 'critic_score',xlabel = 'год выпуска'))\n",
    "\n",
    "(\n",
    "    actual_pl_without_nan\n",
    "    .query('genre == \"Action\"')\n",
    "    .pivot_table(index = 'year_of_release', values = 'sum_sales', aggfunc = 'median')\n",
    "    .plot(grid=True, kind = 'bar', figsize=(15, 3), title = 'Action sum_sales',\\\n",
    "           ylabel = 'продажи',xlabel = 'год выпуска'))\n",
    "\n",
    "(\n",
    "    actual_pl_without_nan\n",
    "    .query('genre == \"Action\"')\n",
    "    .pivot_table(index = 'year_of_release', values = 'user_score', aggfunc = 'median')\n",
    "    .plot(grid=True, kind = 'bar', figsize=(15, 3), title = 'Action user_score',\\\n",
    "           ylabel = 'user_score',xlabel = 'год выпуска'))\n",
    "\n",
    "actual_pl.query('genre == \"Action\"').describe()"
   ]
  },
  {
   "cell_type": "code",
   "execution_count": 63,
   "metadata": {},
   "outputs": [
    {
     "data": {
      "text/html": [
       "<div>\n",
       "<style scoped>\n",
       "    .dataframe tbody tr th:only-of-type {\n",
       "        vertical-align: middle;\n",
       "    }\n",
       "\n",
       "    .dataframe tbody tr th {\n",
       "        vertical-align: top;\n",
       "    }\n",
       "\n",
       "    .dataframe thead th {\n",
       "        text-align: right;\n",
       "    }\n",
       "</style>\n",
       "<table border=\"1\" class=\"dataframe\">\n",
       "  <thead>\n",
       "    <tr style=\"text-align: right;\">\n",
       "      <th></th>\n",
       "      <th>year_of_release</th>\n",
       "      <th>na_sales</th>\n",
       "      <th>eu_sales</th>\n",
       "      <th>jp_sales</th>\n",
       "      <th>other_sales</th>\n",
       "      <th>critic_score</th>\n",
       "      <th>user_score</th>\n",
       "      <th>sum_sales</th>\n",
       "    </tr>\n",
       "  </thead>\n",
       "  <tbody>\n",
       "    <tr>\n",
       "      <th>count</th>\n",
       "      <td>17.000000</td>\n",
       "      <td>17.000000</td>\n",
       "      <td>17.000000</td>\n",
       "      <td>17.000000</td>\n",
       "      <td>17.000000</td>\n",
       "      <td>7.000000</td>\n",
       "      <td>7.000000</td>\n",
       "      <td>17.000000</td>\n",
       "    </tr>\n",
       "    <tr>\n",
       "      <th>mean</th>\n",
       "      <td>2014.294118</td>\n",
       "      <td>0.048824</td>\n",
       "      <td>0.058824</td>\n",
       "      <td>0.069412</td>\n",
       "      <td>0.009412</td>\n",
       "      <td>75.571429</td>\n",
       "      <td>7.471429</td>\n",
       "      <td>0.186471</td>\n",
       "    </tr>\n",
       "    <tr>\n",
       "      <th>std</th>\n",
       "      <td>0.848875</td>\n",
       "      <td>0.128398</td>\n",
       "      <td>0.141946</td>\n",
       "      <td>0.101456</td>\n",
       "      <td>0.022212</td>\n",
       "      <td>7.678045</td>\n",
       "      <td>0.941124</td>\n",
       "      <td>0.325172</td>\n",
       "    </tr>\n",
       "    <tr>\n",
       "      <th>min</th>\n",
       "      <td>2013.000000</td>\n",
       "      <td>0.000000</td>\n",
       "      <td>0.000000</td>\n",
       "      <td>0.000000</td>\n",
       "      <td>0.000000</td>\n",
       "      <td>68.000000</td>\n",
       "      <td>6.200000</td>\n",
       "      <td>0.010000</td>\n",
       "    </tr>\n",
       "    <tr>\n",
       "      <th>25%</th>\n",
       "      <td>2014.000000</td>\n",
       "      <td>0.000000</td>\n",
       "      <td>0.000000</td>\n",
       "      <td>0.000000</td>\n",
       "      <td>0.000000</td>\n",
       "      <td>70.000000</td>\n",
       "      <td>6.850000</td>\n",
       "      <td>0.020000</td>\n",
       "    </tr>\n",
       "    <tr>\n",
       "      <th>50%</th>\n",
       "      <td>2014.000000</td>\n",
       "      <td>0.000000</td>\n",
       "      <td>0.000000</td>\n",
       "      <td>0.020000</td>\n",
       "      <td>0.000000</td>\n",
       "      <td>71.000000</td>\n",
       "      <td>7.500000</td>\n",
       "      <td>0.060000</td>\n",
       "    </tr>\n",
       "    <tr>\n",
       "      <th>75%</th>\n",
       "      <td>2015.000000</td>\n",
       "      <td>0.060000</td>\n",
       "      <td>0.020000</td>\n",
       "      <td>0.110000</td>\n",
       "      <td>0.010000</td>\n",
       "      <td>81.000000</td>\n",
       "      <td>8.150000</td>\n",
       "      <td>0.110000</td>\n",
       "    </tr>\n",
       "    <tr>\n",
       "      <th>max</th>\n",
       "      <td>2016.000000</td>\n",
       "      <td>0.530000</td>\n",
       "      <td>0.480000</td>\n",
       "      <td>0.340000</td>\n",
       "      <td>0.090000</td>\n",
       "      <td>88.000000</td>\n",
       "      <td>8.600000</td>\n",
       "      <td>1.190000</td>\n",
       "    </tr>\n",
       "  </tbody>\n",
       "</table>\n",
       "</div>"
      ],
      "text/plain": [
       "       year_of_release   na_sales   eu_sales   jp_sales  other_sales  \\\n",
       "count        17.000000  17.000000  17.000000  17.000000    17.000000   \n",
       "mean       2014.294118   0.048824   0.058824   0.069412     0.009412   \n",
       "std           0.848875   0.128398   0.141946   0.101456     0.022212   \n",
       "min        2013.000000   0.000000   0.000000   0.000000     0.000000   \n",
       "25%        2014.000000   0.000000   0.000000   0.000000     0.000000   \n",
       "50%        2014.000000   0.000000   0.000000   0.020000     0.000000   \n",
       "75%        2015.000000   0.060000   0.020000   0.110000     0.010000   \n",
       "max        2016.000000   0.530000   0.480000   0.340000     0.090000   \n",
       "\n",
       "       critic_score  user_score  sum_sales  \n",
       "count      7.000000    7.000000  17.000000  \n",
       "mean      75.571429    7.471429   0.186471  \n",
       "std        7.678045    0.941124   0.325172  \n",
       "min       68.000000    6.200000   0.010000  \n",
       "25%       70.000000    6.850000   0.020000  \n",
       "50%       71.000000    7.500000   0.060000  \n",
       "75%       81.000000    8.150000   0.110000  \n",
       "max       88.000000    8.600000   1.190000  "
      ]
     },
     "execution_count": 63,
     "metadata": {},
     "output_type": "execute_result"
    },
    {
     "data": {
      "image/png": "[encoded data removed]",
      "text/plain": [
       "<Figure size 1080x216 with 1 Axes>"
      ]
     },
     "metadata": {
      "needs_background": "light"
     },
     "output_type": "display_data"
    },
    {
     "data": {
      "image/png": "[encoded data removed]",
      "text/plain": [
       "<Figure size 1080x216 with 1 Axes>"
      ]
     },
     "metadata": {
      "needs_background": "light"
     },
     "output_type": "display_data"
    },
    {
     "data": {
      "image/png": "[encoded data removed]",
      "text/plain": [
       "<Figure size 1080x216 with 1 Axes>"
      ]
     },
     "metadata": {
      "needs_background": "light"
     },
     "output_type": "display_data"
    }
   ],
   "source": [
    "(\n",
    "    actual_pl_without_nan\n",
    "    .query('genre == \"Puzzle\"')\n",
    "    .pivot_table(index = 'year_of_release', values = 'critic_score', aggfunc = 'median')\n",
    "    .plot(grid=True, kind = 'bar', figsize=(15, 3), title = 'Puzzle critic_score',\\\n",
    "           ylabel = 'critic_score',xlabel = 'год выпуска'))\n",
    "\n",
    "(\n",
    "    actual_pl_without_nan\n",
    "    .query('genre == \"Puzzle\"')\n",
    "    .pivot_table(index = 'year_of_release', values = 'sum_sales', aggfunc = 'median')\n",
    "    .plot(grid=True, kind = 'bar', figsize=(15, 3), title = 'Puzzle sum_sales',\\\n",
    "           ylabel = 'продажи',xlabel = 'год выпуска'))\n",
    "\n",
    "(\n",
    "    actual_pl_without_nan\n",
    "    .query('genre == \"Puzzle\"')\n",
    "    .pivot_table(index = 'year_of_release', values = 'user_score', aggfunc = 'median')\n",
    "    .plot(grid=True, kind = 'bar', figsize=(15, 3), title = 'Puzzle user_score',\\\n",
    "           ylabel = 'user_score',xlabel = 'год выпуска'))\n",
    "\n",
    "actual_pl.query('genre == \"Puzzle\"').describe()"
   ]
  },
  {
   "cell_type": "markdown",
   "metadata": {},
   "source": [
    "Рассмотрев подробнее жанры Action и Puzzle, можно сказать, что у обоих достаточно высокие оценки критиков и пользователей. Однако первый принес больше продаж на всем рассматриваемом отрезке, кроме 2015 и 2016 годах. В то время как пазлы плохо продавались относительно на всем временном промежутке."
   ]
  },
  {
   "cell_type": "markdown",
   "metadata": {},
   "source": [
    "### Шаг 4. Составьте портрет пользователя каждого региона"
   ]
  },
  {
   "cell_type": "markdown",
   "metadata": {},
   "source": [
    "#### Самые популярные платформы (топ-5). Опишите различия в долях продаж."
   ]
  },
  {
   "cell_type": "markdown",
   "metadata": {},
   "source": [
    "Определите для пользователя Северной Америки:"
   ]
  },
  {
   "cell_type": "code",
   "execution_count": 71,
   "metadata": {},
   "outputs": [
    {
     "data": {
      "text/plain": [
       "<AxesSubplot:title={'center':'na_sales platform'}, xlabel='platform', ylabel='na_sales'>"
      ]
     },
     "execution_count": 71,
     "metadata": {},
     "output_type": "execute_result"
    },
    {
     "data": {
      "image/png": "[encoded data removed]",
      "text/plain": [
       "<Figure size 1080x216 with 1 Axes>"
      ]
     },
     "metadata": {
      "needs_background": "light"
     },
     "output_type": "display_data"
    }
   ],
   "source": [
    "(\n",
    "    actual_pl\n",
    "    .pivot_table(index = 'platform', values = 'na_sales', aggfunc = 'sum')\n",
    "    .sort_values('na_sales', ascending = False)\n",
    "    .plot(grid=True, kind = 'bar', figsize=(15, 3), title = 'na_sales platform',\\\n",
    "           ylabel = 'na_sales',xlabel = 'platform'))\n",
    "\n"
   ]
  },
  {
   "cell_type": "code",
   "execution_count": 76,
   "metadata": {},
   "outputs": [
    {
     "data": {
      "text/plain": [
       "<AxesSubplot:title={'center':'top_5_na_sales'}, ylabel='na_sales'>"
      ]
     },
     "execution_count": 76,
     "metadata": {},
     "output_type": "execute_result"
    },
    {
     "data": {
      "image/png": "[encoded data removed]",
      "text/plain": [
       "<Figure size 576x576 with 1 Axes>"
      ]
     },
     "metadata": {},
     "output_type": "display_data"
    }
   ],
   "source": [
    "top_5_na_sales = actual_pl.query('platform in [\"PS4\", \"X360\" , \"XOne\", \"PS3\", \"3DS\"]')\n",
    "(\n",
    "    top_5_na_sales\n",
    "    .groupby('platform')['na_sales'].sum()\n",
    "    .plot(grid=True, kind = 'pie', autopct='%1.1f%%', figsize=(8, 8),title = 'top_5_na_sales' ))"
   ]
  },
  {
   "cell_type": "markdown",
   "metadata": {},
   "source": [
    "Самая популярная платформа в Северной Америке -- PS4 . На нее приходится 28.2% продаж. Далее XOne -- 24.2%, Х360 -- 21.2%, PS3 -- 16.5%,  и замыкает топ-5 платформа 3DS c 9.9% продаж."
   ]
  },
  {
   "cell_type": "markdown",
   "metadata": {},
   "source": [
    "Определите для пользователя Европы: "
   ]
  },
  {
   "cell_type": "code",
   "execution_count": 78,
   "metadata": {},
   "outputs": [
    {
     "data": {
      "text/plain": [
       "<AxesSubplot:title={'center':'eu_sales platform'}, xlabel='platform', ylabel='eu_sales'>"
      ]
     },
     "execution_count": 78,
     "metadata": {},
     "output_type": "execute_result"
    },
    {
     "data": {
      "image/png": "[encoded data removed]",
      "text/plain": [
       "<Figure size 1080x216 with 1 Axes>"
      ]
     },
     "metadata": {
      "needs_background": "light"
     },
     "output_type": "display_data"
    }
   ],
   "source": [
    "(\n",
    "    actual_pl\n",
    "    .pivot_table(index = 'platform', values = 'eu_sales', aggfunc = 'sum')\n",
    "    .sort_values('eu_sales', ascending = False)\n",
    "    .plot(grid=True, kind = 'bar', figsize=(15, 3), title = 'eu_sales platform',\\\n",
    "           ylabel = 'eu_sales',xlabel = 'platform'))"
   ]
  },
  {
   "cell_type": "code",
   "execution_count": 79,
   "metadata": {},
   "outputs": [
    {
     "data": {
      "text/plain": [
       "<AxesSubplot:title={'center':'top_5_eu_sales'}, ylabel='eu_sales'>"
      ]
     },
     "execution_count": 79,
     "metadata": {},
     "output_type": "execute_result"
    },
    {
     "data": {
      "image/png": "[encoded data removed]",
      "text/plain": [
       "<Figure size 576x576 with 1 Axes>"
      ]
     },
     "metadata": {},
     "output_type": "display_data"
    }
   ],
   "source": [
    "top_5_eu_sales = actual_pl.query('platform in [\"PS4\", \"X360\" , \"XOne\", \"PS3\", \"3DS\"]')\n",
    "(\n",
    "    top_5_eu_sales\n",
    "    .groupby('platform')['eu_sales'].sum()\n",
    "    .plot(grid=True, kind = 'pie', figsize=(8, 8), autopct='%1.1f%%',title = 'top_5_eu_sales' ))"
   ]
  },
  {
   "cell_type": "markdown",
   "metadata": {},
   "source": [
    "Самая популярная платформа в Европе -- PS4. На нее приходится 42.2% продаж. Далее PS3 -- 20.3%, XOne -- 15.4%, X360 -- 12.7% и замыкает топ-5 платформа 3DS c 9.3% продаж."
   ]
  },
  {
   "cell_type": "markdown",
   "metadata": {},
   "source": [
    "Определите для пользователя Японии:"
   ]
  },
  {
   "cell_type": "code",
   "execution_count": 80,
   "metadata": {},
   "outputs": [
    {
     "data": {
      "text/plain": [
       "<AxesSubplot:title={'center':'jp_sales platform'}, xlabel='platform', ylabel='jp_sales'>"
      ]
     },
     "execution_count": 80,
     "metadata": {},
     "output_type": "execute_result"
    },
    {
     "data": {
      "image/png": "[encoded data removed]",
      "text/plain": [
       "<Figure size 1080x216 with 1 Axes>"
      ]
     },
     "metadata": {
      "needs_background": "light"
     },
     "output_type": "display_data"
    }
   ],
   "source": [
    "(\n",
    "    actual_pl\n",
    "    .pivot_table(index = 'platform', values = 'jp_sales', aggfunc = 'sum')\n",
    "    .sort_values('jp_sales', ascending = False)\n",
    "    .plot(grid=True, kind = 'bar', figsize=(15, 3), title = 'jp_sales platform',\\\n",
    "           ylabel = 'jp_sales',xlabel = 'platform'))"
   ]
  },
  {
   "cell_type": "code",
   "execution_count": 81,
   "metadata": {},
   "outputs": [
    {
     "data": {
      "text/plain": [
       "<AxesSubplot:title={'center':'top_5_eu_sales'}, ylabel='jp_sales'>"
      ]
     },
     "execution_count": 81,
     "metadata": {},
     "output_type": "execute_result"
    },
    {
     "data": {
      "image/png": "[encoded data removed]",
      "text/plain": [
       "<Figure size 576x576 with 1 Axes>"
      ]
     },
     "metadata": {},
     "output_type": "display_data"
    }
   ],
   "source": [
    "top_5_jp_sales = actual_pl.query('platform in [\"PS4\", \"3DS\" , \"WiiU\", \"PS3\", \"PSV\"]')\n",
    "(\n",
    "    top_5_jp_sales\n",
    "    .groupby('platform')['jp_sales'].sum()\n",
    "    .plot(grid=True, kind = 'pie', figsize=(8, 8), autopct='%1.1f%%',title = 'top_5_eu_sales' ))"
   ]
  },
  {
   "cell_type": "markdown",
   "metadata": {},
   "source": [
    "Самая популярная платформа в Японии -- 3DS. На нее приходится 49.6% продаж. Далее PS3 -- 17.1%, PSV -- 13.6%, PS4 -- 11.7%  и замыкает топ-5 платформа WiiU c 8% продаж."
   ]
  },
  {
   "cell_type": "markdown",
   "metadata": {},
   "source": [
    "#### Самые популярные жанры (топ-5). Поясните разницу."
   ]
  },
  {
   "cell_type": "code",
   "execution_count": 82,
   "metadata": {},
   "outputs": [
    {
     "data": {
      "text/plain": [
       "<AxesSubplot:title={'center':'jp_sales genre'}, xlabel='genre', ylabel='jp_sales'>"
      ]
     },
     "execution_count": 82,
     "metadata": {},
     "output_type": "execute_result"
    },
    {
     "data": {
      "image/png": "[encoded data removed]",
      "text/plain": [
       "<Figure size 1080x216 with 1 Axes>"
      ]
     },
     "metadata": {
      "needs_background": "light"
     },
     "output_type": "display_data"
    },
    {
     "data": {
      "image/png": "[encoded data removed]",
      "text/plain": [
       "<Figure size 1080x216 with 1 Axes>"
      ]
     },
     "metadata": {
      "needs_background": "light"
     },
     "output_type": "display_data"
    },
    {
     "data": {
      "image/png": "[encoded data removed]",
      "text/plain": [
       "<Figure size 1080x216 with 1 Axes>"
      ]
     },
     "metadata": {
      "needs_background": "light"
     },
     "output_type": "display_data"
    }
   ],
   "source": [
    "(\n",
    "    actual_pl\n",
    "    .pivot_table(index = 'genre', values = 'na_sales', aggfunc = 'sum')\n",
    "    .sort_values('na_sales', ascending = False)\n",
    "    .plot(grid=True, kind = 'bar', figsize=(15, 3), title = 'na_sales genre',\\\n",
    "           ylabel = 'na_sales',xlabel = 'genre'))\n",
    "\n",
    "(\n",
    "    actual_pl\n",
    "    .pivot_table(index = 'genre', values = 'eu_sales', aggfunc = 'sum')\n",
    "    .sort_values('eu_sales', ascending = False)\n",
    "    .plot(grid=True, kind = 'bar', figsize=(15, 3), title = 'eu_sales genre',\\\n",
    "           ylabel = 'eu_sales',xlabel = 'genre'))\n",
    "\n",
    "(\n",
    "    actual_pl\n",
    "    .pivot_table(index = 'genre', values = 'jp_sales', aggfunc = 'sum')\n",
    "    .sort_values('jp_sales', ascending = False)\n",
    "    .plot(grid=True, kind = 'bar', figsize=(15, 3), title = 'jp_sales genre',\\\n",
    "           ylabel = 'jp_sales',xlabel = 'genre'))"
   ]
  },
  {
   "cell_type": "markdown",
   "metadata": {},
   "source": [
    "Возможно, различия вызваны особенностями менталитета, культуры и платформы, которая лидирует в том или ином регионе."
   ]
  },
  {
   "cell_type": "markdown",
   "metadata": {},
   "source": [
    "#### Влияет ли рейтинг ESRB на продажи в отдельном регионе?"
   ]
  },
  {
   "cell_type": "code",
   "execution_count": 89,
   "metadata": {},
   "outputs": [
    {
     "data": {
      "text/plain": [
       "<AxesSubplot:title={'center':'jp_sales rating'}, xlabel='rating', ylabel='jp_sales'>"
      ]
     },
     "execution_count": 89,
     "metadata": {},
     "output_type": "execute_result"
    },
    {
     "data": {
      "image/png": "[encoded data removed]",
      "text/plain": [
       "<Figure size 1080x216 with 1 Axes>"
      ]
     },
     "metadata": {
      "needs_background": "light"
     },
     "output_type": "display_data"
    },
    {
     "data": {
      "image/png": "[encoded data removed]",
      "text/plain": [
       "<Figure size 1080x216 with 1 Axes>"
      ]
     },
     "metadata": {
      "needs_background": "light"
     },
     "output_type": "display_data"
    },
    {
     "data": {
      "image/png": "[encoded data removed]",
      "text/plain": [
       "<Figure size 1080x216 with 1 Axes>"
      ]
     },
     "metadata": {
      "needs_background": "light"
     },
     "output_type": "display_data"
    }
   ],
   "source": [
    "(\n",
    "    actual_pl\n",
    "    .pivot_table(index = 'rating', values = 'na_sales', aggfunc = 'sum')\n",
    "    .sort_values('na_sales', ascending = False)\n",
    "    .plot(grid=True, kind = 'bar', figsize=(15, 3), title = 'na_sales rating',\\\n",
    "           ylabel = 'na_sales',xlabel = 'rating'))\n",
    "\n",
    "(\n",
    "    actual_pl\n",
    "    .pivot_table(index = 'rating', values = 'eu_sales', aggfunc = 'sum')\n",
    "    .sort_values('eu_sales', ascending = False)\n",
    "    .plot(grid=True, kind = 'bar', figsize=(15, 3), title = 'eu_sales rating',\\\n",
    "           ylabel = 'eu_sales',xlabel = 'rating'))\n",
    "\n",
    "(\n",
    "    actual_pl\n",
    "    .pivot_table(index = 'rating', values = 'jp_sales', aggfunc = 'sum')\n",
    "    .sort_values('jp_sales', ascending = False)\n",
    "    .plot(grid=True, kind = 'bar', figsize=(15, 3), title = 'jp_sales rating', ylabel = 'jp_sales',xlabel = 'rating')\n",
    ")"
   ]
  },
  {
   "cell_type": "markdown",
   "metadata": {},
   "source": [
    "В Северной Америке и Европе различий нет, лидируют игры для взрослых(17+), на тетьем месте игры для подростков(13+). А вот в Японии наоборот, больше продаж приносят игры для подростков, в то время как игры 17+ находятся на 3-м месте по продажам. Вторым по продаже для всех регионов идут игры без ограничений по возрасту, т.е. \"для всех\". На 4-ом месте для всех регионов игры \"Для всех от 10 лет и старше\"."
   ]
  },
  {
   "cell_type": "markdown",
   "metadata": {},
   "source": [
    "### Шаг 5. Проверьте гипотезы"
   ]
  },
  {
   "cell_type": "markdown",
   "metadata": {},
   "source": [
    "#### Средние пользовательские рейтинги платформ Xbox One и PC одинаковые;"
   ]
  },
  {
   "cell_type": "markdown",
   "metadata": {},
   "source": [
    "Имеем 2 независимые выборки значит будем использовать двусторонний t-test. Выдвинем гипотезы.\n",
    "\n",
    "    Нулевая: Средние пользовательские рейтинги платформ Xbox One и PC одинаковые.\n",
    "\n",
    "    Первая: Средние пользовательские рейтинги платформ Xbox One меньше, чем у PC ."
   ]
  },
  {
   "cell_type": "code",
   "execution_count": 99,
   "metadata": {},
   "outputs": [],
   "source": [
    "one = actual_pl_without_nan.query('platform == \"XOne\"')\n",
    "pc = actual_pl_without_nan.query('platform == \"PC\"')"
   ]
  },
  {
   "cell_type": "code",
   "execution_count": 105,
   "metadata": {},
   "outputs": [
    {
     "name": "stdout",
     "output_type": "stream",
     "text": [
      "p-значение: 0.934220722560446\n",
      "Не получилось отвергнуть нулевую гипотезу\n"
     ]
    }
   ],
   "source": [
    "alpha = 0.01 # уровень статистической значимости\n",
    "# если p-value окажется меньше него, отвергнем гипотезу\n",
    "\n",
    "results = st.ttest_ind(\n",
    "    one['user_score'], \n",
    "    pc['user_score'],\n",
    "    alternative='less')\n",
    "\n",
    "\n",
    "\n",
    "print('p-значение:', results.pvalue)\n",
    "\n",
    "if results.pvalue < alpha:\n",
    "    print('Отвергаем нулевую гипотезу')\n",
    "else:\n",
    "    print('Не получилось отвергнуть нулевую гипотезу') "
   ]
  },
  {
   "cell_type": "code",
   "execution_count": 101,
   "metadata": {},
   "outputs": [
    {
     "name": "stdout",
     "output_type": "stream",
     "text": [
      "Средний пользовательский рейтинг платформы Xbox One равен: 6.49308176100629\n",
      "Средний пользовательский рейтинг платформы PC равен: 6.218796992481203\n"
     ]
    }
   ],
   "source": [
    "print('Средний пользовательский рейтинг платформы Xbox One равен:', one['user_score'].mean())\n",
    "print('Средний пользовательский рейтинг платформы PC равен:', pc['user_score'].mean())\n"
   ]
  },
  {
   "cell_type": "markdown",
   "metadata": {},
   "source": [
    "Не получилось отвергнуть нулевую гипотезу в оценке значимости 1%. Действительно, средние пользовательские рейтинги платформ Xbox One незначительно ниже, чем у PC. Средний пользовательский рейтинг платформы Xbox One равен: 6.49, а средний пользовательский рейтинг платформы PC равен: 6.22."
   ]
  },
  {
   "cell_type": "markdown",
   "metadata": {},
   "source": [
    "#### Средние пользовательские рейтинги жанров Action (англ. «действие», экшен-игры) и Sports (англ. «спортивные соревнования») разные."
   ]
  },
  {
   "cell_type": "markdown",
   "metadata": {},
   "source": [
    "Имеем 2 независимые выборки значит будем использовать двусторонний t-test. Выдвинем гипотезы.\n",
    "\n",
    "    Нулевая: Средние пользовательские рейтинги жанров Action и Sports одинаковые.\n",
    "\n",
    "    Первая: Средние пользовательские рейтинги жанров Action больше, чем у Sports."
   ]
  },
  {
   "cell_type": "code",
   "execution_count": 102,
   "metadata": {},
   "outputs": [],
   "source": [
    "action = actual_pl_without_nan.query('genre == \"Action\"')\n",
    "sports = actual_pl_without_nan.query('genre == \"Sports\"')"
   ]
  },
  {
   "cell_type": "code",
   "execution_count": 103,
   "metadata": {},
   "outputs": [
    {
     "name": "stdout",
     "output_type": "stream",
     "text": [
      "p-значение: 8.943032958875123e-16\n",
      "Отвергаем нулевую гипотезу\n"
     ]
    }
   ],
   "source": [
    "alpha = 0.01 # уровень статистической значимости\n",
    "# если p-value окажется меньше него, отвергнем гипотезу\n",
    "\n",
    "results = st.ttest_ind(\n",
    "    action['user_score'], \n",
    "    sports['user_score'],\n",
    "    alternative='greater')\n",
    "\n",
    "\n",
    "\n",
    "print('p-значение:', results.pvalue)\n",
    "\n",
    "if results.pvalue < alpha:\n",
    "    print('Отвергаем нулевую гипотезу')\n",
    "else:\n",
    "    print('Не получилось отвергнуть нулевую гипотезу') "
   ]
  },
  {
   "cell_type": "code",
   "execution_count": 104,
   "metadata": {},
   "outputs": [
    {
     "name": "stdout",
     "output_type": "stream",
     "text": [
      "Средний пользовательский рейтинг жанра Action равен: 6.913621262458472\n",
      "Средний пользовательский рейтинг жанра  Sports равен: 5.663207547169811\n"
     ]
    }
   ],
   "source": [
    "print('Средний пользовательский рейтинг жанра Action равен:', action['user_score'].mean())\n",
    "print('Средний пользовательский рейтинг жанра  Sports равен:', sports['user_score'].mean())"
   ]
  },
  {
   "cell_type": "markdown",
   "metadata": {},
   "source": [
    "Отвергаем нулевую гипотезу. Средний пользовательский рейтинг пжанров Action выше, чем у Sports. Они действительно разные. Средний пользовательский рейтинг жанров Action равен: 6.91, а средний пользовательский рейтинг жанров  Sports равен: 5.66"
   ]
  },
  {
   "cell_type": "markdown",
   "metadata": {},
   "source": [
    "### Шаг 6. Напишите общий вывод"
   ]
  },
  {
   "cell_type": "markdown",
   "metadata": {},
   "source": [
    "В ходе проделанной работы удалось провести исследовательский и статистический анализ данных для интернет-магазина компьютерных игр «Стримчик». Из открытых источников нам были доступны исторические данные о продажах игр, оценки пользователей и экспертов, жанры и платформы (например, Xbox или PlayStation). Целью работы было выявить определяющие успешность игры закономерности, чтобы сделать ставку на потенциально популярный продукт и спланировать рекламные кампании.\n",
    "\n",
    "Необходимо сделать акцент на платформу PS4, для игр с рейтингом Т, Е, М в жанре Action для Америки и Европы. И для Японии на 3DS для игр без рейтинга в большей степени и также Т, Е, М в жанре Role play. Не обращать внимание на оценки пользоватеелй и иметь в виду оценки критиков."
   ]
  }
 ],
 "metadata": {
  "ExecuteTimeLog": [
   {
    "duration": 1313,
    "start_time": "2024-08-12T19:19:09.626Z"
   },
   {
    "duration": 50,
    "start_time": "2024-08-12T19:19:12.369Z"
   },
   {
    "duration": 273,
    "start_time": "2024-08-12T19:19:36.514Z"
   },
   {
    "duration": 17,
    "start_time": "2024-08-12T19:22:15.370Z"
   },
   {
    "duration": 14,
    "start_time": "2024-08-12T19:23:34.502Z"
   },
   {
    "duration": 16,
    "start_time": "2024-08-12T19:27:40.042Z"
   },
   {
    "duration": 43,
    "start_time": "2024-08-12T19:36:47.248Z"
   },
   {
    "duration": 5,
    "start_time": "2024-08-12T19:37:31.376Z"
   },
   {
    "duration": 6,
    "start_time": "2024-08-12T19:37:53.720Z"
   },
   {
    "duration": 15,
    "start_time": "2024-08-12T19:38:06.490Z"
   },
   {
    "duration": 104,
    "start_time": "2024-08-12T19:40:19.153Z"
   },
   {
    "duration": 13,
    "start_time": "2024-08-12T19:41:45.064Z"
   },
   {
    "duration": 13,
    "start_time": "2024-08-12T19:42:28.613Z"
   },
   {
    "duration": 15,
    "start_time": "2024-08-12T19:45:55.220Z"
   },
   {
    "duration": 14,
    "start_time": "2024-08-12T19:46:47.844Z"
   },
   {
    "duration": 14,
    "start_time": "2024-08-12T19:47:17.470Z"
   },
   {
    "duration": 12,
    "start_time": "2024-08-12T19:48:59.276Z"
   },
   {
    "duration": 16,
    "start_time": "2024-08-12T19:53:43.338Z"
   },
   {
    "duration": 4,
    "start_time": "2024-08-12T19:53:46.608Z"
   },
   {
    "duration": 14,
    "start_time": "2024-08-12T19:55:07.169Z"
   },
   {
    "duration": 14,
    "start_time": "2024-08-12T19:55:26.836Z"
   },
   {
    "duration": 9,
    "start_time": "2024-08-12T20:05:09.658Z"
   },
   {
    "duration": 8,
    "start_time": "2024-08-12T20:05:20.435Z"
   },
   {
    "duration": 138,
    "start_time": "2024-08-12T20:06:09.045Z"
   },
   {
    "duration": 128,
    "start_time": "2024-08-12T20:07:33.008Z"
   },
   {
    "duration": 130,
    "start_time": "2024-08-12T20:09:32.694Z"
   },
   {
    "duration": 264,
    "start_time": "2024-08-12T20:09:51.315Z"
   },
   {
    "duration": 138,
    "start_time": "2024-08-12T20:10:21.076Z"
   },
   {
    "duration": 143,
    "start_time": "2024-08-12T20:11:22.464Z"
   },
   {
    "duration": 21,
    "start_time": "2024-08-12T20:14:20.992Z"
   },
   {
    "duration": 21,
    "start_time": "2024-08-12T20:15:10.004Z"
   },
   {
    "duration": 9,
    "start_time": "2024-08-12T20:15:48.892Z"
   },
   {
    "duration": 10,
    "start_time": "2024-08-12T20:19:05.237Z"
   },
   {
    "duration": 53,
    "start_time": "2024-08-12T20:19:16.492Z"
   },
   {
    "duration": 9,
    "start_time": "2024-08-12T20:19:36.613Z"
   },
   {
    "duration": 117,
    "start_time": "2024-08-12T20:21:33.586Z"
   },
   {
    "duration": 11,
    "start_time": "2024-08-12T20:22:00.114Z"
   },
   {
    "duration": 64,
    "start_time": "2024-08-12T20:23:15.774Z"
   },
   {
    "duration": 48,
    "start_time": "2024-08-12T20:23:15.840Z"
   },
   {
    "duration": 38,
    "start_time": "2024-08-12T20:23:21.928Z"
   },
   {
    "duration": 8,
    "start_time": "2024-08-12T20:24:07.247Z"
   },
   {
    "duration": 4,
    "start_time": "2024-08-12T20:24:23.400Z"
   },
   {
    "duration": 16,
    "start_time": "2024-08-12T20:25:44.220Z"
   },
   {
    "duration": 491,
    "start_time": "2024-08-12T20:26:44.457Z"
   },
   {
    "duration": 47,
    "start_time": "2024-08-12T20:29:55.793Z"
   },
   {
    "duration": 39,
    "start_time": "2024-08-12T20:30:29.266Z"
   },
   {
    "duration": 21,
    "start_time": "2024-08-12T20:40:29.842Z"
   },
   {
    "duration": 11,
    "start_time": "2024-08-12T20:44:19.535Z"
   },
   {
    "duration": 10,
    "start_time": "2024-08-12T20:45:15.613Z"
   },
   {
    "duration": 3,
    "start_time": "2024-08-12T20:46:33.713Z"
   },
   {
    "duration": 18,
    "start_time": "2024-08-12T20:46:40.024Z"
   },
   {
    "duration": 65,
    "start_time": "2024-08-12T20:47:32.263Z"
   },
   {
    "duration": 14,
    "start_time": "2024-08-12T20:47:49.892Z"
   },
   {
    "duration": 54,
    "start_time": "2024-08-12T20:48:00.458Z"
   },
   {
    "duration": 19,
    "start_time": "2024-08-12T20:48:20.482Z"
   },
   {
    "duration": 54,
    "start_time": "2024-08-12T20:48:30.854Z"
   },
   {
    "duration": 13,
    "start_time": "2024-08-12T20:49:03.325Z"
   },
   {
    "duration": 9,
    "start_time": "2024-08-12T20:49:26.930Z"
   },
   {
    "duration": 1151,
    "start_time": "2024-08-12T20:50:15.008Z"
   },
   {
    "duration": 82,
    "start_time": "2024-08-12T20:50:16.161Z"
   },
   {
    "duration": 15,
    "start_time": "2024-08-12T20:50:16.244Z"
   },
   {
    "duration": 9,
    "start_time": "2024-08-12T20:50:16.260Z"
   },
   {
    "duration": 17,
    "start_time": "2024-08-12T20:50:16.271Z"
   },
   {
    "duration": 36,
    "start_time": "2024-08-12T20:50:16.290Z"
   },
   {
    "duration": 37,
    "start_time": "2024-08-12T20:50:16.327Z"
   },
   {
    "duration": 14,
    "start_time": "2024-08-12T20:50:16.366Z"
   },
   {
    "duration": 13,
    "start_time": "2024-08-12T20:50:16.381Z"
   },
   {
    "duration": 14,
    "start_time": "2024-08-12T20:50:16.395Z"
   },
   {
    "duration": 48,
    "start_time": "2024-08-12T20:50:16.410Z"
   },
   {
    "duration": 41,
    "start_time": "2024-08-12T20:50:16.459Z"
   },
   {
    "duration": 30,
    "start_time": "2024-08-12T20:50:16.502Z"
   },
   {
    "duration": 2,
    "start_time": "2024-08-12T20:50:16.534Z"
   },
   {
    "duration": 51,
    "start_time": "2024-08-12T20:50:16.538Z"
   },
   {
    "duration": 18,
    "start_time": "2024-08-12T20:50:45.315Z"
   },
   {
    "duration": 18,
    "start_time": "2024-08-12T20:50:51.179Z"
   },
   {
    "duration": 1136,
    "start_time": "2024-08-12T20:53:14.235Z"
   },
   {
    "duration": 79,
    "start_time": "2024-08-12T20:53:15.373Z"
   },
   {
    "duration": 13,
    "start_time": "2024-08-12T20:53:15.453Z"
   },
   {
    "duration": 18,
    "start_time": "2024-08-12T20:53:15.469Z"
   },
   {
    "duration": 14,
    "start_time": "2024-08-12T20:53:15.489Z"
   },
   {
    "duration": 21,
    "start_time": "2024-08-12T20:53:15.504Z"
   },
   {
    "duration": 6,
    "start_time": "2024-08-12T20:53:15.527Z"
   },
   {
    "duration": 14,
    "start_time": "2024-08-12T20:53:15.535Z"
   },
   {
    "duration": 12,
    "start_time": "2024-08-12T20:53:15.551Z"
   },
   {
    "duration": 10,
    "start_time": "2024-08-12T20:53:15.565Z"
   },
   {
    "duration": 70,
    "start_time": "2024-08-12T20:53:15.577Z"
   },
   {
    "duration": 40,
    "start_time": "2024-08-12T20:53:15.648Z"
   },
   {
    "duration": 34,
    "start_time": "2024-08-12T20:53:15.689Z"
   },
   {
    "duration": 98,
    "start_time": "2024-08-12T20:53:15.725Z"
   },
   {
    "duration": 47,
    "start_time": "2024-08-12T20:53:15.825Z"
   },
   {
    "duration": 51,
    "start_time": "2024-08-12T20:53:40.965Z"
   },
   {
    "duration": 10,
    "start_time": "2024-08-12T20:53:51.929Z"
   },
   {
    "duration": 105,
    "start_time": "2024-08-12T20:56:35.121Z"
   },
   {
    "duration": 22,
    "start_time": "2024-08-12T21:11:09.245Z"
   },
   {
    "duration": 23,
    "start_time": "2024-08-12T21:12:56.786Z"
   },
   {
    "duration": 33,
    "start_time": "2024-08-12T21:13:21.812Z"
   },
   {
    "duration": 32,
    "start_time": "2024-08-12T21:16:06.788Z"
   },
   {
    "duration": 34,
    "start_time": "2024-08-12T21:16:30.023Z"
   },
   {
    "duration": 503,
    "start_time": "2024-08-12T21:17:00.040Z"
   },
   {
    "duration": 28,
    "start_time": "2024-08-12T21:18:08.822Z"
   },
   {
    "duration": 26,
    "start_time": "2024-08-12T21:18:27.350Z"
   },
   {
    "duration": 12,
    "start_time": "2024-08-12T21:19:09.591Z"
   },
   {
    "duration": 134,
    "start_time": "2024-08-12T21:19:33.140Z"
   },
   {
    "duration": 233,
    "start_time": "2024-08-12T21:19:51.309Z"
   },
   {
    "duration": 240,
    "start_time": "2024-08-12T21:23:42.336Z"
   },
   {
    "duration": 335,
    "start_time": "2024-08-12T21:24:20.641Z"
   },
   {
    "duration": 240,
    "start_time": "2024-08-12T21:24:57.994Z"
   },
   {
    "duration": 250,
    "start_time": "2024-08-12T21:26:24.737Z"
   },
   {
    "duration": 250,
    "start_time": "2024-08-12T21:26:35.398Z"
   },
   {
    "duration": 238,
    "start_time": "2024-08-12T21:29:42.047Z"
   },
   {
    "duration": 55,
    "start_time": "2024-08-12T21:30:42.372Z"
   },
   {
    "duration": 59,
    "start_time": "2024-08-12T21:31:04.922Z"
   },
   {
    "duration": 60,
    "start_time": "2024-08-12T21:31:35.869Z"
   },
   {
    "duration": 49,
    "start_time": "2024-08-12T21:34:11.266Z"
   },
   {
    "duration": 19,
    "start_time": "2024-08-12T21:34:30.505Z"
   },
   {
    "duration": 3,
    "start_time": "2024-08-12T21:36:07.196Z"
   },
   {
    "duration": 22,
    "start_time": "2024-08-12T21:36:13.321Z"
   },
   {
    "duration": 9,
    "start_time": "2024-08-12T21:38:21.694Z"
   },
   {
    "duration": 7,
    "start_time": "2024-08-12T21:38:30.779Z"
   },
   {
    "duration": 7,
    "start_time": "2024-08-12T21:38:55.334Z"
   },
   {
    "duration": 817,
    "start_time": "2024-08-12T21:40:32.361Z"
   },
   {
    "duration": 792,
    "start_time": "2024-08-12T21:40:45.393Z"
   },
   {
    "duration": 7,
    "start_time": "2024-08-12T21:41:10.241Z"
   },
   {
    "duration": 56,
    "start_time": "2024-08-12T21:42:16.291Z"
   },
   {
    "duration": 8,
    "start_time": "2024-08-12T21:43:32.625Z"
   },
   {
    "duration": 21,
    "start_time": "2024-08-12T21:43:39.944Z"
   },
   {
    "duration": 33,
    "start_time": "2024-08-12T21:43:55.619Z"
   },
   {
    "duration": 29,
    "start_time": "2024-08-12T21:44:16.617Z"
   },
   {
    "duration": 30,
    "start_time": "2024-08-12T21:44:36.553Z"
   },
   {
    "duration": 238,
    "start_time": "2024-08-12T21:44:52.528Z"
   },
   {
    "duration": 4,
    "start_time": "2024-08-12T21:51:51.403Z"
   },
   {
    "duration": 15,
    "start_time": "2024-08-12T21:52:02.045Z"
   },
   {
    "duration": 5,
    "start_time": "2024-08-12T21:55:05.943Z"
   },
   {
    "duration": 15,
    "start_time": "2024-08-12T21:55:11.991Z"
   },
   {
    "duration": 1409,
    "start_time": "2024-08-13T19:26:07.270Z"
   },
   {
    "duration": 230,
    "start_time": "2024-08-13T19:26:08.681Z"
   },
   {
    "duration": 15,
    "start_time": "2024-08-13T19:26:08.913Z"
   },
   {
    "duration": 24,
    "start_time": "2024-08-13T19:26:08.930Z"
   },
   {
    "duration": 16,
    "start_time": "2024-08-13T19:26:08.956Z"
   },
   {
    "duration": 14,
    "start_time": "2024-08-13T19:26:08.974Z"
   },
   {
    "duration": 8,
    "start_time": "2024-08-13T19:26:09.007Z"
   },
   {
    "duration": 15,
    "start_time": "2024-08-13T19:26:09.016Z"
   },
   {
    "duration": 13,
    "start_time": "2024-08-13T19:26:09.033Z"
   },
   {
    "duration": 19,
    "start_time": "2024-08-13T19:26:09.048Z"
   },
   {
    "duration": 64,
    "start_time": "2024-08-13T19:26:09.069Z"
   },
   {
    "duration": 19,
    "start_time": "2024-08-13T19:26:09.135Z"
   },
   {
    "duration": 11,
    "start_time": "2024-08-13T19:26:09.156Z"
   },
   {
    "duration": 16,
    "start_time": "2024-08-13T19:26:09.169Z"
   },
   {
    "duration": 57,
    "start_time": "2024-08-13T19:26:09.187Z"
   },
   {
    "duration": 10,
    "start_time": "2024-08-13T19:26:09.245Z"
   },
   {
    "duration": 74,
    "start_time": "2024-08-13T19:26:09.256Z"
   },
   {
    "duration": 18,
    "start_time": "2024-08-13T19:26:09.331Z"
   },
   {
    "duration": 7,
    "start_time": "2024-08-13T19:33:17.822Z"
   },
   {
    "duration": 7,
    "start_time": "2024-08-13T19:36:23.331Z"
   },
   {
    "duration": 8,
    "start_time": "2024-08-13T19:37:10.427Z"
   },
   {
    "duration": 7,
    "start_time": "2024-08-13T19:37:37.196Z"
   },
   {
    "duration": 6,
    "start_time": "2024-08-13T19:37:54.540Z"
   },
   {
    "duration": 9,
    "start_time": "2024-08-13T19:53:01.242Z"
   },
   {
    "duration": 5,
    "start_time": "2024-08-13T19:55:26.492Z"
   },
   {
    "duration": 7,
    "start_time": "2024-08-13T19:55:54.752Z"
   },
   {
    "duration": 1043,
    "start_time": "2024-08-13T19:56:24.155Z"
   },
   {
    "duration": 8,
    "start_time": "2024-08-13T19:56:36.071Z"
   },
   {
    "duration": 13,
    "start_time": "2024-08-13T20:05:09.551Z"
   },
   {
    "duration": 9,
    "start_time": "2024-08-13T20:05:28.307Z"
   },
   {
    "duration": 7,
    "start_time": "2024-08-13T20:13:04.064Z"
   },
   {
    "duration": 974,
    "start_time": "2024-08-13T20:13:14.420Z"
   },
   {
    "duration": 14,
    "start_time": "2024-08-13T20:13:34.992Z"
   },
   {
    "duration": 8,
    "start_time": "2024-08-13T20:13:45.253Z"
   },
   {
    "duration": 8,
    "start_time": "2024-08-13T20:14:33.027Z"
   },
   {
    "duration": 95,
    "start_time": "2024-08-13T20:14:43.880Z"
   },
   {
    "duration": 8,
    "start_time": "2024-08-13T20:15:09.219Z"
   },
   {
    "duration": 8,
    "start_time": "2024-08-13T20:15:22.484Z"
   },
   {
    "duration": 8,
    "start_time": "2024-08-13T20:15:50.412Z"
   },
   {
    "duration": 49,
    "start_time": "2024-08-14T19:50:24.712Z"
   },
   {
    "duration": 1356,
    "start_time": "2024-08-14T19:50:29.391Z"
   },
   {
    "duration": 262,
    "start_time": "2024-08-14T19:50:30.749Z"
   },
   {
    "duration": 16,
    "start_time": "2024-08-14T19:50:31.013Z"
   },
   {
    "duration": 46,
    "start_time": "2024-08-14T19:50:31.032Z"
   },
   {
    "duration": 66,
    "start_time": "2024-08-14T19:50:31.080Z"
   },
   {
    "duration": 26,
    "start_time": "2024-08-14T19:50:31.148Z"
   },
   {
    "duration": 26,
    "start_time": "2024-08-14T19:50:31.175Z"
   },
   {
    "duration": 52,
    "start_time": "2024-08-14T19:50:31.202Z"
   },
   {
    "duration": 45,
    "start_time": "2024-08-14T19:50:31.255Z"
   },
   {
    "duration": 45,
    "start_time": "2024-08-14T19:50:31.303Z"
   },
   {
    "duration": 57,
    "start_time": "2024-08-14T19:50:31.349Z"
   },
   {
    "duration": 22,
    "start_time": "2024-08-14T19:50:31.408Z"
   },
   {
    "duration": 102,
    "start_time": "2024-08-14T19:50:31.431Z"
   },
   {
    "duration": 26,
    "start_time": "2024-08-14T19:50:31.535Z"
   },
   {
    "duration": 69,
    "start_time": "2024-08-14T19:50:31.563Z"
   },
   {
    "duration": 51,
    "start_time": "2024-08-14T19:50:31.634Z"
   },
   {
    "duration": 77,
    "start_time": "2024-08-14T19:50:31.687Z"
   },
   {
    "duration": 116,
    "start_time": "2024-08-14T19:50:31.766Z"
   },
   {
    "duration": 29,
    "start_time": "2024-08-14T19:50:31.884Z"
   },
   {
    "duration": 20,
    "start_time": "2024-08-14T19:50:31.914Z"
   },
   {
    "duration": 11,
    "start_time": "2024-08-14T19:50:31.936Z"
   },
   {
    "duration": 59,
    "start_time": "2024-08-14T19:50:31.949Z"
   },
   {
    "duration": 666,
    "start_time": "2024-08-14T19:50:48.521Z"
   },
   {
    "duration": 24,
    "start_time": "2024-08-14T19:51:01.518Z"
   },
   {
    "duration": 7,
    "start_time": "2024-08-14T19:51:36.458Z"
   },
   {
    "duration": 146,
    "start_time": "2024-08-14T19:54:11.396Z"
   },
   {
    "duration": 175,
    "start_time": "2024-08-14T19:54:29.599Z"
   },
   {
    "duration": 126,
    "start_time": "2024-08-14T19:55:07.455Z"
   },
   {
    "duration": 974,
    "start_time": "2024-08-14T19:58:18.892Z"
   },
   {
    "duration": 59526,
    "start_time": "2024-08-14T19:58:26.347Z"
   },
   {
    "duration": 6856,
    "start_time": "2024-08-14T20:00:50.735Z"
   },
   {
    "duration": 7923,
    "start_time": "2024-08-14T20:01:44.451Z"
   },
   {
    "duration": 148,
    "start_time": "2024-08-14T20:04:27.541Z"
   },
   {
    "duration": 9,
    "start_time": "2024-08-14T20:06:01.925Z"
   },
   {
    "duration": 10,
    "start_time": "2024-08-14T20:06:54.909Z"
   },
   {
    "duration": 139,
    "start_time": "2024-08-14T20:07:06.466Z"
   },
   {
    "duration": 12,
    "start_time": "2024-08-14T20:07:30.964Z"
   },
   {
    "duration": 12,
    "start_time": "2024-08-14T20:08:10.696Z"
   },
   {
    "duration": 159,
    "start_time": "2024-08-14T20:08:23.442Z"
   },
   {
    "duration": 9,
    "start_time": "2024-08-14T20:09:03.723Z"
   },
   {
    "duration": 12,
    "start_time": "2024-08-14T20:09:08.899Z"
   },
   {
    "duration": 20,
    "start_time": "2024-08-14T20:14:32.045Z"
   },
   {
    "duration": 17,
    "start_time": "2024-08-14T20:14:44.416Z"
   },
   {
    "duration": 173,
    "start_time": "2024-08-14T20:16:01.205Z"
   },
   {
    "duration": 16,
    "start_time": "2024-08-14T20:17:39.290Z"
   },
   {
    "duration": 213,
    "start_time": "2024-08-14T20:22:50.417Z"
   },
   {
    "duration": 204,
    "start_time": "2024-08-14T20:23:54.193Z"
   },
   {
    "duration": 234,
    "start_time": "2024-08-14T20:24:32.365Z"
   },
   {
    "duration": 219,
    "start_time": "2024-08-14T20:24:50.212Z"
   },
   {
    "duration": 25,
    "start_time": "2024-08-14T20:25:20.596Z"
   },
   {
    "duration": 210,
    "start_time": "2024-08-14T20:25:25.329Z"
   },
   {
    "duration": 7,
    "start_time": "2024-08-14T20:30:18.452Z"
   },
   {
    "duration": 36,
    "start_time": "2024-08-14T20:30:36.390Z"
   },
   {
    "duration": 13,
    "start_time": "2024-08-14T20:32:01.701Z"
   },
   {
    "duration": 18,
    "start_time": "2024-08-14T20:32:23.310Z"
   },
   {
    "duration": 278,
    "start_time": "2024-08-14T20:32:50.001Z"
   },
   {
    "duration": 289,
    "start_time": "2024-08-14T20:33:22.041Z"
   },
   {
    "duration": 20,
    "start_time": "2024-08-14T20:34:27.888Z"
   },
   {
    "duration": 14,
    "start_time": "2024-08-14T20:36:51.405Z"
   },
   {
    "duration": 49,
    "start_time": "2024-08-14T20:37:11.465Z"
   },
   {
    "duration": 46,
    "start_time": "2024-08-14T20:37:35.865Z"
   },
   {
    "duration": 335,
    "start_time": "2024-08-14T20:37:42.169Z"
   },
   {
    "duration": 17,
    "start_time": "2024-08-14T20:39:03.772Z"
   },
   {
    "duration": 43,
    "start_time": "2024-08-14T20:39:24.113Z"
   },
   {
    "duration": 347,
    "start_time": "2024-08-14T20:39:54.088Z"
   },
   {
    "duration": 16,
    "start_time": "2024-08-14T20:40:15.888Z"
   },
   {
    "duration": 3869,
    "start_time": "2024-08-14T20:40:30.815Z"
   },
   {
    "duration": 587,
    "start_time": "2024-08-14T20:41:01.573Z"
   },
   {
    "duration": 8235,
    "start_time": "2024-08-14T20:41:29.238Z"
   },
   {
    "duration": 642,
    "start_time": "2024-08-14T20:41:51.056Z"
   },
   {
    "duration": 155,
    "start_time": "2024-08-14T20:51:12.685Z"
   },
   {
    "duration": 19,
    "start_time": "2024-08-14T20:57:37.386Z"
   },
   {
    "duration": 50,
    "start_time": "2024-08-14T20:57:55.473Z"
   },
   {
    "duration": 366,
    "start_time": "2024-08-14T20:58:12.686Z"
   },
   {
    "duration": 364,
    "start_time": "2024-08-14T20:58:33.946Z"
   },
   {
    "duration": 1050,
    "start_time": "2024-08-14T21:12:40.138Z"
   },
   {
    "duration": 1245,
    "start_time": "2024-08-14T21:12:58.355Z"
   },
   {
    "duration": 1022,
    "start_time": "2024-08-14T21:14:09.467Z"
   },
   {
    "duration": 13,
    "start_time": "2024-08-14T21:23:31.323Z"
   },
   {
    "duration": 16,
    "start_time": "2024-08-14T21:23:43.955Z"
   },
   {
    "duration": 167,
    "start_time": "2024-08-14T21:24:00.780Z"
   },
   {
    "duration": 14113,
    "start_time": "2024-08-14T21:24:29.715Z"
   },
   {
    "duration": 20405,
    "start_time": "2024-08-14T21:25:09.465Z"
   },
   {
    "duration": 1823,
    "start_time": "2024-08-14T21:25:43.027Z"
   },
   {
    "duration": 13,
    "start_time": "2024-08-14T21:29:32.418Z"
   },
   {
    "duration": 28,
    "start_time": "2024-08-14T21:29:41.872Z"
   },
   {
    "duration": 607,
    "start_time": "2024-08-14T21:29:54.903Z"
   },
   {
    "duration": 42,
    "start_time": "2024-08-14T21:31:36.942Z"
   },
   {
    "duration": 40,
    "start_time": "2024-08-14T21:31:49.568Z"
   },
   {
    "duration": 608,
    "start_time": "2024-08-14T21:34:28.452Z"
   },
   {
    "duration": 31,
    "start_time": "2024-08-14T21:37:53.902Z"
   },
   {
    "duration": 141,
    "start_time": "2024-08-14T21:38:07.037Z"
   },
   {
    "duration": 46,
    "start_time": "2024-08-14T21:39:18.163Z"
   },
   {
    "duration": 48,
    "start_time": "2024-08-14T21:39:28.389Z"
   },
   {
    "duration": 133,
    "start_time": "2024-08-14T21:39:41.309Z"
   },
   {
    "duration": 203,
    "start_time": "2024-08-14T21:41:53.996Z"
   },
   {
    "duration": 199,
    "start_time": "2024-08-14T21:42:26.119Z"
   },
   {
    "duration": 50,
    "start_time": "2024-08-14T21:44:02.495Z"
   },
   {
    "duration": 45,
    "start_time": "2024-08-14T21:44:22.656Z"
   },
   {
    "duration": 56,
    "start_time": "2024-08-14T21:44:38.695Z"
   },
   {
    "duration": 1116,
    "start_time": "2024-08-14T21:46:25.940Z"
   },
   {
    "duration": 204,
    "start_time": "2024-08-14T21:50:31.860Z"
   },
   {
    "duration": 189,
    "start_time": "2024-08-14T21:51:44.370Z"
   },
   {
    "duration": 196,
    "start_time": "2024-08-14T21:51:45.625Z"
   },
   {
    "duration": 199,
    "start_time": "2024-08-14T21:51:47.687Z"
   },
   {
    "duration": 191,
    "start_time": "2024-08-14T21:51:50.571Z"
   },
   {
    "duration": 198,
    "start_time": "2024-08-14T21:52:18.124Z"
   },
   {
    "duration": 215,
    "start_time": "2024-08-14T21:53:07.936Z"
   },
   {
    "duration": 198,
    "start_time": "2024-08-14T21:53:09.832Z"
   },
   {
    "duration": 191,
    "start_time": "2024-08-14T21:53:11.313Z"
   },
   {
    "duration": 198,
    "start_time": "2024-08-14T21:53:12.305Z"
   },
   {
    "duration": 200,
    "start_time": "2024-08-14T21:53:13.286Z"
   },
   {
    "duration": 194,
    "start_time": "2024-08-14T21:53:14.195Z"
   },
   {
    "duration": 195,
    "start_time": "2024-08-14T21:53:35.331Z"
   },
   {
    "duration": 202,
    "start_time": "2024-08-14T21:53:41.172Z"
   },
   {
    "duration": 186,
    "start_time": "2024-08-14T21:53:58.637Z"
   },
   {
    "duration": 13,
    "start_time": "2024-08-14T22:01:39.839Z"
   },
   {
    "duration": 316,
    "start_time": "2024-08-14T22:01:47.190Z"
   },
   {
    "duration": 321,
    "start_time": "2024-08-14T22:06:19.313Z"
   },
   {
    "duration": 338,
    "start_time": "2024-08-14T22:08:39.748Z"
   },
   {
    "duration": 369,
    "start_time": "2024-08-14T22:08:49.991Z"
   },
   {
    "duration": 238,
    "start_time": "2024-08-14T22:30:13.465Z"
   },
   {
    "duration": 226,
    "start_time": "2024-08-14T22:31:40.280Z"
   },
   {
    "duration": 206,
    "start_time": "2024-08-14T22:31:58.735Z"
   },
   {
    "duration": 250,
    "start_time": "2024-08-14T22:34:59.867Z"
   },
   {
    "duration": 212,
    "start_time": "2024-08-14T22:35:06.745Z"
   },
   {
    "duration": 254,
    "start_time": "2024-08-14T22:35:09.140Z"
   },
   {
    "duration": 197,
    "start_time": "2024-08-14T22:35:18.971Z"
   },
   {
    "duration": 160,
    "start_time": "2024-08-14T22:41:17.537Z"
   },
   {
    "duration": 150,
    "start_time": "2024-08-14T22:41:44.113Z"
   },
   {
    "duration": 153,
    "start_time": "2024-08-14T22:42:08.433Z"
   },
   {
    "duration": 142,
    "start_time": "2024-08-14T22:42:30.118Z"
   },
   {
    "duration": 178,
    "start_time": "2024-08-14T22:44:44.022Z"
   },
   {
    "duration": 20,
    "start_time": "2024-08-14T22:50:16.709Z"
   },
   {
    "duration": 287,
    "start_time": "2024-08-14T22:50:29.712Z"
   },
   {
    "duration": 31,
    "start_time": "2024-08-14T22:52:06.154Z"
   },
   {
    "duration": 280,
    "start_time": "2024-08-14T22:58:06.554Z"
   },
   {
    "duration": 1222,
    "start_time": "2024-08-15T19:02:09.092Z"
   },
   {
    "duration": 221,
    "start_time": "2024-08-15T19:02:10.316Z"
   },
   {
    "duration": 14,
    "start_time": "2024-08-15T19:02:10.538Z"
   },
   {
    "duration": 9,
    "start_time": "2024-08-15T19:02:10.554Z"
   },
   {
    "duration": 16,
    "start_time": "2024-08-15T19:02:10.564Z"
   },
   {
    "duration": 14,
    "start_time": "2024-08-15T19:02:10.581Z"
   },
   {
    "duration": 14,
    "start_time": "2024-08-15T19:02:10.596Z"
   },
   {
    "duration": 14,
    "start_time": "2024-08-15T19:02:10.611Z"
   },
   {
    "duration": 27,
    "start_time": "2024-08-15T19:02:10.626Z"
   },
   {
    "duration": 12,
    "start_time": "2024-08-15T19:02:10.656Z"
   },
   {
    "duration": 42,
    "start_time": "2024-08-15T19:02:10.669Z"
   },
   {
    "duration": 20,
    "start_time": "2024-08-15T19:02:10.712Z"
   },
   {
    "duration": 46,
    "start_time": "2024-08-15T19:02:10.752Z"
   },
   {
    "duration": 15,
    "start_time": "2024-08-15T19:02:10.799Z"
   },
   {
    "duration": 40,
    "start_time": "2024-08-15T19:02:10.815Z"
   },
   {
    "duration": 8,
    "start_time": "2024-08-15T19:02:10.857Z"
   },
   {
    "duration": 52,
    "start_time": "2024-08-15T19:02:10.866Z"
   },
   {
    "duration": 34,
    "start_time": "2024-08-15T19:02:10.920Z"
   },
   {
    "duration": 351,
    "start_time": "2024-08-15T19:02:10.955Z"
   },
   {
    "duration": 299,
    "start_time": "2024-08-15T19:02:11.307Z"
   },
   {
    "duration": 268,
    "start_time": "2024-08-15T19:02:11.607Z"
   },
   {
    "duration": 103,
    "start_time": "2024-08-15T19:02:11.876Z"
   },
   {
    "duration": 0,
    "start_time": "2024-08-15T19:02:11.980Z"
   },
   {
    "duration": 0,
    "start_time": "2024-08-15T19:02:11.981Z"
   },
   {
    "duration": 0,
    "start_time": "2024-08-15T19:02:11.982Z"
   },
   {
    "duration": 0,
    "start_time": "2024-08-15T19:02:11.984Z"
   },
   {
    "duration": 0,
    "start_time": "2024-08-15T19:02:11.985Z"
   },
   {
    "duration": 0,
    "start_time": "2024-08-15T19:02:11.986Z"
   },
   {
    "duration": 0,
    "start_time": "2024-08-15T19:02:11.987Z"
   },
   {
    "duration": 0,
    "start_time": "2024-08-15T19:02:11.988Z"
   },
   {
    "duration": 0,
    "start_time": "2024-08-15T19:02:11.989Z"
   },
   {
    "duration": 0,
    "start_time": "2024-08-15T19:02:11.990Z"
   },
   {
    "duration": 0,
    "start_time": "2024-08-15T19:02:11.992Z"
   },
   {
    "duration": 0,
    "start_time": "2024-08-15T19:02:11.993Z"
   },
   {
    "duration": 1,
    "start_time": "2024-08-15T19:02:11.993Z"
   },
   {
    "duration": 8,
    "start_time": "2024-08-15T19:04:17.494Z"
   },
   {
    "duration": 169,
    "start_time": "2024-08-15T19:05:31.639Z"
   },
   {
    "duration": 172,
    "start_time": "2024-08-15T19:05:41.646Z"
   },
   {
    "duration": 167,
    "start_time": "2024-08-15T19:05:47.842Z"
   },
   {
    "duration": 227,
    "start_time": "2024-08-15T19:05:53.130Z"
   },
   {
    "duration": 168,
    "start_time": "2024-08-15T19:05:58.777Z"
   },
   {
    "duration": 166,
    "start_time": "2024-08-15T19:06:06.123Z"
   },
   {
    "duration": 193,
    "start_time": "2024-08-15T19:06:18.906Z"
   },
   {
    "duration": 16,
    "start_time": "2024-08-15T19:06:22.788Z"
   },
   {
    "duration": 128,
    "start_time": "2024-08-15T19:06:29.211Z"
   },
   {
    "duration": 178,
    "start_time": "2024-08-15T19:06:33.793Z"
   },
   {
    "duration": 135,
    "start_time": "2024-08-15T19:06:39.203Z"
   },
   {
    "duration": 130,
    "start_time": "2024-08-15T19:06:45.389Z"
   },
   {
    "duration": 165,
    "start_time": "2024-08-15T19:06:49.901Z"
   },
   {
    "duration": 241,
    "start_time": "2024-08-15T19:06:54.685Z"
   },
   {
    "duration": 27,
    "start_time": "2024-08-15T19:06:57.224Z"
   },
   {
    "duration": 14,
    "start_time": "2024-08-15T19:07:04.784Z"
   },
   {
    "duration": 207,
    "start_time": "2024-08-15T19:09:15.577Z"
   },
   {
    "duration": 125,
    "start_time": "2024-08-15T19:11:25.074Z"
   },
   {
    "duration": 137,
    "start_time": "2024-08-15T19:11:45.369Z"
   },
   {
    "duration": 134,
    "start_time": "2024-08-15T19:11:50.286Z"
   },
   {
    "duration": 143,
    "start_time": "2024-08-15T19:14:56.675Z"
   },
   {
    "duration": 134,
    "start_time": "2024-08-15T19:15:19.843Z"
   },
   {
    "duration": 147,
    "start_time": "2024-08-15T19:15:44.706Z"
   },
   {
    "duration": 21,
    "start_time": "2024-08-15T19:17:27.040Z"
   },
   {
    "duration": 147,
    "start_time": "2024-08-15T19:20:26.119Z"
   },
   {
    "duration": 143,
    "start_time": "2024-08-15T19:20:59.199Z"
   },
   {
    "duration": 147,
    "start_time": "2024-08-15T19:21:47.225Z"
   },
   {
    "duration": 154,
    "start_time": "2024-08-15T19:22:49.350Z"
   },
   {
    "duration": 160,
    "start_time": "2024-08-15T19:23:28.064Z"
   },
   {
    "duration": 152,
    "start_time": "2024-08-15T19:23:59.984Z"
   },
   {
    "duration": 145,
    "start_time": "2024-08-15T19:24:30.772Z"
   },
   {
    "duration": 17,
    "start_time": "2024-08-15T19:26:29.426Z"
   },
   {
    "duration": 153,
    "start_time": "2024-08-15T19:28:31.912Z"
   },
   {
    "duration": 206,
    "start_time": "2024-08-15T19:30:14.604Z"
   },
   {
    "duration": 170,
    "start_time": "2024-08-15T19:30:19.575Z"
   },
   {
    "duration": 231,
    "start_time": "2024-08-15T19:35:25.186Z"
   },
   {
    "duration": 232,
    "start_time": "2024-08-15T19:36:08.394Z"
   },
   {
    "duration": 1015,
    "start_time": "2024-08-15T19:41:56.868Z"
   },
   {
    "duration": 261,
    "start_time": "2024-08-15T19:42:08.316Z"
   },
   {
    "duration": 187,
    "start_time": "2024-08-15T19:42:49.323Z"
   },
   {
    "duration": 19,
    "start_time": "2024-08-15T19:43:48.924Z"
   },
   {
    "duration": 211,
    "start_time": "2024-08-15T19:44:40.301Z"
   },
   {
    "duration": 202,
    "start_time": "2024-08-15T19:45:34.850Z"
   },
   {
    "duration": 227,
    "start_time": "2024-08-15T19:46:04.982Z"
   },
   {
    "duration": 209,
    "start_time": "2024-08-15T19:46:35.921Z"
   },
   {
    "duration": 204,
    "start_time": "2024-08-15T19:47:06.986Z"
   },
   {
    "duration": 195,
    "start_time": "2024-08-15T19:48:07.794Z"
   },
   {
    "duration": 373,
    "start_time": "2024-08-15T19:49:10.253Z"
   },
   {
    "duration": 622,
    "start_time": "2024-08-15T19:50:23.856Z"
   },
   {
    "duration": 634,
    "start_time": "2024-08-15T19:50:39.681Z"
   },
   {
    "duration": 582,
    "start_time": "2024-08-15T19:52:23.476Z"
   },
   {
    "duration": 540,
    "start_time": "2024-08-15T19:54:00.599Z"
   },
   {
    "duration": 502,
    "start_time": "2024-08-15T19:54:11.402Z"
   },
   {
    "duration": 530,
    "start_time": "2024-08-15T19:54:29.596Z"
   },
   {
    "duration": 514,
    "start_time": "2024-08-15T19:54:44.693Z"
   },
   {
    "duration": 535,
    "start_time": "2024-08-15T19:55:07.585Z"
   },
   {
    "duration": 673,
    "start_time": "2024-08-15T19:55:22.781Z"
   },
   {
    "duration": 510,
    "start_time": "2024-08-15T19:55:38.330Z"
   },
   {
    "duration": 539,
    "start_time": "2024-08-15T19:55:50.708Z"
   },
   {
    "duration": 526,
    "start_time": "2024-08-15T19:56:02.518Z"
   },
   {
    "duration": 514,
    "start_time": "2024-08-15T19:57:11.163Z"
   },
   {
    "duration": 531,
    "start_time": "2024-08-15T19:57:18.184Z"
   },
   {
    "duration": 704,
    "start_time": "2024-08-15T19:58:16.864Z"
   },
   {
    "duration": 568,
    "start_time": "2024-08-15T19:59:22.590Z"
   },
   {
    "duration": 11,
    "start_time": "2024-08-15T20:09:25.303Z"
   },
   {
    "duration": 49,
    "start_time": "2024-08-15T20:11:06.792Z"
   },
   {
    "duration": 180,
    "start_time": "2024-08-15T20:11:22.531Z"
   },
   {
    "duration": 178,
    "start_time": "2024-08-15T20:11:56.392Z"
   },
   {
    "duration": 3875,
    "start_time": "2024-08-15T20:17:26.002Z"
   },
   {
    "duration": 195,
    "start_time": "2024-08-15T20:18:57.591Z"
   },
   {
    "duration": 199,
    "start_time": "2024-08-15T20:19:44.884Z"
   },
   {
    "duration": 214,
    "start_time": "2024-08-15T20:20:18.760Z"
   },
   {
    "duration": 354,
    "start_time": "2024-08-15T20:22:56.957Z"
   },
   {
    "duration": 195,
    "start_time": "2024-08-15T20:24:29.728Z"
   },
   {
    "duration": 171,
    "start_time": "2024-08-15T20:25:56.305Z"
   },
   {
    "duration": 107,
    "start_time": "2024-08-15T20:25:58.670Z"
   },
   {
    "duration": 162,
    "start_time": "2024-08-15T20:30:19.913Z"
   },
   {
    "duration": 166,
    "start_time": "2024-08-15T20:30:27.193Z"
   },
   {
    "duration": 153,
    "start_time": "2024-08-15T20:33:01.983Z"
   },
   {
    "duration": 117,
    "start_time": "2024-08-15T20:33:28.254Z"
   },
   {
    "duration": 105,
    "start_time": "2024-08-15T20:33:45.548Z"
   },
   {
    "duration": 179,
    "start_time": "2024-08-15T20:35:00.578Z"
   },
   {
    "duration": 165,
    "start_time": "2024-08-15T20:35:15.204Z"
   },
   {
    "duration": 166,
    "start_time": "2024-08-15T20:35:23.607Z"
   },
   {
    "duration": 546,
    "start_time": "2024-08-15T20:45:54.514Z"
   },
   {
    "duration": 14,
    "start_time": "2024-08-15T20:50:10.093Z"
   },
   {
    "duration": 162,
    "start_time": "2024-08-15T20:51:15.756Z"
   },
   {
    "duration": 405,
    "start_time": "2024-08-15T20:52:28.696Z"
   },
   {
    "duration": 286,
    "start_time": "2024-08-15T20:53:10.568Z"
   },
   {
    "duration": 50,
    "start_time": "2024-08-15T20:54:22.444Z"
   },
   {
    "duration": 1364,
    "start_time": "2024-08-15T20:54:32.878Z"
   },
   {
    "duration": 414,
    "start_time": "2024-08-15T20:55:35.017Z"
   },
   {
    "duration": 1309,
    "start_time": "2024-08-16T14:24:39.391Z"
   },
   {
    "duration": 224,
    "start_time": "2024-08-16T14:24:40.702Z"
   },
   {
    "duration": 14,
    "start_time": "2024-08-16T14:24:40.927Z"
   },
   {
    "duration": 9,
    "start_time": "2024-08-16T14:24:40.943Z"
   },
   {
    "duration": 21,
    "start_time": "2024-08-16T14:24:40.953Z"
   },
   {
    "duration": 23,
    "start_time": "2024-08-16T14:24:40.975Z"
   },
   {
    "duration": 6,
    "start_time": "2024-08-16T14:24:41.000Z"
   },
   {
    "duration": 18,
    "start_time": "2024-08-16T14:24:41.007Z"
   },
   {
    "duration": 12,
    "start_time": "2024-08-16T14:24:41.027Z"
   },
   {
    "duration": 11,
    "start_time": "2024-08-16T14:24:41.041Z"
   },
   {
    "duration": 60,
    "start_time": "2024-08-16T14:24:41.053Z"
   },
   {
    "duration": 20,
    "start_time": "2024-08-16T14:24:41.115Z"
   },
   {
    "duration": 10,
    "start_time": "2024-08-16T14:24:41.136Z"
   },
   {
    "duration": 19,
    "start_time": "2024-08-16T14:24:41.148Z"
   },
   {
    "duration": 48,
    "start_time": "2024-08-16T14:24:41.169Z"
   },
   {
    "duration": 7,
    "start_time": "2024-08-16T14:24:41.219Z"
   },
   {
    "duration": 59,
    "start_time": "2024-08-16T14:24:41.228Z"
   },
   {
    "duration": 14,
    "start_time": "2024-08-16T14:24:41.289Z"
   },
   {
    "duration": 362,
    "start_time": "2024-08-16T14:24:41.305Z"
   },
   {
    "duration": 315,
    "start_time": "2024-08-16T14:24:41.668Z"
   },
   {
    "duration": 272,
    "start_time": "2024-08-16T14:24:41.984Z"
   },
   {
    "duration": 198,
    "start_time": "2024-08-16T14:24:42.258Z"
   },
   {
    "duration": 192,
    "start_time": "2024-08-16T14:24:42.458Z"
   },
   {
    "duration": 177,
    "start_time": "2024-08-16T14:24:42.652Z"
   },
   {
    "duration": 255,
    "start_time": "2024-08-16T14:24:42.831Z"
   },
   {
    "duration": 207,
    "start_time": "2024-08-16T14:24:43.088Z"
   },
   {
    "duration": 185,
    "start_time": "2024-08-16T14:24:43.297Z"
   },
   {
    "duration": 201,
    "start_time": "2024-08-16T14:24:43.485Z"
   },
   {
    "duration": 153,
    "start_time": "2024-08-16T14:24:43.687Z"
   },
   {
    "duration": 161,
    "start_time": "2024-08-16T14:24:43.842Z"
   },
   {
    "duration": 151,
    "start_time": "2024-08-16T14:24:44.004Z"
   },
   {
    "duration": 150,
    "start_time": "2024-08-16T14:24:44.156Z"
   },
   {
    "duration": 184,
    "start_time": "2024-08-16T14:24:44.307Z"
   },
   {
    "duration": 260,
    "start_time": "2024-08-16T14:24:44.493Z"
   },
   {
    "duration": 33,
    "start_time": "2024-08-16T14:24:44.754Z"
   },
   {
    "duration": 89,
    "start_time": "2024-08-16T14:24:44.788Z"
   },
   {
    "duration": 234,
    "start_time": "2024-08-16T14:24:44.878Z"
   },
   {
    "duration": 150,
    "start_time": "2024-08-16T14:24:45.114Z"
   },
   {
    "duration": 157,
    "start_time": "2024-08-16T14:24:45.266Z"
   },
   {
    "duration": 167,
    "start_time": "2024-08-16T14:24:45.425Z"
   },
   {
    "duration": 218,
    "start_time": "2024-08-16T14:24:45.594Z"
   },
   {
    "duration": 497,
    "start_time": "2024-08-16T14:24:45.814Z"
   },
   {
    "duration": 500,
    "start_time": "2024-08-16T14:24:46.313Z"
   },
   {
    "duration": 198,
    "start_time": "2024-08-16T14:24:46.814Z"
   },
   {
    "duration": 129,
    "start_time": "2024-08-16T14:24:47.014Z"
   },
   {
    "duration": 199,
    "start_time": "2024-08-16T14:24:47.144Z"
   },
   {
    "duration": 130,
    "start_time": "2024-08-16T14:24:47.344Z"
   },
   {
    "duration": 185,
    "start_time": "2024-08-16T14:24:47.481Z"
   },
   {
    "duration": 220,
    "start_time": "2024-08-16T14:24:47.668Z"
   },
   {
    "duration": 560,
    "start_time": "2024-08-16T14:24:47.889Z"
   },
   {
    "duration": 13,
    "start_time": "2024-08-16T14:24:48.450Z"
   },
   {
    "duration": 490,
    "start_time": "2024-08-16T14:24:48.464Z"
   },
   {
    "duration": 107,
    "start_time": "2024-08-16T14:38:52.892Z"
   },
   {
    "duration": 17,
    "start_time": "2024-08-16T14:39:17.094Z"
   },
   {
    "duration": 5,
    "start_time": "2024-08-16T14:39:34.746Z"
   },
   {
    "duration": 7,
    "start_time": "2024-08-16T14:39:40.321Z"
   },
   {
    "duration": 10,
    "start_time": "2024-08-16T14:40:09.322Z"
   },
   {
    "duration": 10,
    "start_time": "2024-08-16T14:42:01.570Z"
   },
   {
    "duration": 10,
    "start_time": "2024-08-16T14:42:38.382Z"
   },
   {
    "duration": 32,
    "start_time": "2024-08-16T14:43:27.385Z"
   },
   {
    "duration": 11,
    "start_time": "2024-08-16T14:44:20.982Z"
   },
   {
    "duration": 9,
    "start_time": "2024-08-16T14:44:49.543Z"
   },
   {
    "duration": 5,
    "start_time": "2024-08-16T14:45:37.078Z"
   },
   {
    "duration": 11,
    "start_time": "2024-08-16T14:48:12.940Z"
   },
   {
    "duration": 12,
    "start_time": "2024-08-16T14:51:24.913Z"
   },
   {
    "duration": 10,
    "start_time": "2024-08-16T14:53:51.035Z"
   },
   {
    "duration": 11,
    "start_time": "2024-08-16T14:54:03.457Z"
   },
   {
    "duration": 17,
    "start_time": "2024-08-16T15:22:06.221Z"
   },
   {
    "duration": 16,
    "start_time": "2024-08-16T15:22:50.212Z"
   },
   {
    "duration": 3,
    "start_time": "2024-08-16T15:23:51.079Z"
   },
   {
    "duration": 6,
    "start_time": "2024-08-16T15:23:55.632Z"
   },
   {
    "duration": 5,
    "start_time": "2024-08-16T15:25:48.901Z"
   },
   {
    "duration": 5,
    "start_time": "2024-08-16T15:27:02.214Z"
   },
   {
    "duration": 10,
    "start_time": "2024-08-16T15:31:50.516Z"
   },
   {
    "duration": 8,
    "start_time": "2024-08-16T15:31:59.330Z"
   },
   {
    "duration": 7,
    "start_time": "2024-08-16T15:32:01.963Z"
   },
   {
    "duration": 5,
    "start_time": "2024-08-16T15:41:32.616Z"
   },
   {
    "duration": 4,
    "start_time": "2024-08-16T15:43:20.588Z"
   },
   {
    "duration": 4,
    "start_time": "2024-08-16T15:43:32.627Z"
   },
   {
    "duration": 1092,
    "start_time": "2024-08-16T16:18:56.815Z"
   },
   {
    "duration": 76,
    "start_time": "2024-08-16T16:18:57.909Z"
   },
   {
    "duration": 13,
    "start_time": "2024-08-16T16:18:57.987Z"
   },
   {
    "duration": 14,
    "start_time": "2024-08-16T16:18:58.002Z"
   },
   {
    "duration": 19,
    "start_time": "2024-08-16T16:18:58.018Z"
   },
   {
    "duration": 22,
    "start_time": "2024-08-16T16:18:58.039Z"
   },
   {
    "duration": 8,
    "start_time": "2024-08-16T16:18:58.082Z"
   },
   {
    "duration": 23,
    "start_time": "2024-08-16T16:18:58.092Z"
   },
   {
    "duration": 13,
    "start_time": "2024-08-16T16:18:58.116Z"
   },
   {
    "duration": 11,
    "start_time": "2024-08-16T16:18:58.131Z"
   },
   {
    "duration": 65,
    "start_time": "2024-08-16T16:18:58.143Z"
   },
   {
    "duration": 19,
    "start_time": "2024-08-16T16:18:58.210Z"
   },
   {
    "duration": 12,
    "start_time": "2024-08-16T16:18:58.231Z"
   },
   {
    "duration": 11,
    "start_time": "2024-08-16T16:18:58.244Z"
   },
   {
    "duration": 62,
    "start_time": "2024-08-16T16:18:58.257Z"
   },
   {
    "duration": 10,
    "start_time": "2024-08-16T16:18:58.321Z"
   },
   {
    "duration": 71,
    "start_time": "2024-08-16T16:18:58.332Z"
   },
   {
    "duration": 15,
    "start_time": "2024-08-16T16:18:58.405Z"
   },
   {
    "duration": 361,
    "start_time": "2024-08-16T16:18:58.422Z"
   },
   {
    "duration": 307,
    "start_time": "2024-08-16T16:18:58.785Z"
   },
   {
    "duration": 273,
    "start_time": "2024-08-16T16:18:59.094Z"
   },
   {
    "duration": 203,
    "start_time": "2024-08-16T16:18:59.369Z"
   },
   {
    "duration": 204,
    "start_time": "2024-08-16T16:18:59.574Z"
   },
   {
    "duration": 181,
    "start_time": "2024-08-16T16:18:59.781Z"
   },
   {
    "duration": 277,
    "start_time": "2024-08-16T16:18:59.964Z"
   },
   {
    "duration": 215,
    "start_time": "2024-08-16T16:19:00.243Z"
   },
   {
    "duration": 191,
    "start_time": "2024-08-16T16:19:00.459Z"
   },
   {
    "duration": 233,
    "start_time": "2024-08-16T16:19:00.653Z"
   },
   {
    "duration": 147,
    "start_time": "2024-08-16T16:19:00.888Z"
   },
   {
    "duration": 245,
    "start_time": "2024-08-16T16:19:01.037Z"
   },
   {
    "duration": 152,
    "start_time": "2024-08-16T16:19:01.284Z"
   },
   {
    "duration": 145,
    "start_time": "2024-08-16T16:19:01.438Z"
   },
   {
    "duration": 188,
    "start_time": "2024-08-16T16:19:01.585Z"
   },
   {
    "duration": 289,
    "start_time": "2024-08-16T16:19:01.774Z"
   },
   {
    "duration": 42,
    "start_time": "2024-08-16T16:19:02.065Z"
   },
   {
    "duration": 26,
    "start_time": "2024-08-16T16:19:02.109Z"
   },
   {
    "duration": 246,
    "start_time": "2024-08-16T16:19:02.137Z"
   },
   {
    "duration": 157,
    "start_time": "2024-08-16T16:19:02.385Z"
   },
   {
    "duration": 171,
    "start_time": "2024-08-16T16:19:02.544Z"
   },
   {
    "duration": 159,
    "start_time": "2024-08-16T16:19:02.717Z"
   },
   {
    "duration": 217,
    "start_time": "2024-08-16T16:19:02.882Z"
   },
   {
    "duration": 545,
    "start_time": "2024-08-16T16:19:03.100Z"
   },
   {
    "duration": 515,
    "start_time": "2024-08-16T16:19:03.647Z"
   },
   {
    "duration": 202,
    "start_time": "2024-08-16T16:19:04.164Z"
   },
   {
    "duration": 124,
    "start_time": "2024-08-16T16:19:04.367Z"
   },
   {
    "duration": 178,
    "start_time": "2024-08-16T16:19:04.492Z"
   },
   {
    "duration": 122,
    "start_time": "2024-08-16T16:19:04.671Z"
   },
   {
    "duration": 191,
    "start_time": "2024-08-16T16:19:04.795Z"
   },
   {
    "duration": 233,
    "start_time": "2024-08-16T16:19:04.988Z"
   },
   {
    "duration": 562,
    "start_time": "2024-08-16T16:19:05.222Z"
   },
   {
    "duration": 20,
    "start_time": "2024-08-16T16:19:05.786Z"
   },
   {
    "duration": 432,
    "start_time": "2024-08-16T16:19:05.807Z"
   },
   {
    "duration": 6,
    "start_time": "2024-08-16T16:19:06.241Z"
   },
   {
    "duration": 15,
    "start_time": "2024-08-16T16:19:06.249Z"
   },
   {
    "duration": 5,
    "start_time": "2024-08-16T16:19:06.265Z"
   },
   {
    "duration": 16,
    "start_time": "2024-08-16T16:19:06.271Z"
   },
   {
    "duration": 5,
    "start_time": "2024-08-16T16:19:06.288Z"
   },
   {
    "duration": 35,
    "start_time": "2024-08-16T16:19:06.295Z"
   },
   {
    "duration": 1237,
    "start_time": "2024-08-16T16:53:14.804Z"
   },
   {
    "duration": 202,
    "start_time": "2024-08-16T16:53:16.044Z"
   },
   {
    "duration": 15,
    "start_time": "2024-08-16T16:53:16.247Z"
   },
   {
    "duration": 15,
    "start_time": "2024-08-16T16:53:16.264Z"
   },
   {
    "duration": 16,
    "start_time": "2024-08-16T16:53:16.281Z"
   },
   {
    "duration": 26,
    "start_time": "2024-08-16T16:53:16.305Z"
   },
   {
    "duration": 12,
    "start_time": "2024-08-16T16:53:16.333Z"
   },
   {
    "duration": 14,
    "start_time": "2024-08-16T16:53:16.347Z"
   },
   {
    "duration": 13,
    "start_time": "2024-08-16T16:53:16.363Z"
   },
   {
    "duration": 39,
    "start_time": "2024-08-16T16:53:16.379Z"
   },
   {
    "duration": 88,
    "start_time": "2024-08-16T16:53:16.420Z"
   },
   {
    "duration": 27,
    "start_time": "2024-08-16T16:53:16.510Z"
   },
   {
    "duration": 33,
    "start_time": "2024-08-16T16:53:16.539Z"
   },
   {
    "duration": 5,
    "start_time": "2024-08-16T16:53:16.573Z"
   },
   {
    "duration": 60,
    "start_time": "2024-08-16T16:53:16.579Z"
   },
   {
    "duration": 10,
    "start_time": "2024-08-16T16:53:16.641Z"
   },
   {
    "duration": 80,
    "start_time": "2024-08-16T16:53:16.652Z"
   },
   {
    "duration": 15,
    "start_time": "2024-08-16T16:53:16.734Z"
   },
   {
    "duration": 453,
    "start_time": "2024-08-16T16:53:16.751Z"
   },
   {
    "duration": 333,
    "start_time": "2024-08-16T16:53:17.206Z"
   },
   {
    "duration": 288,
    "start_time": "2024-08-16T16:53:17.540Z"
   },
   {
    "duration": 1184,
    "start_time": "2024-08-16T16:53:30.017Z"
   },
   {
    "duration": 96,
    "start_time": "2024-08-16T16:54:41.047Z"
   },
   {
    "duration": 1381,
    "start_time": "2024-08-16T16:55:02.231Z"
   },
   {
    "duration": 23,
    "start_time": "2024-08-16T16:55:15.924Z"
   },
   {
    "duration": 14,
    "start_time": "2024-08-16T16:55:40.343Z"
   },
   {
    "duration": 15,
    "start_time": "2024-08-16T16:56:14.514Z"
   },
   {
    "duration": 74,
    "start_time": "2024-08-16T16:56:50.325Z"
   },
   {
    "duration": 1072,
    "start_time": "2024-08-16T16:57:01.124Z"
   },
   {
    "duration": 67,
    "start_time": "2024-08-16T16:59:48.433Z"
   },
   {
    "duration": 288,
    "start_time": "2024-08-16T16:59:52.913Z"
   },
   {
    "duration": 24,
    "start_time": "2024-08-16T17:00:47.327Z"
   },
   {
    "duration": 15,
    "start_time": "2024-08-16T17:01:47.562Z"
   },
   {
    "duration": 1122,
    "start_time": "2024-08-16T17:01:56.880Z"
   },
   {
    "duration": 424,
    "start_time": "2024-08-16T17:02:04.696Z"
   },
   {
    "duration": 5,
    "start_time": "2024-08-16T17:02:42.344Z"
   },
   {
    "duration": 343,
    "start_time": "2024-08-16T17:03:07.402Z"
   },
   {
    "duration": 346,
    "start_time": "2024-08-16T17:03:28.201Z"
   },
   {
    "duration": 1186,
    "start_time": "2024-08-16T17:03:54.348Z"
   },
   {
    "duration": 80,
    "start_time": "2024-08-16T17:03:55.536Z"
   },
   {
    "duration": 22,
    "start_time": "2024-08-16T17:03:55.619Z"
   },
   {
    "duration": 13,
    "start_time": "2024-08-16T17:03:55.643Z"
   },
   {
    "duration": 19,
    "start_time": "2024-08-16T17:03:55.658Z"
   },
   {
    "duration": 32,
    "start_time": "2024-08-16T17:03:55.678Z"
   },
   {
    "duration": 11,
    "start_time": "2024-08-16T17:03:55.712Z"
   },
   {
    "duration": 18,
    "start_time": "2024-08-16T17:03:55.725Z"
   },
   {
    "duration": 12,
    "start_time": "2024-08-16T17:03:55.745Z"
   },
   {
    "duration": 12,
    "start_time": "2024-08-16T17:03:55.759Z"
   },
   {
    "duration": 85,
    "start_time": "2024-08-16T17:03:55.772Z"
   },
   {
    "duration": 28,
    "start_time": "2024-08-16T17:03:55.859Z"
   },
   {
    "duration": 21,
    "start_time": "2024-08-16T17:03:55.888Z"
   },
   {
    "duration": 6,
    "start_time": "2024-08-16T17:03:55.912Z"
   },
   {
    "duration": 70,
    "start_time": "2024-08-16T17:03:55.920Z"
   },
   {
    "duration": 21,
    "start_time": "2024-08-16T17:03:55.992Z"
   },
   {
    "duration": 98,
    "start_time": "2024-08-16T17:03:56.015Z"
   },
   {
    "duration": 21,
    "start_time": "2024-08-16T17:03:56.114Z"
   },
   {
    "duration": 404,
    "start_time": "2024-08-16T17:03:56.137Z"
   },
   {
    "duration": 353,
    "start_time": "2024-08-16T17:03:56.543Z"
   },
   {
    "duration": 322,
    "start_time": "2024-08-16T17:03:56.898Z"
   },
   {
    "duration": 338,
    "start_time": "2024-08-16T17:03:57.222Z"
   },
   {
    "duration": 22,
    "start_time": "2024-08-16T17:04:14.473Z"
   },
   {
    "duration": 473,
    "start_time": "2024-08-16T17:06:05.207Z"
   },
   {
    "duration": 74,
    "start_time": "2024-08-16T17:06:24.464Z"
   },
   {
    "duration": 1296,
    "start_time": "2024-08-16T17:06:40.148Z"
   },
   {
    "duration": 4,
    "start_time": "2024-08-16T17:17:42.061Z"
   },
   {
    "duration": 107,
    "start_time": "2024-08-16T17:17:42.068Z"
   },
   {
    "duration": 29,
    "start_time": "2024-08-16T17:17:42.177Z"
   },
   {
    "duration": 17,
    "start_time": "2024-08-16T17:17:42.209Z"
   },
   {
    "duration": 17,
    "start_time": "2024-08-16T17:17:42.228Z"
   },
   {
    "duration": 16,
    "start_time": "2024-08-16T17:17:42.247Z"
   },
   {
    "duration": 41,
    "start_time": "2024-08-16T17:17:42.264Z"
   },
   {
    "duration": 23,
    "start_time": "2024-08-16T17:17:42.309Z"
   },
   {
    "duration": 13,
    "start_time": "2024-08-16T17:17:42.333Z"
   },
   {
    "duration": 16,
    "start_time": "2024-08-16T17:17:42.349Z"
   },
   {
    "duration": 61,
    "start_time": "2024-08-16T17:17:42.366Z"
   },
   {
    "duration": 21,
    "start_time": "2024-08-16T17:17:42.429Z"
   },
   {
    "duration": 11,
    "start_time": "2024-08-16T17:17:42.452Z"
   },
   {
    "duration": 16,
    "start_time": "2024-08-16T17:17:42.464Z"
   },
   {
    "duration": 62,
    "start_time": "2024-08-16T17:17:42.481Z"
   },
   {
    "duration": 8,
    "start_time": "2024-08-16T17:17:42.545Z"
   },
   {
    "duration": 71,
    "start_time": "2024-08-16T17:17:42.555Z"
   },
   {
    "duration": 16,
    "start_time": "2024-08-16T17:17:42.629Z"
   },
   {
    "duration": 425,
    "start_time": "2024-08-16T17:17:42.647Z"
   },
   {
    "duration": 363,
    "start_time": "2024-08-16T17:17:43.074Z"
   },
   {
    "duration": 426,
    "start_time": "2024-08-16T17:17:43.440Z"
   },
   {
    "duration": 1365,
    "start_time": "2024-08-16T17:17:48.127Z"
   },
   {
    "duration": 1306,
    "start_time": "2024-08-16T17:18:13.719Z"
   },
   {
    "duration": 83,
    "start_time": "2024-08-16T17:18:15.028Z"
   },
   {
    "duration": 21,
    "start_time": "2024-08-16T17:18:15.113Z"
   },
   {
    "duration": 16,
    "start_time": "2024-08-16T17:18:15.136Z"
   },
   {
    "duration": 34,
    "start_time": "2024-08-16T17:18:15.154Z"
   },
   {
    "duration": 33,
    "start_time": "2024-08-16T17:18:15.190Z"
   },
   {
    "duration": 43,
    "start_time": "2024-08-16T17:18:15.227Z"
   },
   {
    "duration": 37,
    "start_time": "2024-08-16T17:18:15.272Z"
   },
   {
    "duration": 45,
    "start_time": "2024-08-16T17:18:15.311Z"
   },
   {
    "duration": 80,
    "start_time": "2024-08-16T17:18:15.359Z"
   },
   {
    "duration": 52,
    "start_time": "2024-08-16T17:18:15.441Z"
   },
   {
    "duration": 35,
    "start_time": "2024-08-16T17:18:15.494Z"
   },
   {
    "duration": 12,
    "start_time": "2024-08-16T17:18:15.531Z"
   },
   {
    "duration": 11,
    "start_time": "2024-08-16T17:18:15.544Z"
   },
   {
    "duration": 71,
    "start_time": "2024-08-16T17:18:15.557Z"
   },
   {
    "duration": 11,
    "start_time": "2024-08-16T17:18:15.630Z"
   },
   {
    "duration": 70,
    "start_time": "2024-08-16T17:18:15.642Z"
   },
   {
    "duration": 26,
    "start_time": "2024-08-16T17:18:15.714Z"
   },
   {
    "duration": 498,
    "start_time": "2024-08-16T17:18:15.742Z"
   },
   {
    "duration": 401,
    "start_time": "2024-08-16T17:18:16.242Z"
   },
   {
    "duration": 486,
    "start_time": "2024-08-16T17:18:16.645Z"
   },
   {
    "duration": 2316,
    "start_time": "2024-08-16T17:18:17.132Z"
   },
   {
    "duration": 302,
    "start_time": "2024-08-16T17:18:19.450Z"
   },
   {
    "duration": 223,
    "start_time": "2024-08-16T17:18:19.754Z"
   },
   {
    "duration": 202,
    "start_time": "2024-08-16T17:18:19.979Z"
   },
   {
    "duration": 244,
    "start_time": "2024-08-16T17:18:20.183Z"
   },
   {
    "duration": 247,
    "start_time": "2024-08-16T17:18:20.429Z"
   },
   {
    "duration": 272,
    "start_time": "2024-08-16T17:18:20.680Z"
   },
   {
    "duration": 231,
    "start_time": "2024-08-16T17:18:20.955Z"
   },
   {
    "duration": 170,
    "start_time": "2024-08-16T17:18:21.188Z"
   },
   {
    "duration": 247,
    "start_time": "2024-08-16T17:18:21.360Z"
   },
   {
    "duration": 165,
    "start_time": "2024-08-16T17:18:21.608Z"
   },
   {
    "duration": 156,
    "start_time": "2024-08-16T17:18:21.775Z"
   },
   {
    "duration": 223,
    "start_time": "2024-08-16T17:18:21.933Z"
   },
   {
    "duration": 335,
    "start_time": "2024-08-16T17:18:22.158Z"
   },
   {
    "duration": 44,
    "start_time": "2024-08-16T17:18:22.495Z"
   },
   {
    "duration": 18,
    "start_time": "2024-08-16T17:18:22.541Z"
   },
   {
    "duration": 199,
    "start_time": "2024-08-16T17:18:22.561Z"
   },
   {
    "duration": 176,
    "start_time": "2024-08-16T17:18:22.761Z"
   },
   {
    "duration": 176,
    "start_time": "2024-08-16T17:18:22.939Z"
   },
   {
    "duration": 190,
    "start_time": "2024-08-16T17:18:23.119Z"
   },
   {
    "duration": 240,
    "start_time": "2024-08-16T17:18:23.311Z"
   },
   {
    "duration": 632,
    "start_time": "2024-08-16T17:18:23.553Z"
   },
   {
    "duration": 684,
    "start_time": "2024-08-16T17:18:24.187Z"
   },
   {
    "duration": 214,
    "start_time": "2024-08-16T17:18:24.873Z"
   },
   {
    "duration": 150,
    "start_time": "2024-08-16T17:18:25.088Z"
   },
   {
    "duration": 217,
    "start_time": "2024-08-16T17:18:25.239Z"
   },
   {
    "duration": 133,
    "start_time": "2024-08-16T17:18:25.458Z"
   },
   {
    "duration": 260,
    "start_time": "2024-08-16T17:18:25.593Z"
   },
   {
    "duration": 137,
    "start_time": "2024-08-16T17:18:25.854Z"
   },
   {
    "duration": 701,
    "start_time": "2024-08-16T17:18:25.993Z"
   },
   {
    "duration": 20,
    "start_time": "2024-08-16T17:18:26.696Z"
   },
   {
    "duration": 566,
    "start_time": "2024-08-16T17:18:26.719Z"
   },
   {
    "duration": 7,
    "start_time": "2024-08-16T17:18:27.287Z"
   },
   {
    "duration": 8,
    "start_time": "2024-08-16T17:18:27.304Z"
   },
   {
    "duration": 8,
    "start_time": "2024-08-16T17:18:27.314Z"
   },
   {
    "duration": 12,
    "start_time": "2024-08-16T17:18:27.325Z"
   },
   {
    "duration": 6,
    "start_time": "2024-08-16T17:18:27.339Z"
   },
   {
    "duration": 23,
    "start_time": "2024-08-16T17:18:27.347Z"
   },
   {
    "duration": 50,
    "start_time": "2024-08-17T19:32:29.806Z"
   },
   {
    "duration": 47,
    "start_time": "2024-08-17T19:32:55.987Z"
   },
   {
    "duration": 1322,
    "start_time": "2024-08-17T19:53:46.617Z"
   },
   {
    "duration": 233,
    "start_time": "2024-08-17T19:53:49.153Z"
   },
   {
    "duration": 65,
    "start_time": "2024-08-17T19:53:56.106Z"
   },
   {
    "duration": 17,
    "start_time": "2024-08-17T19:54:00.915Z"
   },
   {
    "duration": 10,
    "start_time": "2024-08-17T19:54:03.934Z"
   },
   {
    "duration": 102,
    "start_time": "2024-08-17T19:54:06.436Z"
   },
   {
    "duration": 16,
    "start_time": "2024-08-17T19:54:28.386Z"
   },
   {
    "duration": 10,
    "start_time": "2024-08-17T19:55:55.083Z"
   },
   {
    "duration": 1015,
    "start_time": "2024-08-17T20:06:39.385Z"
   },
   {
    "duration": 1007,
    "start_time": "2024-08-17T20:12:27.091Z"
   },
   {
    "duration": 9,
    "start_time": "2024-08-17T20:12:39.252Z"
   },
   {
    "duration": 1166,
    "start_time": "2024-08-17T20:12:49.482Z"
   },
   {
    "duration": 75,
    "start_time": "2024-08-17T20:12:50.650Z"
   },
   {
    "duration": 16,
    "start_time": "2024-08-17T20:12:50.726Z"
   },
   {
    "duration": 10,
    "start_time": "2024-08-17T20:12:50.743Z"
   },
   {
    "duration": 118,
    "start_time": "2024-08-17T20:12:50.756Z"
   },
   {
    "duration": 0,
    "start_time": "2024-08-17T20:12:50.886Z"
   },
   {
    "duration": 0,
    "start_time": "2024-08-17T20:12:50.888Z"
   },
   {
    "duration": 0,
    "start_time": "2024-08-17T20:12:50.889Z"
   },
   {
    "duration": 0,
    "start_time": "2024-08-17T20:12:50.890Z"
   },
   {
    "duration": 0,
    "start_time": "2024-08-17T20:12:50.891Z"
   },
   {
    "duration": 0,
    "start_time": "2024-08-17T20:12:50.893Z"
   },
   {
    "duration": 0,
    "start_time": "2024-08-17T20:12:50.893Z"
   },
   {
    "duration": 0,
    "start_time": "2024-08-17T20:12:50.894Z"
   },
   {
    "duration": 0,
    "start_time": "2024-08-17T20:12:50.895Z"
   },
   {
    "duration": 0,
    "start_time": "2024-08-17T20:12:50.897Z"
   },
   {
    "duration": 0,
    "start_time": "2024-08-17T20:12:50.898Z"
   },
   {
    "duration": 0,
    "start_time": "2024-08-17T20:12:50.899Z"
   },
   {
    "duration": 0,
    "start_time": "2024-08-17T20:12:50.900Z"
   },
   {
    "duration": 0,
    "start_time": "2024-08-17T20:12:50.902Z"
   },
   {
    "duration": 0,
    "start_time": "2024-08-17T20:12:50.902Z"
   },
   {
    "duration": 0,
    "start_time": "2024-08-17T20:12:50.903Z"
   },
   {
    "duration": 0,
    "start_time": "2024-08-17T20:12:50.904Z"
   },
   {
    "duration": 0,
    "start_time": "2024-08-17T20:12:50.906Z"
   },
   {
    "duration": 0,
    "start_time": "2024-08-17T20:12:50.907Z"
   },
   {
    "duration": 0,
    "start_time": "2024-08-17T20:12:50.908Z"
   },
   {
    "duration": 0,
    "start_time": "2024-08-17T20:12:50.909Z"
   },
   {
    "duration": 0,
    "start_time": "2024-08-17T20:12:50.910Z"
   },
   {
    "duration": 0,
    "start_time": "2024-08-17T20:12:50.912Z"
   },
   {
    "duration": 0,
    "start_time": "2024-08-17T20:12:50.913Z"
   },
   {
    "duration": 0,
    "start_time": "2024-08-17T20:12:50.913Z"
   },
   {
    "duration": 0,
    "start_time": "2024-08-17T20:12:50.914Z"
   },
   {
    "duration": 0,
    "start_time": "2024-08-17T20:12:50.915Z"
   },
   {
    "duration": 0,
    "start_time": "2024-08-17T20:12:50.916Z"
   },
   {
    "duration": 0,
    "start_time": "2024-08-17T20:12:50.918Z"
   },
   {
    "duration": 0,
    "start_time": "2024-08-17T20:12:50.919Z"
   },
   {
    "duration": 0,
    "start_time": "2024-08-17T20:12:50.920Z"
   },
   {
    "duration": 0,
    "start_time": "2024-08-17T20:12:50.921Z"
   },
   {
    "duration": 0,
    "start_time": "2024-08-17T20:12:50.922Z"
   },
   {
    "duration": 0,
    "start_time": "2024-08-17T20:12:50.923Z"
   },
   {
    "duration": 0,
    "start_time": "2024-08-17T20:12:50.924Z"
   },
   {
    "duration": 0,
    "start_time": "2024-08-17T20:12:50.985Z"
   },
   {
    "duration": 0,
    "start_time": "2024-08-17T20:12:50.986Z"
   },
   {
    "duration": 0,
    "start_time": "2024-08-17T20:12:50.987Z"
   },
   {
    "duration": 0,
    "start_time": "2024-08-17T20:12:50.988Z"
   },
   {
    "duration": 0,
    "start_time": "2024-08-17T20:12:50.989Z"
   },
   {
    "duration": 0,
    "start_time": "2024-08-17T20:12:50.990Z"
   },
   {
    "duration": 0,
    "start_time": "2024-08-17T20:12:50.991Z"
   },
   {
    "duration": 0,
    "start_time": "2024-08-17T20:12:50.992Z"
   },
   {
    "duration": 0,
    "start_time": "2024-08-17T20:12:50.993Z"
   },
   {
    "duration": 0,
    "start_time": "2024-08-17T20:12:50.994Z"
   },
   {
    "duration": 0,
    "start_time": "2024-08-17T20:12:50.995Z"
   },
   {
    "duration": 0,
    "start_time": "2024-08-17T20:12:50.996Z"
   },
   {
    "duration": 0,
    "start_time": "2024-08-17T20:12:50.997Z"
   },
   {
    "duration": 0,
    "start_time": "2024-08-17T20:12:50.998Z"
   },
   {
    "duration": 0,
    "start_time": "2024-08-17T20:12:50.999Z"
   },
   {
    "duration": 0,
    "start_time": "2024-08-17T20:12:51.000Z"
   },
   {
    "duration": 0,
    "start_time": "2024-08-17T20:12:51.001Z"
   },
   {
    "duration": 0,
    "start_time": "2024-08-17T20:12:51.002Z"
   },
   {
    "duration": 0,
    "start_time": "2024-08-17T20:12:51.003Z"
   },
   {
    "duration": 10,
    "start_time": "2024-08-17T20:13:56.393Z"
   },
   {
    "duration": 1179,
    "start_time": "2024-08-17T20:14:33.061Z"
   },
   {
    "duration": 74,
    "start_time": "2024-08-17T20:14:34.241Z"
   },
   {
    "duration": 15,
    "start_time": "2024-08-17T20:14:34.316Z"
   },
   {
    "duration": 46,
    "start_time": "2024-08-17T20:14:34.333Z"
   },
   {
    "duration": 73,
    "start_time": "2024-08-17T20:14:34.381Z"
   },
   {
    "duration": 18,
    "start_time": "2024-08-17T20:14:34.456Z"
   },
   {
    "duration": 8,
    "start_time": "2024-08-17T20:14:34.475Z"
   },
   {
    "duration": 16,
    "start_time": "2024-08-17T20:14:34.484Z"
   },
   {
    "duration": 13,
    "start_time": "2024-08-17T20:14:34.502Z"
   },
   {
    "duration": 14,
    "start_time": "2024-08-17T20:14:34.518Z"
   },
   {
    "duration": 69,
    "start_time": "2024-08-17T20:14:34.533Z"
   },
   {
    "duration": 23,
    "start_time": "2024-08-17T20:14:34.604Z"
   },
   {
    "duration": 12,
    "start_time": "2024-08-17T20:14:34.629Z"
   },
   {
    "duration": 5,
    "start_time": "2024-08-17T20:14:34.642Z"
   },
   {
    "duration": 3,
    "start_time": "2024-08-17T20:14:34.648Z"
   },
   {
    "duration": 13,
    "start_time": "2024-08-17T20:14:34.652Z"
   },
   {
    "duration": 2,
    "start_time": "2024-08-17T20:14:34.667Z"
   },
   {
    "duration": 27,
    "start_time": "2024-08-17T20:14:34.670Z"
   },
   {
    "duration": 398,
    "start_time": "2024-08-17T20:14:34.699Z"
   },
   {
    "duration": 401,
    "start_time": "2024-08-17T20:14:35.099Z"
   },
   {
    "duration": 624,
    "start_time": "2024-08-17T20:14:35.502Z"
   },
   {
    "duration": 1638,
    "start_time": "2024-08-17T20:14:36.184Z"
   },
   {
    "duration": 209,
    "start_time": "2024-08-17T20:14:37.824Z"
   },
   {
    "duration": 210,
    "start_time": "2024-08-17T20:14:38.035Z"
   },
   {
    "duration": 226,
    "start_time": "2024-08-17T20:14:38.247Z"
   },
   {
    "duration": 202,
    "start_time": "2024-08-17T20:14:38.474Z"
   },
   {
    "duration": 200,
    "start_time": "2024-08-17T20:14:38.678Z"
   },
   {
    "duration": 193,
    "start_time": "2024-08-17T20:14:38.883Z"
   },
   {
    "duration": 242,
    "start_time": "2024-08-17T20:14:39.078Z"
   },
   {
    "duration": 158,
    "start_time": "2024-08-17T20:14:39.321Z"
   },
   {
    "duration": 260,
    "start_time": "2024-08-17T20:14:39.484Z"
   },
   {
    "duration": 167,
    "start_time": "2024-08-17T20:14:39.746Z"
   },
   {
    "duration": 162,
    "start_time": "2024-08-17T20:14:39.914Z"
   },
   {
    "duration": 194,
    "start_time": "2024-08-17T20:14:40.078Z"
   },
   {
    "duration": 299,
    "start_time": "2024-08-17T20:14:40.274Z"
   },
   {
    "duration": 44,
    "start_time": "2024-08-17T20:14:40.575Z"
   },
   {
    "duration": 16,
    "start_time": "2024-08-17T20:14:40.621Z"
   },
   {
    "duration": 157,
    "start_time": "2024-08-17T20:14:40.638Z"
   },
   {
    "duration": 162,
    "start_time": "2024-08-17T20:14:40.797Z"
   },
   {
    "duration": 168,
    "start_time": "2024-08-17T20:14:40.961Z"
   },
   {
    "duration": 158,
    "start_time": "2024-08-17T20:14:41.130Z"
   },
   {
    "duration": 227,
    "start_time": "2024-08-17T20:14:41.290Z"
   },
   {
    "duration": 546,
    "start_time": "2024-08-17T20:14:41.518Z"
   },
   {
    "duration": 593,
    "start_time": "2024-08-17T20:14:42.065Z"
   },
   {
    "duration": 213,
    "start_time": "2024-08-17T20:14:42.660Z"
   },
   {
    "duration": 134,
    "start_time": "2024-08-17T20:14:42.874Z"
   },
   {
    "duration": 189,
    "start_time": "2024-08-17T20:14:43.009Z"
   },
   {
    "duration": 133,
    "start_time": "2024-08-17T20:14:43.199Z"
   },
   {
    "duration": 200,
    "start_time": "2024-08-17T20:14:43.333Z"
   },
   {
    "duration": 134,
    "start_time": "2024-08-17T20:14:43.534Z"
   },
   {
    "duration": 604,
    "start_time": "2024-08-17T20:14:43.669Z"
   },
   {
    "duration": 18,
    "start_time": "2024-08-17T20:14:44.275Z"
   },
   {
    "duration": 525,
    "start_time": "2024-08-17T20:14:44.295Z"
   },
   {
    "duration": 7,
    "start_time": "2024-08-17T20:14:44.821Z"
   },
   {
    "duration": 6,
    "start_time": "2024-08-17T20:14:44.830Z"
   },
   {
    "duration": 6,
    "start_time": "2024-08-17T20:14:44.837Z"
   },
   {
    "duration": 7,
    "start_time": "2024-08-17T20:14:44.844Z"
   },
   {
    "duration": 31,
    "start_time": "2024-08-17T20:14:44.853Z"
   },
   {
    "duration": 5,
    "start_time": "2024-08-17T20:14:44.886Z"
   },
   {
    "duration": 27,
    "start_time": "2024-08-17T20:16:20.178Z"
   },
   {
    "duration": 10,
    "start_time": "2024-08-17T20:17:22.671Z"
   },
   {
    "duration": 484,
    "start_time": "2024-08-17T20:17:41.721Z"
   },
   {
    "duration": 331,
    "start_time": "2024-08-17T20:18:01.533Z"
   },
   {
    "duration": 61,
    "start_time": "2024-08-17T20:20:51.400Z"
   },
   {
    "duration": 50,
    "start_time": "2024-08-17T20:21:01.496Z"
   },
   {
    "duration": 184,
    "start_time": "2024-08-17T20:21:20.170Z"
   },
   {
    "duration": 15,
    "start_time": "2024-08-17T20:22:02.529Z"
   },
   {
    "duration": 15,
    "start_time": "2024-08-17T20:22:29.687Z"
   },
   {
    "duration": 4,
    "start_time": "2024-08-17T20:23:58.621Z"
   },
   {
    "duration": 184,
    "start_time": "2024-08-17T20:24:11.795Z"
   },
   {
    "duration": 1245,
    "start_time": "2024-08-19T20:21:39.776Z"
   },
   {
    "duration": 216,
    "start_time": "2024-08-19T20:21:43.104Z"
   },
   {
    "duration": 15,
    "start_time": "2024-08-19T20:21:50.763Z"
   },
   {
    "duration": 9,
    "start_time": "2024-08-19T20:21:53.962Z"
   },
   {
    "duration": 97,
    "start_time": "2024-08-19T20:21:58.604Z"
   },
   {
    "duration": 11,
    "start_time": "2024-08-19T20:22:39.374Z"
   },
   {
    "duration": 8,
    "start_time": "2024-08-19T20:23:27.118Z"
   },
   {
    "duration": 10,
    "start_time": "2024-08-19T20:24:03.570Z"
   },
   {
    "duration": 1061,
    "start_time": "2024-08-19T20:24:42.264Z"
   },
   {
    "duration": 64,
    "start_time": "2024-08-19T20:24:43.327Z"
   },
   {
    "duration": 14,
    "start_time": "2024-08-19T20:24:43.392Z"
   },
   {
    "duration": 11,
    "start_time": "2024-08-19T20:24:43.407Z"
   },
   {
    "duration": 95,
    "start_time": "2024-08-19T20:24:43.419Z"
   },
   {
    "duration": 0,
    "start_time": "2024-08-19T20:24:43.517Z"
   },
   {
    "duration": 0,
    "start_time": "2024-08-19T20:24:43.518Z"
   },
   {
    "duration": 0,
    "start_time": "2024-08-19T20:24:43.519Z"
   },
   {
    "duration": 0,
    "start_time": "2024-08-19T20:24:43.520Z"
   },
   {
    "duration": 0,
    "start_time": "2024-08-19T20:24:43.521Z"
   },
   {
    "duration": 0,
    "start_time": "2024-08-19T20:24:43.522Z"
   },
   {
    "duration": 0,
    "start_time": "2024-08-19T20:24:43.523Z"
   },
   {
    "duration": 0,
    "start_time": "2024-08-19T20:24:43.524Z"
   },
   {
    "duration": 0,
    "start_time": "2024-08-19T20:24:43.524Z"
   },
   {
    "duration": 0,
    "start_time": "2024-08-19T20:24:43.525Z"
   },
   {
    "duration": 0,
    "start_time": "2024-08-19T20:24:43.526Z"
   },
   {
    "duration": 0,
    "start_time": "2024-08-19T20:24:43.527Z"
   },
   {
    "duration": 0,
    "start_time": "2024-08-19T20:24:43.528Z"
   },
   {
    "duration": 0,
    "start_time": "2024-08-19T20:24:43.529Z"
   },
   {
    "duration": 0,
    "start_time": "2024-08-19T20:24:43.530Z"
   },
   {
    "duration": 0,
    "start_time": "2024-08-19T20:24:43.531Z"
   },
   {
    "duration": 0,
    "start_time": "2024-08-19T20:24:43.532Z"
   },
   {
    "duration": 0,
    "start_time": "2024-08-19T20:24:43.533Z"
   },
   {
    "duration": 0,
    "start_time": "2024-08-19T20:24:43.533Z"
   },
   {
    "duration": 0,
    "start_time": "2024-08-19T20:24:43.534Z"
   },
   {
    "duration": 0,
    "start_time": "2024-08-19T20:24:43.535Z"
   },
   {
    "duration": 0,
    "start_time": "2024-08-19T20:24:43.536Z"
   },
   {
    "duration": 0,
    "start_time": "2024-08-19T20:24:43.537Z"
   },
   {
    "duration": 0,
    "start_time": "2024-08-19T20:24:43.538Z"
   },
   {
    "duration": 0,
    "start_time": "2024-08-19T20:24:43.538Z"
   },
   {
    "duration": 0,
    "start_time": "2024-08-19T20:24:43.539Z"
   },
   {
    "duration": 0,
    "start_time": "2024-08-19T20:24:43.540Z"
   },
   {
    "duration": 0,
    "start_time": "2024-08-19T20:24:43.541Z"
   },
   {
    "duration": 0,
    "start_time": "2024-08-19T20:24:43.542Z"
   },
   {
    "duration": 0,
    "start_time": "2024-08-19T20:24:43.543Z"
   },
   {
    "duration": 0,
    "start_time": "2024-08-19T20:24:43.544Z"
   },
   {
    "duration": 0,
    "start_time": "2024-08-19T20:24:43.544Z"
   },
   {
    "duration": 0,
    "start_time": "2024-08-19T20:24:43.545Z"
   },
   {
    "duration": 0,
    "start_time": "2024-08-19T20:24:43.546Z"
   },
   {
    "duration": 0,
    "start_time": "2024-08-19T20:24:43.547Z"
   },
   {
    "duration": 0,
    "start_time": "2024-08-19T20:24:43.548Z"
   },
   {
    "duration": 0,
    "start_time": "2024-08-19T20:24:43.549Z"
   },
   {
    "duration": 0,
    "start_time": "2024-08-19T20:24:43.549Z"
   },
   {
    "duration": 0,
    "start_time": "2024-08-19T20:24:43.607Z"
   },
   {
    "duration": 0,
    "start_time": "2024-08-19T20:24:43.608Z"
   },
   {
    "duration": 0,
    "start_time": "2024-08-19T20:24:43.609Z"
   },
   {
    "duration": 0,
    "start_time": "2024-08-19T20:24:43.610Z"
   },
   {
    "duration": 0,
    "start_time": "2024-08-19T20:24:43.611Z"
   },
   {
    "duration": 0,
    "start_time": "2024-08-19T20:24:43.612Z"
   },
   {
    "duration": 0,
    "start_time": "2024-08-19T20:24:43.613Z"
   },
   {
    "duration": 0,
    "start_time": "2024-08-19T20:24:43.614Z"
   },
   {
    "duration": 0,
    "start_time": "2024-08-19T20:24:43.615Z"
   },
   {
    "duration": 0,
    "start_time": "2024-08-19T20:24:43.616Z"
   },
   {
    "duration": 0,
    "start_time": "2024-08-19T20:24:43.617Z"
   },
   {
    "duration": 0,
    "start_time": "2024-08-19T20:24:43.618Z"
   },
   {
    "duration": 0,
    "start_time": "2024-08-19T20:24:43.619Z"
   },
   {
    "duration": 0,
    "start_time": "2024-08-19T20:24:43.620Z"
   },
   {
    "duration": 0,
    "start_time": "2024-08-19T20:24:43.621Z"
   },
   {
    "duration": 0,
    "start_time": "2024-08-19T20:24:43.621Z"
   },
   {
    "duration": 0,
    "start_time": "2024-08-19T20:24:43.623Z"
   },
   {
    "duration": 0,
    "start_time": "2024-08-19T20:24:43.623Z"
   },
   {
    "duration": 0,
    "start_time": "2024-08-19T20:24:43.624Z"
   },
   {
    "duration": 0,
    "start_time": "2024-08-19T20:24:43.625Z"
   },
   {
    "duration": 11,
    "start_time": "2024-08-19T20:27:34.308Z"
   },
   {
    "duration": 23,
    "start_time": "2024-08-19T20:29:41.557Z"
   },
   {
    "duration": 23,
    "start_time": "2024-08-19T20:30:19.561Z"
   },
   {
    "duration": 3,
    "start_time": "2024-08-19T20:31:07.541Z"
   },
   {
    "duration": 62,
    "start_time": "2024-08-19T20:31:10.560Z"
   },
   {
    "duration": 13,
    "start_time": "2024-08-19T20:31:19.279Z"
   },
   {
    "duration": 1094,
    "start_time": "2024-08-19T20:31:24.223Z"
   },
   {
    "duration": 65,
    "start_time": "2024-08-19T20:31:25.319Z"
   },
   {
    "duration": 13,
    "start_time": "2024-08-19T20:31:25.385Z"
   },
   {
    "duration": 8,
    "start_time": "2024-08-19T20:31:25.399Z"
   },
   {
    "duration": 100,
    "start_time": "2024-08-19T20:31:25.408Z"
   },
   {
    "duration": 0,
    "start_time": "2024-08-19T20:31:25.511Z"
   },
   {
    "duration": 0,
    "start_time": "2024-08-19T20:31:25.512Z"
   },
   {
    "duration": 0,
    "start_time": "2024-08-19T20:31:25.513Z"
   },
   {
    "duration": 0,
    "start_time": "2024-08-19T20:31:25.514Z"
   },
   {
    "duration": 0,
    "start_time": "2024-08-19T20:31:25.515Z"
   },
   {
    "duration": 0,
    "start_time": "2024-08-19T20:31:25.516Z"
   },
   {
    "duration": 0,
    "start_time": "2024-08-19T20:31:25.516Z"
   },
   {
    "duration": 0,
    "start_time": "2024-08-19T20:31:25.517Z"
   },
   {
    "duration": 0,
    "start_time": "2024-08-19T20:31:25.518Z"
   },
   {
    "duration": 0,
    "start_time": "2024-08-19T20:31:25.519Z"
   },
   {
    "duration": 0,
    "start_time": "2024-08-19T20:31:25.520Z"
   },
   {
    "duration": 0,
    "start_time": "2024-08-19T20:31:25.521Z"
   },
   {
    "duration": 0,
    "start_time": "2024-08-19T20:31:25.522Z"
   },
   {
    "duration": 0,
    "start_time": "2024-08-19T20:31:25.523Z"
   },
   {
    "duration": 0,
    "start_time": "2024-08-19T20:31:25.524Z"
   },
   {
    "duration": 0,
    "start_time": "2024-08-19T20:31:25.525Z"
   },
   {
    "duration": 0,
    "start_time": "2024-08-19T20:31:25.526Z"
   },
   {
    "duration": 0,
    "start_time": "2024-08-19T20:31:25.527Z"
   },
   {
    "duration": 0,
    "start_time": "2024-08-19T20:31:25.528Z"
   },
   {
    "duration": 0,
    "start_time": "2024-08-19T20:31:25.529Z"
   },
   {
    "duration": 0,
    "start_time": "2024-08-19T20:31:25.530Z"
   },
   {
    "duration": 0,
    "start_time": "2024-08-19T20:31:25.530Z"
   },
   {
    "duration": 0,
    "start_time": "2024-08-19T20:31:25.532Z"
   },
   {
    "duration": 0,
    "start_time": "2024-08-19T20:31:25.532Z"
   },
   {
    "duration": 0,
    "start_time": "2024-08-19T20:31:25.533Z"
   },
   {
    "duration": 0,
    "start_time": "2024-08-19T20:31:25.534Z"
   },
   {
    "duration": 0,
    "start_time": "2024-08-19T20:31:25.535Z"
   },
   {
    "duration": 0,
    "start_time": "2024-08-19T20:31:25.536Z"
   },
   {
    "duration": 0,
    "start_time": "2024-08-19T20:31:25.537Z"
   },
   {
    "duration": 0,
    "start_time": "2024-08-19T20:31:25.537Z"
   },
   {
    "duration": 0,
    "start_time": "2024-08-19T20:31:25.538Z"
   },
   {
    "duration": 0,
    "start_time": "2024-08-19T20:31:25.539Z"
   },
   {
    "duration": 0,
    "start_time": "2024-08-19T20:31:25.540Z"
   },
   {
    "duration": 0,
    "start_time": "2024-08-19T20:31:25.541Z"
   },
   {
    "duration": 0,
    "start_time": "2024-08-19T20:31:25.541Z"
   },
   {
    "duration": 0,
    "start_time": "2024-08-19T20:31:25.542Z"
   },
   {
    "duration": 0,
    "start_time": "2024-08-19T20:31:25.543Z"
   },
   {
    "duration": 0,
    "start_time": "2024-08-19T20:31:25.544Z"
   },
   {
    "duration": 0,
    "start_time": "2024-08-19T20:31:25.545Z"
   },
   {
    "duration": 0,
    "start_time": "2024-08-19T20:31:25.546Z"
   },
   {
    "duration": 0,
    "start_time": "2024-08-19T20:31:25.547Z"
   },
   {
    "duration": 0,
    "start_time": "2024-08-19T20:31:25.547Z"
   },
   {
    "duration": 0,
    "start_time": "2024-08-19T20:31:25.607Z"
   },
   {
    "duration": 0,
    "start_time": "2024-08-19T20:31:25.608Z"
   },
   {
    "duration": 0,
    "start_time": "2024-08-19T20:31:25.609Z"
   },
   {
    "duration": 0,
    "start_time": "2024-08-19T20:31:25.610Z"
   },
   {
    "duration": 0,
    "start_time": "2024-08-19T20:31:25.611Z"
   },
   {
    "duration": 0,
    "start_time": "2024-08-19T20:31:25.612Z"
   },
   {
    "duration": 0,
    "start_time": "2024-08-19T20:31:25.612Z"
   },
   {
    "duration": 0,
    "start_time": "2024-08-19T20:31:25.613Z"
   },
   {
    "duration": 0,
    "start_time": "2024-08-19T20:31:25.614Z"
   },
   {
    "duration": 0,
    "start_time": "2024-08-19T20:31:25.615Z"
   },
   {
    "duration": 0,
    "start_time": "2024-08-19T20:31:25.616Z"
   },
   {
    "duration": 0,
    "start_time": "2024-08-19T20:31:25.617Z"
   },
   {
    "duration": 0,
    "start_time": "2024-08-19T20:31:25.617Z"
   },
   {
    "duration": 0,
    "start_time": "2024-08-19T20:31:25.618Z"
   },
   {
    "duration": 0,
    "start_time": "2024-08-19T20:31:25.619Z"
   },
   {
    "duration": 0,
    "start_time": "2024-08-19T20:31:25.620Z"
   },
   {
    "duration": 7,
    "start_time": "2024-08-19T20:31:47.693Z"
   },
   {
    "duration": 14,
    "start_time": "2024-08-19T20:31:51.399Z"
   },
   {
    "duration": 41,
    "start_time": "2024-08-19T20:33:13.212Z"
   },
   {
    "duration": 45,
    "start_time": "2024-08-19T20:34:08.054Z"
   },
   {
    "duration": 7,
    "start_time": "2024-08-19T20:34:52.616Z"
   },
   {
    "duration": 1077,
    "start_time": "2024-08-19T20:36:35.918Z"
   },
   {
    "duration": 66,
    "start_time": "2024-08-19T20:36:36.997Z"
   },
   {
    "duration": 14,
    "start_time": "2024-08-19T20:36:37.064Z"
   },
   {
    "duration": 11,
    "start_time": "2024-08-19T20:36:37.080Z"
   },
   {
    "duration": 103,
    "start_time": "2024-08-19T20:36:37.092Z"
   },
   {
    "duration": 1,
    "start_time": "2024-08-19T20:36:37.198Z"
   },
   {
    "duration": 0,
    "start_time": "2024-08-19T20:36:37.200Z"
   },
   {
    "duration": 0,
    "start_time": "2024-08-19T20:36:37.201Z"
   },
   {
    "duration": 0,
    "start_time": "2024-08-19T20:36:37.207Z"
   },
   {
    "duration": 0,
    "start_time": "2024-08-19T20:36:37.208Z"
   },
   {
    "duration": 0,
    "start_time": "2024-08-19T20:36:37.209Z"
   },
   {
    "duration": 0,
    "start_time": "2024-08-19T20:36:37.209Z"
   },
   {
    "duration": 0,
    "start_time": "2024-08-19T20:36:37.210Z"
   },
   {
    "duration": 0,
    "start_time": "2024-08-19T20:36:37.211Z"
   },
   {
    "duration": 0,
    "start_time": "2024-08-19T20:36:37.212Z"
   },
   {
    "duration": 0,
    "start_time": "2024-08-19T20:36:37.213Z"
   },
   {
    "duration": 0,
    "start_time": "2024-08-19T20:36:37.214Z"
   },
   {
    "duration": 0,
    "start_time": "2024-08-19T20:36:37.215Z"
   },
   {
    "duration": 0,
    "start_time": "2024-08-19T20:36:37.216Z"
   },
   {
    "duration": 0,
    "start_time": "2024-08-19T20:36:37.217Z"
   },
   {
    "duration": 0,
    "start_time": "2024-08-19T20:36:37.218Z"
   },
   {
    "duration": 0,
    "start_time": "2024-08-19T20:36:37.219Z"
   },
   {
    "duration": 0,
    "start_time": "2024-08-19T20:36:37.220Z"
   },
   {
    "duration": 0,
    "start_time": "2024-08-19T20:36:37.221Z"
   },
   {
    "duration": 0,
    "start_time": "2024-08-19T20:36:37.222Z"
   },
   {
    "duration": 0,
    "start_time": "2024-08-19T20:36:37.223Z"
   },
   {
    "duration": 0,
    "start_time": "2024-08-19T20:36:37.224Z"
   },
   {
    "duration": 0,
    "start_time": "2024-08-19T20:36:37.224Z"
   },
   {
    "duration": 0,
    "start_time": "2024-08-19T20:36:37.225Z"
   },
   {
    "duration": 0,
    "start_time": "2024-08-19T20:36:37.226Z"
   },
   {
    "duration": 0,
    "start_time": "2024-08-19T20:36:37.227Z"
   },
   {
    "duration": 0,
    "start_time": "2024-08-19T20:36:37.228Z"
   },
   {
    "duration": 0,
    "start_time": "2024-08-19T20:36:37.229Z"
   },
   {
    "duration": 0,
    "start_time": "2024-08-19T20:36:37.230Z"
   },
   {
    "duration": 0,
    "start_time": "2024-08-19T20:36:37.231Z"
   },
   {
    "duration": 0,
    "start_time": "2024-08-19T20:36:37.232Z"
   },
   {
    "duration": 0,
    "start_time": "2024-08-19T20:36:37.233Z"
   },
   {
    "duration": 0,
    "start_time": "2024-08-19T20:36:37.234Z"
   },
   {
    "duration": 0,
    "start_time": "2024-08-19T20:36:37.235Z"
   },
   {
    "duration": 0,
    "start_time": "2024-08-19T20:36:37.236Z"
   },
   {
    "duration": 0,
    "start_time": "2024-08-19T20:36:37.237Z"
   },
   {
    "duration": 0,
    "start_time": "2024-08-19T20:36:37.238Z"
   },
   {
    "duration": 0,
    "start_time": "2024-08-19T20:36:37.239Z"
   },
   {
    "duration": 0,
    "start_time": "2024-08-19T20:36:37.240Z"
   },
   {
    "duration": 0,
    "start_time": "2024-08-19T20:36:37.240Z"
   },
   {
    "duration": 0,
    "start_time": "2024-08-19T20:36:37.241Z"
   },
   {
    "duration": 0,
    "start_time": "2024-08-19T20:36:37.242Z"
   },
   {
    "duration": 0,
    "start_time": "2024-08-19T20:36:37.243Z"
   },
   {
    "duration": 0,
    "start_time": "2024-08-19T20:36:37.244Z"
   },
   {
    "duration": 0,
    "start_time": "2024-08-19T20:36:37.245Z"
   },
   {
    "duration": 0,
    "start_time": "2024-08-19T20:36:37.308Z"
   },
   {
    "duration": 0,
    "start_time": "2024-08-19T20:36:37.309Z"
   },
   {
    "duration": 0,
    "start_time": "2024-08-19T20:36:37.311Z"
   },
   {
    "duration": 0,
    "start_time": "2024-08-19T20:36:37.312Z"
   },
   {
    "duration": 0,
    "start_time": "2024-08-19T20:36:37.314Z"
   },
   {
    "duration": 0,
    "start_time": "2024-08-19T20:36:37.315Z"
   },
   {
    "duration": 0,
    "start_time": "2024-08-19T20:36:37.316Z"
   },
   {
    "duration": 0,
    "start_time": "2024-08-19T20:36:37.318Z"
   },
   {
    "duration": 0,
    "start_time": "2024-08-19T20:36:37.323Z"
   },
   {
    "duration": 0,
    "start_time": "2024-08-19T20:36:37.325Z"
   },
   {
    "duration": 0,
    "start_time": "2024-08-19T20:36:37.327Z"
   },
   {
    "duration": 0,
    "start_time": "2024-08-19T20:36:37.329Z"
   },
   {
    "duration": 22,
    "start_time": "2024-08-19T20:36:44.857Z"
   },
   {
    "duration": 22,
    "start_time": "2024-08-19T20:36:55.886Z"
   },
   {
    "duration": 22,
    "start_time": "2024-08-19T20:37:59.890Z"
   },
   {
    "duration": 1091,
    "start_time": "2024-08-19T20:38:31.316Z"
   },
   {
    "duration": 72,
    "start_time": "2024-08-19T20:38:32.409Z"
   },
   {
    "duration": 14,
    "start_time": "2024-08-19T20:38:32.483Z"
   },
   {
    "duration": 8,
    "start_time": "2024-08-19T20:38:32.499Z"
   },
   {
    "duration": 108,
    "start_time": "2024-08-19T20:38:32.508Z"
   },
   {
    "duration": 0,
    "start_time": "2024-08-19T20:38:32.618Z"
   },
   {
    "duration": 0,
    "start_time": "2024-08-19T20:38:32.619Z"
   },
   {
    "duration": 0,
    "start_time": "2024-08-19T20:38:32.620Z"
   },
   {
    "duration": 0,
    "start_time": "2024-08-19T20:38:32.621Z"
   },
   {
    "duration": 0,
    "start_time": "2024-08-19T20:38:32.622Z"
   },
   {
    "duration": 0,
    "start_time": "2024-08-19T20:38:32.623Z"
   },
   {
    "duration": 0,
    "start_time": "2024-08-19T20:38:32.624Z"
   },
   {
    "duration": 0,
    "start_time": "2024-08-19T20:38:32.625Z"
   },
   {
    "duration": 0,
    "start_time": "2024-08-19T20:38:32.625Z"
   },
   {
    "duration": 0,
    "start_time": "2024-08-19T20:38:32.626Z"
   },
   {
    "duration": 0,
    "start_time": "2024-08-19T20:38:32.627Z"
   },
   {
    "duration": 0,
    "start_time": "2024-08-19T20:38:32.628Z"
   },
   {
    "duration": 0,
    "start_time": "2024-08-19T20:38:32.629Z"
   },
   {
    "duration": 0,
    "start_time": "2024-08-19T20:38:32.630Z"
   },
   {
    "duration": 0,
    "start_time": "2024-08-19T20:38:32.630Z"
   },
   {
    "duration": 0,
    "start_time": "2024-08-19T20:38:32.631Z"
   },
   {
    "duration": 0,
    "start_time": "2024-08-19T20:38:32.632Z"
   },
   {
    "duration": 0,
    "start_time": "2024-08-19T20:38:32.633Z"
   },
   {
    "duration": 0,
    "start_time": "2024-08-19T20:38:32.634Z"
   },
   {
    "duration": 0,
    "start_time": "2024-08-19T20:38:32.635Z"
   },
   {
    "duration": 0,
    "start_time": "2024-08-19T20:38:32.636Z"
   },
   {
    "duration": 0,
    "start_time": "2024-08-19T20:38:32.637Z"
   },
   {
    "duration": 0,
    "start_time": "2024-08-19T20:38:32.638Z"
   },
   {
    "duration": 0,
    "start_time": "2024-08-19T20:38:32.639Z"
   },
   {
    "duration": 0,
    "start_time": "2024-08-19T20:38:32.640Z"
   },
   {
    "duration": 1,
    "start_time": "2024-08-19T20:38:32.640Z"
   },
   {
    "duration": 0,
    "start_time": "2024-08-19T20:38:32.641Z"
   },
   {
    "duration": 0,
    "start_time": "2024-08-19T20:38:32.642Z"
   },
   {
    "duration": 0,
    "start_time": "2024-08-19T20:38:32.643Z"
   },
   {
    "duration": 0,
    "start_time": "2024-08-19T20:38:32.644Z"
   },
   {
    "duration": 0,
    "start_time": "2024-08-19T20:38:32.645Z"
   },
   {
    "duration": 0,
    "start_time": "2024-08-19T20:38:32.646Z"
   },
   {
    "duration": 0,
    "start_time": "2024-08-19T20:38:32.647Z"
   },
   {
    "duration": 0,
    "start_time": "2024-08-19T20:38:32.648Z"
   },
   {
    "duration": 0,
    "start_time": "2024-08-19T20:38:32.649Z"
   },
   {
    "duration": 0,
    "start_time": "2024-08-19T20:38:32.650Z"
   },
   {
    "duration": 0,
    "start_time": "2024-08-19T20:38:32.651Z"
   },
   {
    "duration": 0,
    "start_time": "2024-08-19T20:38:32.651Z"
   },
   {
    "duration": 0,
    "start_time": "2024-08-19T20:38:32.652Z"
   },
   {
    "duration": 0,
    "start_time": "2024-08-19T20:38:32.653Z"
   },
   {
    "duration": 0,
    "start_time": "2024-08-19T20:38:32.654Z"
   },
   {
    "duration": 0,
    "start_time": "2024-08-19T20:38:32.707Z"
   },
   {
    "duration": 0,
    "start_time": "2024-08-19T20:38:32.708Z"
   },
   {
    "duration": 0,
    "start_time": "2024-08-19T20:38:32.709Z"
   },
   {
    "duration": 0,
    "start_time": "2024-08-19T20:38:32.710Z"
   },
   {
    "duration": 0,
    "start_time": "2024-08-19T20:38:32.711Z"
   },
   {
    "duration": 0,
    "start_time": "2024-08-19T20:38:32.712Z"
   },
   {
    "duration": 0,
    "start_time": "2024-08-19T20:38:32.713Z"
   },
   {
    "duration": 0,
    "start_time": "2024-08-19T20:38:32.713Z"
   },
   {
    "duration": 0,
    "start_time": "2024-08-19T20:38:32.714Z"
   },
   {
    "duration": 0,
    "start_time": "2024-08-19T20:38:32.715Z"
   },
   {
    "duration": 0,
    "start_time": "2024-08-19T20:38:32.716Z"
   },
   {
    "duration": 0,
    "start_time": "2024-08-19T20:38:32.717Z"
   },
   {
    "duration": 0,
    "start_time": "2024-08-19T20:38:32.717Z"
   },
   {
    "duration": 0,
    "start_time": "2024-08-19T20:38:32.718Z"
   },
   {
    "duration": 0,
    "start_time": "2024-08-19T20:38:32.719Z"
   },
   {
    "duration": 0,
    "start_time": "2024-08-19T20:38:32.720Z"
   },
   {
    "duration": 25,
    "start_time": "2024-08-19T20:39:26.714Z"
   },
   {
    "duration": 1054,
    "start_time": "2024-08-19T20:39:35.153Z"
   },
   {
    "duration": 67,
    "start_time": "2024-08-19T20:39:36.208Z"
   },
   {
    "duration": 13,
    "start_time": "2024-08-19T20:39:36.277Z"
   },
   {
    "duration": 24,
    "start_time": "2024-08-19T20:39:36.292Z"
   },
   {
    "duration": 17,
    "start_time": "2024-08-19T20:39:36.318Z"
   },
   {
    "duration": 6,
    "start_time": "2024-08-19T20:39:36.336Z"
   },
   {
    "duration": 22,
    "start_time": "2024-08-19T20:39:36.344Z"
   },
   {
    "duration": 17,
    "start_time": "2024-08-19T20:39:36.367Z"
   },
   {
    "duration": 21,
    "start_time": "2024-08-19T20:39:36.386Z"
   },
   {
    "duration": 4,
    "start_time": "2024-08-19T20:39:36.409Z"
   },
   {
    "duration": 19,
    "start_time": "2024-08-19T20:39:36.415Z"
   },
   {
    "duration": 10,
    "start_time": "2024-08-19T20:39:36.435Z"
   },
   {
    "duration": 19,
    "start_time": "2024-08-19T20:39:36.447Z"
   },
   {
    "duration": 3,
    "start_time": "2024-08-19T20:39:36.467Z"
   },
   {
    "duration": 11,
    "start_time": "2024-08-19T20:39:36.471Z"
   },
   {
    "duration": 2,
    "start_time": "2024-08-19T20:39:36.483Z"
   },
   {
    "duration": 31,
    "start_time": "2024-08-19T20:39:36.486Z"
   },
   {
    "duration": 343,
    "start_time": "2024-08-19T20:39:36.518Z"
   },
   {
    "duration": 287,
    "start_time": "2024-08-19T20:39:36.862Z"
   },
   {
    "duration": 282,
    "start_time": "2024-08-19T20:39:37.151Z"
   },
   {
    "duration": 1091,
    "start_time": "2024-08-19T20:39:37.434Z"
   },
   {
    "duration": 324,
    "start_time": "2024-08-19T20:39:38.526Z"
   },
   {
    "duration": 385,
    "start_time": "2024-08-19T20:39:38.852Z"
   },
   {
    "duration": 370,
    "start_time": "2024-08-19T20:39:39.239Z"
   },
   {
    "duration": 6,
    "start_time": "2024-08-19T20:39:39.611Z"
   },
   {
    "duration": 195,
    "start_time": "2024-08-19T20:39:39.618Z"
   },
   {
    "duration": 0,
    "start_time": "2024-08-19T20:39:39.815Z"
   },
   {
    "duration": 0,
    "start_time": "2024-08-19T20:39:39.816Z"
   },
   {
    "duration": 0,
    "start_time": "2024-08-19T20:39:39.817Z"
   },
   {
    "duration": 0,
    "start_time": "2024-08-19T20:39:39.819Z"
   },
   {
    "duration": 0,
    "start_time": "2024-08-19T20:39:39.820Z"
   },
   {
    "duration": 0,
    "start_time": "2024-08-19T20:39:39.821Z"
   },
   {
    "duration": 0,
    "start_time": "2024-08-19T20:39:39.823Z"
   },
   {
    "duration": 0,
    "start_time": "2024-08-19T20:39:39.824Z"
   },
   {
    "duration": 0,
    "start_time": "2024-08-19T20:39:39.826Z"
   },
   {
    "duration": 0,
    "start_time": "2024-08-19T20:39:39.827Z"
   },
   {
    "duration": 0,
    "start_time": "2024-08-19T20:39:39.828Z"
   },
   {
    "duration": 0,
    "start_time": "2024-08-19T20:39:39.829Z"
   },
   {
    "duration": 0,
    "start_time": "2024-08-19T20:39:39.830Z"
   },
   {
    "duration": 0,
    "start_time": "2024-08-19T20:39:39.832Z"
   },
   {
    "duration": 0,
    "start_time": "2024-08-19T20:39:39.833Z"
   },
   {
    "duration": 1,
    "start_time": "2024-08-19T20:39:39.834Z"
   },
   {
    "duration": 0,
    "start_time": "2024-08-19T20:39:39.836Z"
   },
   {
    "duration": 0,
    "start_time": "2024-08-19T20:39:39.837Z"
   },
   {
    "duration": 0,
    "start_time": "2024-08-19T20:39:39.838Z"
   },
   {
    "duration": 0,
    "start_time": "2024-08-19T20:39:39.840Z"
   },
   {
    "duration": 0,
    "start_time": "2024-08-19T20:39:39.841Z"
   },
   {
    "duration": 0,
    "start_time": "2024-08-19T20:39:39.842Z"
   },
   {
    "duration": 0,
    "start_time": "2024-08-19T20:39:39.844Z"
   },
   {
    "duration": 0,
    "start_time": "2024-08-19T20:39:39.845Z"
   },
   {
    "duration": 0,
    "start_time": "2024-08-19T20:39:39.846Z"
   },
   {
    "duration": 0,
    "start_time": "2024-08-19T20:39:39.847Z"
   },
   {
    "duration": 0,
    "start_time": "2024-08-19T20:39:39.848Z"
   },
   {
    "duration": 0,
    "start_time": "2024-08-19T20:39:39.850Z"
   },
   {
    "duration": 0,
    "start_time": "2024-08-19T20:39:39.907Z"
   },
   {
    "duration": 0,
    "start_time": "2024-08-19T20:39:39.908Z"
   },
   {
    "duration": 0,
    "start_time": "2024-08-19T20:39:39.909Z"
   },
   {
    "duration": 0,
    "start_time": "2024-08-19T20:39:39.910Z"
   },
   {
    "duration": 0,
    "start_time": "2024-08-19T20:39:39.911Z"
   },
   {
    "duration": 0,
    "start_time": "2024-08-19T20:39:39.912Z"
   },
   {
    "duration": 0,
    "start_time": "2024-08-19T20:39:39.913Z"
   },
   {
    "duration": 40,
    "start_time": "2024-08-19T20:39:53.298Z"
   },
   {
    "duration": 1048,
    "start_time": "2024-08-19T20:40:11.758Z"
   },
   {
    "duration": 74,
    "start_time": "2024-08-19T20:40:12.808Z"
   },
   {
    "duration": 20,
    "start_time": "2024-08-19T20:40:12.884Z"
   },
   {
    "duration": 12,
    "start_time": "2024-08-19T20:40:12.906Z"
   },
   {
    "duration": 115,
    "start_time": "2024-08-19T20:40:12.920Z"
   },
   {
    "duration": 0,
    "start_time": "2024-08-19T20:40:13.039Z"
   },
   {
    "duration": 0,
    "start_time": "2024-08-19T20:40:13.040Z"
   },
   {
    "duration": 0,
    "start_time": "2024-08-19T20:40:13.041Z"
   },
   {
    "duration": 0,
    "start_time": "2024-08-19T20:40:13.042Z"
   },
   {
    "duration": 0,
    "start_time": "2024-08-19T20:40:13.044Z"
   },
   {
    "duration": 0,
    "start_time": "2024-08-19T20:40:13.045Z"
   },
   {
    "duration": 0,
    "start_time": "2024-08-19T20:40:13.046Z"
   },
   {
    "duration": 0,
    "start_time": "2024-08-19T20:40:13.047Z"
   },
   {
    "duration": 0,
    "start_time": "2024-08-19T20:40:13.048Z"
   },
   {
    "duration": 0,
    "start_time": "2024-08-19T20:40:13.049Z"
   },
   {
    "duration": 0,
    "start_time": "2024-08-19T20:40:13.050Z"
   },
   {
    "duration": 0,
    "start_time": "2024-08-19T20:40:13.052Z"
   },
   {
    "duration": 0,
    "start_time": "2024-08-19T20:40:13.053Z"
   },
   {
    "duration": 0,
    "start_time": "2024-08-19T20:40:13.054Z"
   },
   {
    "duration": 0,
    "start_time": "2024-08-19T20:40:13.055Z"
   },
   {
    "duration": 0,
    "start_time": "2024-08-19T20:40:13.056Z"
   },
   {
    "duration": 1,
    "start_time": "2024-08-19T20:40:13.057Z"
   },
   {
    "duration": 0,
    "start_time": "2024-08-19T20:40:13.059Z"
   },
   {
    "duration": 0,
    "start_time": "2024-08-19T20:40:13.060Z"
   },
   {
    "duration": 0,
    "start_time": "2024-08-19T20:40:13.061Z"
   },
   {
    "duration": 0,
    "start_time": "2024-08-19T20:40:13.063Z"
   },
   {
    "duration": 0,
    "start_time": "2024-08-19T20:40:13.064Z"
   },
   {
    "duration": 0,
    "start_time": "2024-08-19T20:40:13.065Z"
   },
   {
    "duration": 0,
    "start_time": "2024-08-19T20:40:13.066Z"
   },
   {
    "duration": 0,
    "start_time": "2024-08-19T20:40:13.067Z"
   },
   {
    "duration": 0,
    "start_time": "2024-08-19T20:40:13.107Z"
   },
   {
    "duration": 0,
    "start_time": "2024-08-19T20:40:13.108Z"
   },
   {
    "duration": 0,
    "start_time": "2024-08-19T20:40:13.110Z"
   },
   {
    "duration": 0,
    "start_time": "2024-08-19T20:40:13.111Z"
   },
   {
    "duration": 0,
    "start_time": "2024-08-19T20:40:13.112Z"
   },
   {
    "duration": 0,
    "start_time": "2024-08-19T20:40:13.114Z"
   },
   {
    "duration": 0,
    "start_time": "2024-08-19T20:40:13.115Z"
   },
   {
    "duration": 0,
    "start_time": "2024-08-19T20:40:13.116Z"
   },
   {
    "duration": 0,
    "start_time": "2024-08-19T20:40:13.117Z"
   },
   {
    "duration": 0,
    "start_time": "2024-08-19T20:40:13.119Z"
   },
   {
    "duration": 0,
    "start_time": "2024-08-19T20:40:13.120Z"
   },
   {
    "duration": 0,
    "start_time": "2024-08-19T20:40:13.121Z"
   },
   {
    "duration": 0,
    "start_time": "2024-08-19T20:40:13.123Z"
   },
   {
    "duration": 0,
    "start_time": "2024-08-19T20:40:13.124Z"
   },
   {
    "duration": 0,
    "start_time": "2024-08-19T20:40:13.125Z"
   },
   {
    "duration": 0,
    "start_time": "2024-08-19T20:40:13.127Z"
   },
   {
    "duration": 0,
    "start_time": "2024-08-19T20:40:13.128Z"
   },
   {
    "duration": 0,
    "start_time": "2024-08-19T20:40:13.129Z"
   },
   {
    "duration": 0,
    "start_time": "2024-08-19T20:40:13.131Z"
   },
   {
    "duration": 0,
    "start_time": "2024-08-19T20:40:13.132Z"
   },
   {
    "duration": 0,
    "start_time": "2024-08-19T20:40:13.133Z"
   },
   {
    "duration": 0,
    "start_time": "2024-08-19T20:40:13.134Z"
   },
   {
    "duration": 0,
    "start_time": "2024-08-19T20:40:13.136Z"
   },
   {
    "duration": 0,
    "start_time": "2024-08-19T20:40:13.137Z"
   },
   {
    "duration": 0,
    "start_time": "2024-08-19T20:40:13.138Z"
   },
   {
    "duration": 0,
    "start_time": "2024-08-19T20:40:13.139Z"
   },
   {
    "duration": 0,
    "start_time": "2024-08-19T20:40:13.141Z"
   },
   {
    "duration": 0,
    "start_time": "2024-08-19T20:40:13.142Z"
   },
   {
    "duration": 0,
    "start_time": "2024-08-19T20:40:13.143Z"
   },
   {
    "duration": 0,
    "start_time": "2024-08-19T20:40:13.144Z"
   },
   {
    "duration": 0,
    "start_time": "2024-08-19T20:40:13.145Z"
   },
   {
    "duration": 0,
    "start_time": "2024-08-19T20:40:13.145Z"
   },
   {
    "duration": 23,
    "start_time": "2024-08-19T20:40:44.255Z"
   },
   {
    "duration": 1071,
    "start_time": "2024-08-19T20:40:54.144Z"
   },
   {
    "duration": 66,
    "start_time": "2024-08-19T20:40:55.217Z"
   },
   {
    "duration": 14,
    "start_time": "2024-08-19T20:40:55.285Z"
   },
   {
    "duration": 12,
    "start_time": "2024-08-19T20:40:55.301Z"
   },
   {
    "duration": 42,
    "start_time": "2024-08-19T20:40:55.315Z"
   },
   {
    "duration": 12,
    "start_time": "2024-08-19T20:40:55.359Z"
   },
   {
    "duration": 25,
    "start_time": "2024-08-19T20:40:55.373Z"
   },
   {
    "duration": 12,
    "start_time": "2024-08-19T20:40:55.399Z"
   },
   {
    "duration": 29,
    "start_time": "2024-08-19T20:40:55.412Z"
   },
   {
    "duration": 12,
    "start_time": "2024-08-19T20:40:55.444Z"
   },
   {
    "duration": 34,
    "start_time": "2024-08-19T20:40:55.457Z"
   },
   {
    "duration": 11,
    "start_time": "2024-08-19T20:40:55.493Z"
   },
   {
    "duration": 26,
    "start_time": "2024-08-19T20:40:55.505Z"
   },
   {
    "duration": 21,
    "start_time": "2024-08-19T20:40:55.532Z"
   },
   {
    "duration": 11,
    "start_time": "2024-08-19T20:40:55.554Z"
   },
   {
    "duration": 12,
    "start_time": "2024-08-19T20:40:55.566Z"
   },
   {
    "duration": 37,
    "start_time": "2024-08-19T20:40:55.579Z"
   },
   {
    "duration": 367,
    "start_time": "2024-08-19T20:40:55.617Z"
   },
   {
    "duration": 292,
    "start_time": "2024-08-19T20:40:55.985Z"
   },
   {
    "duration": 447,
    "start_time": "2024-08-19T20:40:56.279Z"
   },
   {
    "duration": 1556,
    "start_time": "2024-08-19T20:40:56.728Z"
   },
   {
    "duration": 186,
    "start_time": "2024-08-19T20:40:58.286Z"
   },
   {
    "duration": 183,
    "start_time": "2024-08-19T20:40:58.473Z"
   },
   {
    "duration": 171,
    "start_time": "2024-08-19T20:40:58.658Z"
   },
   {
    "duration": 6,
    "start_time": "2024-08-19T20:40:58.830Z"
   },
   {
    "duration": 107,
    "start_time": "2024-08-19T20:40:58.838Z"
   },
   {
    "duration": 0,
    "start_time": "2024-08-19T20:40:58.948Z"
   },
   {
    "duration": 0,
    "start_time": "2024-08-19T20:40:58.948Z"
   },
   {
    "duration": 0,
    "start_time": "2024-08-19T20:40:58.949Z"
   },
   {
    "duration": 0,
    "start_time": "2024-08-19T20:40:58.951Z"
   },
   {
    "duration": 0,
    "start_time": "2024-08-19T20:40:58.952Z"
   },
   {
    "duration": 0,
    "start_time": "2024-08-19T20:40:58.953Z"
   },
   {
    "duration": 0,
    "start_time": "2024-08-19T20:40:58.954Z"
   },
   {
    "duration": 1,
    "start_time": "2024-08-19T20:40:58.954Z"
   },
   {
    "duration": 0,
    "start_time": "2024-08-19T20:40:58.955Z"
   },
   {
    "duration": 0,
    "start_time": "2024-08-19T20:40:58.956Z"
   },
   {
    "duration": 0,
    "start_time": "2024-08-19T20:40:58.957Z"
   },
   {
    "duration": 0,
    "start_time": "2024-08-19T20:40:58.958Z"
   },
   {
    "duration": 0,
    "start_time": "2024-08-19T20:40:58.959Z"
   },
   {
    "duration": 0,
    "start_time": "2024-08-19T20:40:58.960Z"
   },
   {
    "duration": 0,
    "start_time": "2024-08-19T20:40:58.961Z"
   },
   {
    "duration": 0,
    "start_time": "2024-08-19T20:40:58.962Z"
   },
   {
    "duration": 0,
    "start_time": "2024-08-19T20:40:58.962Z"
   },
   {
    "duration": 0,
    "start_time": "2024-08-19T20:40:58.963Z"
   },
   {
    "duration": 0,
    "start_time": "2024-08-19T20:40:58.964Z"
   },
   {
    "duration": 0,
    "start_time": "2024-08-19T20:40:58.965Z"
   },
   {
    "duration": 0,
    "start_time": "2024-08-19T20:40:58.965Z"
   },
   {
    "duration": 0,
    "start_time": "2024-08-19T20:40:58.967Z"
   },
   {
    "duration": 0,
    "start_time": "2024-08-19T20:40:58.967Z"
   },
   {
    "duration": 0,
    "start_time": "2024-08-19T20:40:58.968Z"
   },
   {
    "duration": 0,
    "start_time": "2024-08-19T20:40:58.969Z"
   },
   {
    "duration": 0,
    "start_time": "2024-08-19T20:40:58.970Z"
   },
   {
    "duration": 0,
    "start_time": "2024-08-19T20:40:58.971Z"
   },
   {
    "duration": 0,
    "start_time": "2024-08-19T20:40:59.007Z"
   },
   {
    "duration": 0,
    "start_time": "2024-08-19T20:40:59.008Z"
   },
   {
    "duration": 0,
    "start_time": "2024-08-19T20:40:59.009Z"
   },
   {
    "duration": 0,
    "start_time": "2024-08-19T20:40:59.010Z"
   },
   {
    "duration": 0,
    "start_time": "2024-08-19T20:40:59.011Z"
   },
   {
    "duration": 0,
    "start_time": "2024-08-19T20:40:59.012Z"
   },
   {
    "duration": 0,
    "start_time": "2024-08-19T20:40:59.012Z"
   },
   {
    "duration": 0,
    "start_time": "2024-08-19T20:40:59.013Z"
   },
   {
    "duration": 37,
    "start_time": "2024-08-19T20:41:05.158Z"
   },
   {
    "duration": 14,
    "start_time": "2024-08-19T20:41:32.279Z"
   },
   {
    "duration": 6,
    "start_time": "2024-08-19T20:41:52.271Z"
   },
   {
    "duration": 13,
    "start_time": "2024-08-19T20:42:01.329Z"
   },
   {
    "duration": 14,
    "start_time": "2024-08-19T20:42:05.270Z"
   },
   {
    "duration": 10,
    "start_time": "2024-08-19T20:42:14.138Z"
   },
   {
    "duration": 8,
    "start_time": "2024-08-19T20:42:19.995Z"
   },
   {
    "duration": 13,
    "start_time": "2024-08-19T20:42:37.315Z"
   },
   {
    "duration": 8,
    "start_time": "2024-08-19T20:42:44.232Z"
   },
   {
    "duration": 15,
    "start_time": "2024-08-19T20:42:52.138Z"
   },
   {
    "duration": 345,
    "start_time": "2024-08-19T20:42:57.212Z"
   },
   {
    "duration": 172,
    "start_time": "2024-08-19T20:44:09.392Z"
   },
   {
    "duration": 12,
    "start_time": "2024-08-19T20:44:23.918Z"
   },
   {
    "duration": 164,
    "start_time": "2024-08-19T20:44:54.867Z"
   },
   {
    "duration": 172,
    "start_time": "2024-08-19T20:45:02.104Z"
   },
   {
    "duration": 239,
    "start_time": "2024-08-19T20:45:02.578Z"
   },
   {
    "duration": 165,
    "start_time": "2024-08-19T20:45:03.466Z"
   },
   {
    "duration": 187,
    "start_time": "2024-08-19T20:45:10.695Z"
   },
   {
    "duration": 137,
    "start_time": "2024-08-19T20:45:25.194Z"
   },
   {
    "duration": 140,
    "start_time": "2024-08-19T20:45:25.691Z"
   },
   {
    "duration": 134,
    "start_time": "2024-08-19T20:45:28.465Z"
   },
   {
    "duration": 123,
    "start_time": "2024-08-19T20:45:29.222Z"
   },
   {
    "duration": 161,
    "start_time": "2024-08-19T20:45:33.476Z"
   },
   {
    "duration": 230,
    "start_time": "2024-08-19T20:46:24.127Z"
   },
   {
    "duration": 260,
    "start_time": "2024-08-19T20:50:12.912Z"
   },
   {
    "duration": 18,
    "start_time": "2024-08-19T20:51:24.688Z"
   },
   {
    "duration": 216,
    "start_time": "2024-08-19T20:51:42.444Z"
   },
   {
    "duration": 137,
    "start_time": "2024-08-19T20:55:45.600Z"
   },
   {
    "duration": 6,
    "start_time": "2024-08-19T21:00:25.626Z"
   },
   {
    "duration": 13,
    "start_time": "2024-08-19T21:00:41.949Z"
   },
   {
    "duration": 139,
    "start_time": "2024-08-19T21:00:58.801Z"
   },
   {
    "duration": 152,
    "start_time": "2024-08-19T21:00:58.941Z"
   },
   {
    "duration": 125,
    "start_time": "2024-08-19T21:01:26.222Z"
   },
   {
    "duration": 129,
    "start_time": "2024-08-19T21:01:34.854Z"
   },
   {
    "duration": 193,
    "start_time": "2024-08-19T21:03:41.538Z"
   },
   {
    "duration": 440,
    "start_time": "2024-08-19T21:04:26.004Z"
   },
   {
    "duration": 381,
    "start_time": "2024-08-19T21:04:31.329Z"
   },
   {
    "duration": 149,
    "start_time": "2024-08-19T21:05:36.322Z"
   },
   {
    "duration": 95,
    "start_time": "2024-08-19T21:05:42.043Z"
   },
   {
    "duration": 120,
    "start_time": "2024-08-19T21:07:23.101Z"
   },
   {
    "duration": 165,
    "start_time": "2024-08-19T21:07:42.185Z"
   },
   {
    "duration": 106,
    "start_time": "2024-08-19T21:07:45.407Z"
   },
   {
    "duration": 169,
    "start_time": "2024-08-19T21:07:55.641Z"
   },
   {
    "duration": 207,
    "start_time": "2024-08-19T21:07:59.327Z"
   },
   {
    "duration": 166,
    "start_time": "2024-08-19T21:09:04.336Z"
   },
   {
    "duration": 101,
    "start_time": "2024-08-19T21:09:11.743Z"
   },
   {
    "duration": 104,
    "start_time": "2024-08-19T21:10:46.643Z"
   },
   {
    "duration": 116,
    "start_time": "2024-08-19T21:11:12.176Z"
   },
   {
    "duration": 116,
    "start_time": "2024-08-19T21:11:29.746Z"
   },
   {
    "duration": 102,
    "start_time": "2024-08-19T21:13:31.489Z"
   },
   {
    "duration": 187,
    "start_time": "2024-08-19T21:15:32.288Z"
   },
   {
    "duration": 162,
    "start_time": "2024-08-19T21:15:41.680Z"
   },
   {
    "duration": 107,
    "start_time": "2024-08-19T21:16:13.502Z"
   },
   {
    "duration": 167,
    "start_time": "2024-08-19T21:18:27.651Z"
   },
   {
    "duration": 107,
    "start_time": "2024-08-19T21:19:13.412Z"
   },
   {
    "duration": 546,
    "start_time": "2024-08-19T21:20:55.321Z"
   },
   {
    "duration": 389,
    "start_time": "2024-08-19T21:22:56.384Z"
   },
   {
    "duration": 495,
    "start_time": "2024-08-19T21:23:33.917Z"
   },
   {
    "duration": 10,
    "start_time": "2024-08-19T21:28:49.082Z"
   },
   {
    "duration": 376,
    "start_time": "2024-08-19T21:28:56.064Z"
   },
   {
    "duration": 427,
    "start_time": "2024-08-19T21:33:30.459Z"
   },
   {
    "duration": 231,
    "start_time": "2024-08-19T21:33:55.089Z"
   },
   {
    "duration": 401,
    "start_time": "2024-08-19T21:34:05.720Z"
   },
   {
    "duration": 6,
    "start_time": "2024-08-19T21:37:38.017Z"
   },
   {
    "duration": 5,
    "start_time": "2024-08-19T21:37:39.865Z"
   },
   {
    "duration": 5,
    "start_time": "2024-08-19T21:37:50.376Z"
   },
   {
    "duration": 4,
    "start_time": "2024-08-19T21:37:59.463Z"
   },
   {
    "duration": 4,
    "start_time": "2024-08-19T21:39:47.487Z"
   },
   {
    "duration": 5,
    "start_time": "2024-08-19T21:39:58.956Z"
   },
   {
    "duration": 4,
    "start_time": "2024-08-19T21:40:05.387Z"
   },
   {
    "duration": 4,
    "start_time": "2024-08-19T21:40:06.929Z"
   },
   {
    "duration": 4,
    "start_time": "2024-08-19T21:40:30.217Z"
   },
   {
    "duration": 6,
    "start_time": "2024-08-19T21:40:45.507Z"
   },
   {
    "duration": 4,
    "start_time": "2024-08-19T21:40:47.741Z"
   },
   {
    "duration": 3,
    "start_time": "2024-08-19T21:40:52.350Z"
   },
   {
    "duration": 6,
    "start_time": "2024-08-19T21:41:44.244Z"
   },
   {
    "duration": 4,
    "start_time": "2024-08-19T21:41:46.268Z"
   },
   {
    "duration": 4,
    "start_time": "2024-08-19T21:41:50.617Z"
   },
   {
    "duration": 5,
    "start_time": "2024-08-19T21:53:57.633Z"
   }
  ],
  "kernelspec": {
   "display_name": "Python 3 (ipykernel)",
   "language": "python",
   "name": "python3"
  },
  "language_info": {
   "codemirror_mode": {
    "name": "ipython",
    "version": 3
   },
   "file_extension": ".py",
   "mimetype": "text/x-python",
   "name": "python",
   "nbconvert_exporter": "python",
   "pygments_lexer": "ipython3",
   "version": "3.9.5"
  },
  "toc": {
   "base_numbering": 1,
   "nav_menu": {},
   "number_sections": true,
   "sideBar": true,
   "skip_h1_title": true,
   "title_cell": "Table of Contents",
   "title_sidebar": "Contents",
   "toc_cell": false,
   "toc_position": {
    "height": "calc(100% - 180px)",
    "left": "10px",
    "top": "150px",
    "width": "307.181px"
   },
   "toc_section_display": true,
   "toc_window_display": true
  }
 },
 "nbformat": 4,
 "nbformat_minor": 2
}

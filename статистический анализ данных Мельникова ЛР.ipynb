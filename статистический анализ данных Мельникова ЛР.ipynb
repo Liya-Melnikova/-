{
 "cells": [
  {
   "cell_type": "markdown",
   "id": "79832ef5",
   "metadata": {},
   "source": [
    "# Проект: Статистический анализ данных для сервиса аренды самокатов GoFast\n",
    "\n",
    "Цель работы: проанализировать данные и проверить некоторые гипотезы, которые могут помочь бизнесу вырасти.\n",
    "\n",
    "План работы: \n",
    "1) провести предобратку данных; \\\n",
    "2) исследовать частотные зависимости; \\\n",
    "3) объединить данные из трех таблиц; \\\n",
    "4) подсчитать выручку; \\\n",
    "5) проверка гипотез; \\\n",
    "6) общий вывод по проделанной работе."
   ]
  },
  {
   "cell_type": "code",
   "execution_count": 1,
   "id": "72576667",
   "metadata": {},
   "outputs": [],
   "source": [
    "import pandas as pd\n",
    "import matplotlib.pyplot as plt\n",
    "import numpy as np\n",
    "from scipy import stats as st\n",
    "from scipy.stats import binom\n",
    "import math"
   ]
  },
  {
   "cell_type": "markdown",
   "id": "c42cbe00",
   "metadata": {},
   "source": [
    "#### Шаг 1. Загрузка данных"
   ]
  },
  {
   "cell_type": "code",
   "execution_count": 2,
   "id": "eff9f206",
   "metadata": {},
   "outputs": [
    {
     "data": {
      "text/html": [
       "<div>\n",
       "<style scoped>\n",
       "    .dataframe tbody tr th:only-of-type {\n",
       "        vertical-align: middle;\n",
       "    }\n",
       "\n",
       "    .dataframe tbody tr th {\n",
       "        vertical-align: top;\n",
       "    }\n",
       "\n",
       "    .dataframe thead th {\n",
       "        text-align: right;\n",
       "    }\n",
       "</style>\n",
       "<table border=\"1\" class=\"dataframe\">\n",
       "  <thead>\n",
       "    <tr style=\"text-align: right;\">\n",
       "      <th></th>\n",
       "      <th>user_id</th>\n",
       "      <th>name</th>\n",
       "      <th>age</th>\n",
       "      <th>city</th>\n",
       "      <th>subscription_type</th>\n",
       "    </tr>\n",
       "  </thead>\n",
       "  <tbody>\n",
       "    <tr>\n",
       "      <th>0</th>\n",
       "      <td>1</td>\n",
       "      <td>Кира</td>\n",
       "      <td>22</td>\n",
       "      <td>Тюмень</td>\n",
       "      <td>ultra</td>\n",
       "    </tr>\n",
       "    <tr>\n",
       "      <th>1</th>\n",
       "      <td>2</td>\n",
       "      <td>Станислав</td>\n",
       "      <td>31</td>\n",
       "      <td>Омск</td>\n",
       "      <td>ultra</td>\n",
       "    </tr>\n",
       "    <tr>\n",
       "      <th>2</th>\n",
       "      <td>3</td>\n",
       "      <td>Алексей</td>\n",
       "      <td>20</td>\n",
       "      <td>Москва</td>\n",
       "      <td>ultra</td>\n",
       "    </tr>\n",
       "    <tr>\n",
       "      <th>3</th>\n",
       "      <td>4</td>\n",
       "      <td>Константин</td>\n",
       "      <td>26</td>\n",
       "      <td>Ростов-на-Дону</td>\n",
       "      <td>ultra</td>\n",
       "    </tr>\n",
       "    <tr>\n",
       "      <th>4</th>\n",
       "      <td>5</td>\n",
       "      <td>Адель</td>\n",
       "      <td>28</td>\n",
       "      <td>Омск</td>\n",
       "      <td>ultra</td>\n",
       "    </tr>\n",
       "  </tbody>\n",
       "</table>\n",
       "</div>"
      ],
      "text/plain": [
       "   user_id        name  age            city subscription_type\n",
       "0        1        Кира   22          Тюмень             ultra\n",
       "1        2   Станислав   31            Омск             ultra\n",
       "2        3     Алексей   20          Москва             ultra\n",
       "3        4  Константин   26  Ростов-на-Дону             ultra\n",
       "4        5       Адель   28            Омск             ultra"
      ]
     },
     "execution_count": 2,
     "metadata": {},
     "output_type": "execute_result"
    }
   ],
   "source": [
    "users = pd.read_csv('/datasets/users_go.csv')\n",
    "users.head()"
   ]
  },
  {
   "cell_type": "code",
   "execution_count": 3,
   "id": "6ac69920",
   "metadata": {},
   "outputs": [
    {
     "name": "stdout",
     "output_type": "stream",
     "text": [
      "<class 'pandas.core.frame.DataFrame'>\n",
      "RangeIndex: 1565 entries, 0 to 1564\n",
      "Data columns (total 5 columns):\n",
      " #   Column             Non-Null Count  Dtype \n",
      "---  ------             --------------  ----- \n",
      " 0   user_id            1565 non-null   int64 \n",
      " 1   name               1565 non-null   object\n",
      " 2   age                1565 non-null   int64 \n",
      " 3   city               1565 non-null   object\n",
      " 4   subscription_type  1565 non-null   object\n",
      "dtypes: int64(2), object(3)\n",
      "memory usage: 61.3+ KB\n"
     ]
    },
    {
     "data": {
      "text/plain": [
       "user_id              0\n",
       "name                 0\n",
       "age                  0\n",
       "city                 0\n",
       "subscription_type    0\n",
       "dtype: int64"
      ]
     },
     "execution_count": 3,
     "metadata": {},
     "output_type": "execute_result"
    }
   ],
   "source": [
    "users.info()\n",
    "users.isna().sum()"
   ]
  },
  {
   "cell_type": "code",
   "execution_count": 4,
   "id": "244417a2",
   "metadata": {},
   "outputs": [
    {
     "data": {
      "text/html": [
       "<div>\n",
       "<style scoped>\n",
       "    .dataframe tbody tr th:only-of-type {\n",
       "        vertical-align: middle;\n",
       "    }\n",
       "\n",
       "    .dataframe tbody tr th {\n",
       "        vertical-align: top;\n",
       "    }\n",
       "\n",
       "    .dataframe thead th {\n",
       "        text-align: right;\n",
       "    }\n",
       "</style>\n",
       "<table border=\"1\" class=\"dataframe\">\n",
       "  <thead>\n",
       "    <tr style=\"text-align: right;\">\n",
       "      <th></th>\n",
       "      <th>user_id</th>\n",
       "      <th>distance</th>\n",
       "      <th>duration</th>\n",
       "      <th>date</th>\n",
       "    </tr>\n",
       "  </thead>\n",
       "  <tbody>\n",
       "    <tr>\n",
       "      <th>0</th>\n",
       "      <td>1</td>\n",
       "      <td>4409.919140</td>\n",
       "      <td>25.599769</td>\n",
       "      <td>2021-01-01</td>\n",
       "    </tr>\n",
       "    <tr>\n",
       "      <th>1</th>\n",
       "      <td>1</td>\n",
       "      <td>2617.592153</td>\n",
       "      <td>15.816871</td>\n",
       "      <td>2021-01-18</td>\n",
       "    </tr>\n",
       "    <tr>\n",
       "      <th>2</th>\n",
       "      <td>1</td>\n",
       "      <td>754.159807</td>\n",
       "      <td>6.232113</td>\n",
       "      <td>2021-04-20</td>\n",
       "    </tr>\n",
       "    <tr>\n",
       "      <th>3</th>\n",
       "      <td>1</td>\n",
       "      <td>2694.783254</td>\n",
       "      <td>18.511000</td>\n",
       "      <td>2021-08-11</td>\n",
       "    </tr>\n",
       "    <tr>\n",
       "      <th>4</th>\n",
       "      <td>1</td>\n",
       "      <td>4028.687306</td>\n",
       "      <td>26.265803</td>\n",
       "      <td>2021-08-28</td>\n",
       "    </tr>\n",
       "  </tbody>\n",
       "</table>\n",
       "</div>"
      ],
      "text/plain": [
       "   user_id     distance   duration        date\n",
       "0        1  4409.919140  25.599769  2021-01-01\n",
       "1        1  2617.592153  15.816871  2021-01-18\n",
       "2        1   754.159807   6.232113  2021-04-20\n",
       "3        1  2694.783254  18.511000  2021-08-11\n",
       "4        1  4028.687306  26.265803  2021-08-28"
      ]
     },
     "execution_count": 4,
     "metadata": {},
     "output_type": "execute_result"
    }
   ],
   "source": [
    "rides = pd.read_csv('/datasets/rides_go.csv')\n",
    "rides.head()"
   ]
  },
  {
   "cell_type": "code",
   "execution_count": 39,
   "id": "106cdf6f",
   "metadata": {},
   "outputs": [
    {
     "data": {
      "text/html": [
       "<div>\n",
       "<style scoped>\n",
       "    .dataframe tbody tr th:only-of-type {\n",
       "        vertical-align: middle;\n",
       "    }\n",
       "\n",
       "    .dataframe tbody tr th {\n",
       "        vertical-align: top;\n",
       "    }\n",
       "\n",
       "    .dataframe thead th {\n",
       "        text-align: right;\n",
       "    }\n",
       "</style>\n",
       "<table border=\"1\" class=\"dataframe\">\n",
       "  <thead>\n",
       "    <tr style=\"text-align: right;\">\n",
       "      <th></th>\n",
       "      <th>user_id</th>\n",
       "      <th>distance</th>\n",
       "      <th>duration</th>\n",
       "      <th>date</th>\n",
       "      <th>date_month</th>\n",
       "    </tr>\n",
       "  </thead>\n",
       "  <tbody>\n",
       "    <tr>\n",
       "      <th>0</th>\n",
       "      <td>1</td>\n",
       "      <td>4409.92</td>\n",
       "      <td>26.0</td>\n",
       "      <td>2021-01-01</td>\n",
       "      <td>1</td>\n",
       "    </tr>\n",
       "    <tr>\n",
       "      <th>1</th>\n",
       "      <td>1</td>\n",
       "      <td>2617.59</td>\n",
       "      <td>16.0</td>\n",
       "      <td>2021-01-18</td>\n",
       "      <td>1</td>\n",
       "    </tr>\n",
       "    <tr>\n",
       "      <th>2</th>\n",
       "      <td>1</td>\n",
       "      <td>754.16</td>\n",
       "      <td>7.0</td>\n",
       "      <td>2021-04-20</td>\n",
       "      <td>4</td>\n",
       "    </tr>\n",
       "    <tr>\n",
       "      <th>3</th>\n",
       "      <td>1</td>\n",
       "      <td>2694.78</td>\n",
       "      <td>19.0</td>\n",
       "      <td>2021-08-11</td>\n",
       "      <td>8</td>\n",
       "    </tr>\n",
       "    <tr>\n",
       "      <th>4</th>\n",
       "      <td>1</td>\n",
       "      <td>4028.69</td>\n",
       "      <td>27.0</td>\n",
       "      <td>2021-08-28</td>\n",
       "      <td>8</td>\n",
       "    </tr>\n",
       "  </tbody>\n",
       "</table>\n",
       "</div>"
      ],
      "text/plain": [
       "   user_id  distance  duration       date  date_month\n",
       "0        1   4409.92      26.0 2021-01-01           1\n",
       "1        1   2617.59      16.0 2021-01-18           1\n",
       "2        1    754.16       7.0 2021-04-20           4\n",
       "3        1   2694.78      19.0 2021-08-11           8\n",
       "4        1   4028.69      27.0 2021-08-28           8"
      ]
     },
     "execution_count": 39,
     "metadata": {},
     "output_type": "execute_result"
    }
   ],
   "source": [
    "#округление расстояния и продолжительности поездок\n",
    "import numpy as np\n",
    "\n",
    "rides['duration'] = np.ceil(rides['duration'])\n",
    "rides['distance'] = rides['distance'].round(2)\n",
    "rides.head()"
   ]
  },
  {
   "cell_type": "code",
   "execution_count": 6,
   "id": "e2be1b9f",
   "metadata": {},
   "outputs": [
    {
     "name": "stdout",
     "output_type": "stream",
     "text": [
      "<class 'pandas.core.frame.DataFrame'>\n",
      "RangeIndex: 18068 entries, 0 to 18067\n",
      "Data columns (total 4 columns):\n",
      " #   Column    Non-Null Count  Dtype  \n",
      "---  ------    --------------  -----  \n",
      " 0   user_id   18068 non-null  int64  \n",
      " 1   distance  18068 non-null  float64\n",
      " 2   duration  18068 non-null  float64\n",
      " 3   date      18068 non-null  object \n",
      "dtypes: float64(2), int64(1), object(1)\n",
      "memory usage: 564.8+ KB\n"
     ]
    },
    {
     "data": {
      "text/plain": [
       "user_id     0\n",
       "distance    0\n",
       "duration    0\n",
       "date        0\n",
       "dtype: int64"
      ]
     },
     "execution_count": 6,
     "metadata": {},
     "output_type": "execute_result"
    }
   ],
   "source": [
    "rides.info()\n",
    "rides.isna().sum()"
   ]
  },
  {
   "cell_type": "code",
   "execution_count": 44,
   "id": "4def94dc",
   "metadata": {},
   "outputs": [
    {
     "data": {
      "text/html": [
       "<div>\n",
       "<style scoped>\n",
       "    .dataframe tbody tr th:only-of-type {\n",
       "        vertical-align: middle;\n",
       "    }\n",
       "\n",
       "    .dataframe tbody tr th {\n",
       "        vertical-align: top;\n",
       "    }\n",
       "\n",
       "    .dataframe thead th {\n",
       "        text-align: right;\n",
       "    }\n",
       "</style>\n",
       "<table border=\"1\" class=\"dataframe\">\n",
       "  <thead>\n",
       "    <tr style=\"text-align: right;\">\n",
       "      <th></th>\n",
       "      <th>user_id</th>\n",
       "      <th>distance</th>\n",
       "      <th>duration</th>\n",
       "      <th>date_month</th>\n",
       "    </tr>\n",
       "  </thead>\n",
       "  <tbody>\n",
       "    <tr>\n",
       "      <th>count</th>\n",
       "      <td>18068.000000</td>\n",
       "      <td>18068.000000</td>\n",
       "      <td>18068.000000</td>\n",
       "      <td>18068.000000</td>\n",
       "    </tr>\n",
       "    <tr>\n",
       "      <th>mean</th>\n",
       "      <td>842.869936</td>\n",
       "      <td>3070.659992</td>\n",
       "      <td>18.303520</td>\n",
       "      <td>6.486772</td>\n",
       "    </tr>\n",
       "    <tr>\n",
       "      <th>std</th>\n",
       "      <td>434.734317</td>\n",
       "      <td>1116.831222</td>\n",
       "      <td>6.094928</td>\n",
       "      <td>3.437410</td>\n",
       "    </tr>\n",
       "    <tr>\n",
       "      <th>min</th>\n",
       "      <td>1.000000</td>\n",
       "      <td>0.860000</td>\n",
       "      <td>1.000000</td>\n",
       "      <td>1.000000</td>\n",
       "    </tr>\n",
       "    <tr>\n",
       "      <th>25%</th>\n",
       "      <td>487.000000</td>\n",
       "      <td>2543.227500</td>\n",
       "      <td>14.000000</td>\n",
       "      <td>4.000000</td>\n",
       "    </tr>\n",
       "    <tr>\n",
       "      <th>50%</th>\n",
       "      <td>889.000000</td>\n",
       "      <td>3133.610000</td>\n",
       "      <td>18.000000</td>\n",
       "      <td>6.000000</td>\n",
       "    </tr>\n",
       "    <tr>\n",
       "      <th>75%</th>\n",
       "      <td>1213.250000</td>\n",
       "      <td>3776.220000</td>\n",
       "      <td>22.000000</td>\n",
       "      <td>9.000000</td>\n",
       "    </tr>\n",
       "    <tr>\n",
       "      <th>max</th>\n",
       "      <td>1534.000000</td>\n",
       "      <td>7211.010000</td>\n",
       "      <td>41.000000</td>\n",
       "      <td>12.000000</td>\n",
       "    </tr>\n",
       "  </tbody>\n",
       "</table>\n",
       "</div>"
      ],
      "text/plain": [
       "            user_id      distance      duration    date_month\n",
       "count  18068.000000  18068.000000  18068.000000  18068.000000\n",
       "mean     842.869936   3070.659992     18.303520      6.486772\n",
       "std      434.734317   1116.831222      6.094928      3.437410\n",
       "min        1.000000      0.860000      1.000000      1.000000\n",
       "25%      487.000000   2543.227500     14.000000      4.000000\n",
       "50%      889.000000   3133.610000     18.000000      6.000000\n",
       "75%     1213.250000   3776.220000     22.000000      9.000000\n",
       "max     1534.000000   7211.010000     41.000000     12.000000"
      ]
     },
     "execution_count": 44,
     "metadata": {},
     "output_type": "execute_result"
    }
   ],
   "source": [
    "rides.describe()"
   ]
  },
  {
   "cell_type": "code",
   "execution_count": 7,
   "id": "ba4675ee",
   "metadata": {},
   "outputs": [
    {
     "data": {
      "text/html": [
       "<div>\n",
       "<style scoped>\n",
       "    .dataframe tbody tr th:only-of-type {\n",
       "        vertical-align: middle;\n",
       "    }\n",
       "\n",
       "    .dataframe tbody tr th {\n",
       "        vertical-align: top;\n",
       "    }\n",
       "\n",
       "    .dataframe thead th {\n",
       "        text-align: right;\n",
       "    }\n",
       "</style>\n",
       "<table border=\"1\" class=\"dataframe\">\n",
       "  <thead>\n",
       "    <tr style=\"text-align: right;\">\n",
       "      <th></th>\n",
       "      <th>subscription_type</th>\n",
       "      <th>minute_price</th>\n",
       "      <th>start_ride_price</th>\n",
       "      <th>subscription_fee</th>\n",
       "    </tr>\n",
       "  </thead>\n",
       "  <tbody>\n",
       "    <tr>\n",
       "      <th>0</th>\n",
       "      <td>free</td>\n",
       "      <td>8</td>\n",
       "      <td>50</td>\n",
       "      <td>0</td>\n",
       "    </tr>\n",
       "    <tr>\n",
       "      <th>1</th>\n",
       "      <td>ultra</td>\n",
       "      <td>6</td>\n",
       "      <td>0</td>\n",
       "      <td>199</td>\n",
       "    </tr>\n",
       "  </tbody>\n",
       "</table>\n",
       "</div>"
      ],
      "text/plain": [
       "  subscription_type  minute_price  start_ride_price  subscription_fee\n",
       "0              free             8                50                 0\n",
       "1             ultra             6                 0               199"
      ]
     },
     "execution_count": 7,
     "metadata": {},
     "output_type": "execute_result"
    }
   ],
   "source": [
    "subs = pd.read_csv('/datasets/subscriptions_go.csv')\n",
    "subs"
   ]
  },
  {
   "cell_type": "code",
   "execution_count": 8,
   "id": "29d43450",
   "metadata": {},
   "outputs": [
    {
     "name": "stdout",
     "output_type": "stream",
     "text": [
      "<class 'pandas.core.frame.DataFrame'>\n",
      "RangeIndex: 2 entries, 0 to 1\n",
      "Data columns (total 4 columns):\n",
      " #   Column             Non-Null Count  Dtype \n",
      "---  ------             --------------  ----- \n",
      " 0   subscription_type  2 non-null      object\n",
      " 1   minute_price       2 non-null      int64 \n",
      " 2   start_ride_price   2 non-null      int64 \n",
      " 3   subscription_fee   2 non-null      int64 \n",
      "dtypes: int64(3), object(1)\n",
      "memory usage: 192.0+ bytes\n"
     ]
    },
    {
     "data": {
      "text/plain": [
       "subscription_type    0\n",
       "minute_price         0\n",
       "start_ride_price     0\n",
       "subscription_fee     0\n",
       "dtype: int64"
      ]
     },
     "execution_count": 8,
     "metadata": {},
     "output_type": "execute_result"
    }
   ],
   "source": [
    "subs.info()\n",
    "subs.isna().sum()"
   ]
  },
  {
   "cell_type": "markdown",
   "id": "ad7f3d3a",
   "metadata": {},
   "source": [
    "На входе получили 3 таблицы с данными: 1) users - информация о пользователях(id, имя пользователя, возраст, город, тип подписки)\n",
    "2) rides - информация о поездках (id, расстояние, продолжительность сессии, дата)\n",
    "3) subs - информация о подписках (тип подписки, стоимость одной минуты поездки, стоимость начала поездки, стоимость ежемесячного платежа)\n",
    "Пропущенных значений в трех таблицах нет.\n",
    "Для дальнейшейшего анализа необходимо проверить данные на дубликаты и привести столбец rides['date'] к типу даты в библиотеке пандас."
   ]
  },
  {
   "cell_type": "markdown",
   "id": "e95ebca7",
   "metadata": {},
   "source": [
    "#### Шаг 2. Предобработка данных"
   ]
  },
  {
   "cell_type": "markdown",
   "id": "5598f369",
   "metadata": {},
   "source": [
    "##### Приведите столбец date к типу даты pandas."
   ]
  },
  {
   "cell_type": "code",
   "execution_count": 9,
   "id": "af6d202c",
   "metadata": {},
   "outputs": [
    {
     "name": "stdout",
     "output_type": "stream",
     "text": [
      "<class 'pandas.core.frame.DataFrame'>\n",
      "RangeIndex: 18068 entries, 0 to 18067\n",
      "Data columns (total 4 columns):\n",
      " #   Column    Non-Null Count  Dtype         \n",
      "---  ------    --------------  -----         \n",
      " 0   user_id   18068 non-null  int64         \n",
      " 1   distance  18068 non-null  float64       \n",
      " 2   duration  18068 non-null  float64       \n",
      " 3   date      18068 non-null  datetime64[ns]\n",
      "dtypes: datetime64[ns](1), float64(2), int64(1)\n",
      "memory usage: 564.8 KB\n"
     ]
    }
   ],
   "source": [
    "rides['date'] = pd.to_datetime(rides['date'], format='%Y-%m-%dT%H:%M:%S')\n",
    "rides.info()"
   ]
  },
  {
   "cell_type": "markdown",
   "id": "991b0ae0",
   "metadata": {},
   "source": [
    "##### Создайте новый столбец с номером месяца на основе столбца date."
   ]
  },
  {
   "cell_type": "code",
   "execution_count": 10,
   "id": "e7110def",
   "metadata": {},
   "outputs": [
    {
     "data": {
      "text/html": [
       "<div>\n",
       "<style scoped>\n",
       "    .dataframe tbody tr th:only-of-type {\n",
       "        vertical-align: middle;\n",
       "    }\n",
       "\n",
       "    .dataframe tbody tr th {\n",
       "        vertical-align: top;\n",
       "    }\n",
       "\n",
       "    .dataframe thead th {\n",
       "        text-align: right;\n",
       "    }\n",
       "</style>\n",
       "<table border=\"1\" class=\"dataframe\">\n",
       "  <thead>\n",
       "    <tr style=\"text-align: right;\">\n",
       "      <th></th>\n",
       "      <th>user_id</th>\n",
       "      <th>distance</th>\n",
       "      <th>duration</th>\n",
       "      <th>date</th>\n",
       "      <th>date_month</th>\n",
       "    </tr>\n",
       "  </thead>\n",
       "  <tbody>\n",
       "    <tr>\n",
       "      <th>0</th>\n",
       "      <td>1</td>\n",
       "      <td>4409.92</td>\n",
       "      <td>26.0</td>\n",
       "      <td>2021-01-01</td>\n",
       "      <td>1</td>\n",
       "    </tr>\n",
       "    <tr>\n",
       "      <th>1</th>\n",
       "      <td>1</td>\n",
       "      <td>2617.59</td>\n",
       "      <td>16.0</td>\n",
       "      <td>2021-01-18</td>\n",
       "      <td>1</td>\n",
       "    </tr>\n",
       "    <tr>\n",
       "      <th>2</th>\n",
       "      <td>1</td>\n",
       "      <td>754.16</td>\n",
       "      <td>7.0</td>\n",
       "      <td>2021-04-20</td>\n",
       "      <td>4</td>\n",
       "    </tr>\n",
       "    <tr>\n",
       "      <th>3</th>\n",
       "      <td>1</td>\n",
       "      <td>2694.78</td>\n",
       "      <td>19.0</td>\n",
       "      <td>2021-08-11</td>\n",
       "      <td>8</td>\n",
       "    </tr>\n",
       "    <tr>\n",
       "      <th>4</th>\n",
       "      <td>1</td>\n",
       "      <td>4028.69</td>\n",
       "      <td>27.0</td>\n",
       "      <td>2021-08-28</td>\n",
       "      <td>8</td>\n",
       "    </tr>\n",
       "  </tbody>\n",
       "</table>\n",
       "</div>"
      ],
      "text/plain": [
       "   user_id  distance  duration       date  date_month\n",
       "0        1   4409.92      26.0 2021-01-01           1\n",
       "1        1   2617.59      16.0 2021-01-18           1\n",
       "2        1    754.16       7.0 2021-04-20           4\n",
       "3        1   2694.78      19.0 2021-08-11           8\n",
       "4        1   4028.69      27.0 2021-08-28           8"
      ]
     },
     "execution_count": 10,
     "metadata": {},
     "output_type": "execute_result"
    }
   ],
   "source": [
    "rides['date_month'] = rides['date'].dt.month\n",
    "rides.head()"
   ]
  },
  {
   "cell_type": "markdown",
   "id": "3b57353f",
   "metadata": {},
   "source": [
    "##### Проверьте наличие пропущенных значений и дубликатов в датафреймах. Обработайте их, если такие значения присутствуют."
   ]
  },
  {
   "cell_type": "markdown",
   "id": "906aa73f",
   "metadata": {},
   "source": [
    "Пропуски были проверены в первом этапе, оказалось, что их нет ни в одном из датафрэймов. Проверим данные на наличие дубликатов и удалим их."
   ]
  },
  {
   "cell_type": "code",
   "execution_count": 11,
   "id": "19b66757",
   "metadata": {},
   "outputs": [
    {
     "data": {
      "text/plain": [
       "31"
      ]
     },
     "execution_count": 11,
     "metadata": {},
     "output_type": "execute_result"
    }
   ],
   "source": [
    "users.duplicated().sum()"
   ]
  },
  {
   "cell_type": "code",
   "execution_count": 12,
   "id": "4467eab2",
   "metadata": {},
   "outputs": [
    {
     "data": {
      "text/plain": [
       "0"
      ]
     },
     "execution_count": 12,
     "metadata": {},
     "output_type": "execute_result"
    }
   ],
   "source": [
    "users = users.drop_duplicates()\n",
    "users.duplicated().sum()"
   ]
  },
  {
   "cell_type": "code",
   "execution_count": 13,
   "id": "f894bede",
   "metadata": {},
   "outputs": [
    {
     "data": {
      "text/plain": [
       "0"
      ]
     },
     "execution_count": 13,
     "metadata": {},
     "output_type": "execute_result"
    }
   ],
   "source": [
    "rides.duplicated().sum()"
   ]
  },
  {
   "cell_type": "code",
   "execution_count": 14,
   "id": "16763a26",
   "metadata": {},
   "outputs": [
    {
     "data": {
      "text/plain": [
       "0"
      ]
     },
     "execution_count": 14,
     "metadata": {},
     "output_type": "execute_result"
    }
   ],
   "source": [
    "subs.duplicated().sum()"
   ]
  },
  {
   "cell_type": "markdown",
   "id": "c68bee2e",
   "metadata": {},
   "source": [
    "Данные считаю полными и готовыми для исследовательского и статистического анализа."
   ]
  },
  {
   "cell_type": "markdown",
   "id": "212593c7",
   "metadata": {},
   "source": [
    "#### Шаг 3. Исследовательский анализ данных"
   ]
  },
  {
   "cell_type": "markdown",
   "id": "bab23c46",
   "metadata": {},
   "source": [
    "Опишите и визуализируйте общую информацию о пользователях и поездках:"
   ]
  },
  {
   "cell_type": "markdown",
   "id": "43766d73",
   "metadata": {},
   "source": [
    "##### частота встречаемости городов;"
   ]
  },
  {
   "cell_type": "code",
   "execution_count": 15,
   "id": "d6358c76",
   "metadata": {},
   "outputs": [
    {
     "data": {
      "text/plain": [
       "Пятигорск         219\n",
       "Екатеринбург      204\n",
       "Ростов-на-Дону    198\n",
       "Краснодар         193\n",
       "Сочи              189\n",
       "Омск              183\n",
       "Тюмень            180\n",
       "Москва            168\n",
       "Name: city, dtype: int64"
      ]
     },
     "execution_count": 15,
     "metadata": {},
     "output_type": "execute_result"
    }
   ],
   "source": [
    "users['city'].value_counts()"
   ]
  },
  {
   "cell_type": "code",
   "execution_count": 16,
   "id": "f4319bb4",
   "metadata": {},
   "outputs": [
    {
     "data": {
      "text/plain": [
       "<AxesSubplot:title={'center':'частота встречаемости городов'}, ylabel='количество пользователей'>"
      ]
     },
     "execution_count": 16,
     "metadata": {},
     "output_type": "execute_result"
    },
    {
     "data": {
      "image/png": "[encoded data removed]",
      "text/plain": [
       "<Figure size 1080x360 with 1 Axes>"
      ]
     },
     "metadata": {
      "needs_background": "light"
     },
     "output_type": "display_data"
    }
   ],
   "source": [
    "users['city'].value_counts().plot(grid=True, kind = 'bar', figsize=(15, 5), \\\n",
    "                                  title = 'частота встречаемости городов', ylabel = 'количество пользователей')\n"
   ]
  },
  {
   "cell_type": "markdown",
   "id": "a71151ce",
   "metadata": {},
   "source": [
    "Чаще всего люди берут самокаты в аренду в г.Пятигорск (219 пользователей), в Москве же сервис не пользуется популярностью. "
   ]
  },
  {
   "cell_type": "markdown",
   "id": "b0662737",
   "metadata": {},
   "source": [
    "##### соотношение пользователей с подпиской и без подписки;"
   ]
  },
  {
   "cell_type": "code",
   "execution_count": 17,
   "id": "dd942f90",
   "metadata": {},
   "outputs": [
    {
     "data": {
      "text/plain": [
       "free     835\n",
       "ultra    699\n",
       "Name: subscription_type, dtype: int64"
      ]
     },
     "execution_count": 17,
     "metadata": {},
     "output_type": "execute_result"
    }
   ],
   "source": [
    "users['subscription_type'].value_counts()"
   ]
  },
  {
   "cell_type": "code",
   "execution_count": 18,
   "id": "b4feb3c4",
   "metadata": {},
   "outputs": [
    {
     "data": {
      "text/plain": [
       "<AxesSubplot:title={'center':'частота встречаемости городов'}, ylabel='subscription_type'>"
      ]
     },
     "execution_count": 18,
     "metadata": {},
     "output_type": "execute_result"
    },
    {
     "data": {
      "image/png": "[encoded data removed]",
      "text/plain": [
       "<Figure size 576x576 with 1 Axes>"
      ]
     },
     "metadata": {},
     "output_type": "display_data"
    }
   ],
   "source": [
    "users['subscription_type'].value_counts().plot(grid=True, kind = 'pie', figsize=(8, 8), autopct='%1.1f%%',\\\n",
    "                                               title = 'частота встречаемости городов' )"
   ]
  },
  {
   "cell_type": "markdown",
   "id": "88e453b0",
   "metadata": {},
   "source": [
    "Чаще люди берут в аренду самокат без подписки."
   ]
  },
  {
   "cell_type": "code",
   "execution_count": 19,
   "id": "85972605",
   "metadata": {},
   "outputs": [
    {
     "data": {
      "text/plain": [
       "count    1534.000000\n",
       "mean       24.903520\n",
       "std         4.572367\n",
       "min        12.000000\n",
       "25%        22.000000\n",
       "50%        25.000000\n",
       "75%        28.000000\n",
       "max        43.000000\n",
       "Name: age, dtype: float64"
      ]
     },
     "execution_count": 19,
     "metadata": {},
     "output_type": "execute_result"
    }
   ],
   "source": [
    "users['age'].describe()"
   ]
  },
  {
   "cell_type": "code",
   "execution_count": 20,
   "id": "4d3252e9",
   "metadata": {},
   "outputs": [
    {
     "data": {
      "text/plain": [
       "<AxesSubplot:title={'center':'возраст пользователей'}, ylabel='количество пользователей'>"
      ]
     },
     "execution_count": 20,
     "metadata": {},
     "output_type": "execute_result"
    },
    {
     "data": {
      "image/png": "[encoded data removed]",
      "text/plain": [
       "<Figure size 1080x360 with 1 Axes>"
      ]
     },
     "metadata": {
      "needs_background": "light"
     },
     "output_type": "display_data"
    }
   ],
   "source": [
    "users['age'].value_counts().plot(grid=True, kind = 'bar', figsize=(15, 5), \\\n",
    "                                 title = 'возраст пользователей', ylabel = 'количество пользователей')"
   ]
  },
  {
   "cell_type": "markdown",
   "id": "9ee3cbd3",
   "metadata": {},
   "source": [
    "Сервисом пользуются люди в возрасте от 12 до 43 лет, средний возраст 24 года. Больше всего пользователей в возрасте 25 лет."
   ]
  },
  {
   "cell_type": "markdown",
   "id": "150dcb6f",
   "metadata": {},
   "source": [
    "##### расстояние, которое пользователь преодолел за одну поездку;"
   ]
  },
  {
   "cell_type": "code",
   "execution_count": 21,
   "id": "6c72df81",
   "metadata": {},
   "outputs": [
    {
     "data": {
      "text/plain": [
       "count    18068.000000\n",
       "mean      3070.659992\n",
       "std       1116.831222\n",
       "min          0.860000\n",
       "25%       2543.227500\n",
       "50%       3133.610000\n",
       "75%       3776.220000\n",
       "max       7211.010000\n",
       "Name: distance, dtype: float64"
      ]
     },
     "execution_count": 21,
     "metadata": {},
     "output_type": "execute_result"
    }
   ],
   "source": [
    "rides['distance'].describe()"
   ]
  },
  {
   "cell_type": "code",
   "execution_count": 22,
   "id": "bf2e9b2f",
   "metadata": {},
   "outputs": [
    {
     "data": {
      "image/png": "[encoded data removed]",
      "text/plain": [
       "<Figure size 1080x360 with 1 Axes>"
      ]
     },
     "metadata": {
      "needs_background": "light"
     },
     "output_type": "display_data"
    }
   ],
   "source": [
    "#rides['distance'].hist(bins = 500, figsize=(15, 5), grid=True, range=(1,7211), \\\n",
    "                      #title = 'расстояние, которое пользователь преодолел за одну поездку', ylabel = 'количество пользователей')\n",
    "plt.figure(figsize=(15, 5))\n",
    "plt.hist(rides['distance'], bins = 500, range=(1,7211))\n",
    "\n",
    "plt.title('расстояние, которое пользователь преодолел за одну поездку')\n",
    "plt.xlabel('расстояние в метрах')\n",
    "plt.ylabel('Количество поездок')\n",
    "plt.grid(True)\n",
    "plt.show()"
   ]
  },
  {
   "cell_type": "markdown",
   "id": "c050d35e",
   "metadata": {},
   "source": [
    "На диаграмме мы видим 2 пика: на значениях порядка 700м и 3100м. Это средние значения наиболее часто встречающихся поездок."
   ]
  },
  {
   "cell_type": "markdown",
   "id": "892ebdf1",
   "metadata": {},
   "source": [
    "##### продолжительность поездок."
   ]
  },
  {
   "cell_type": "code",
   "execution_count": 40,
   "id": "5d337b03",
   "metadata": {},
   "outputs": [
    {
     "data": {
      "image/png": "[encoded data removed]",
      "text/plain": [
       "<Figure size 1080x360 with 1 Axes>"
      ]
     },
     "metadata": {
      "needs_background": "light"
     },
     "output_type": "display_data"
    }
   ],
   "source": [
    "#rides['duration'].hist(bins = 300, figsize=(15, 5), grid=True, range=(1,41))\n",
    "plt.figure(figsize=(15, 5))\n",
    "plt.hist(rides['duration'], bins = 100, range=(1,41))\n",
    "plt.title('продолжительность поездок')\n",
    "plt.xlabel('время в минутах')\n",
    "plt.ylabel('Количество поездок')\n",
    "plt.grid(True)\n",
    "plt.show()"
   ]
  },
  {
   "cell_type": "code",
   "execution_count": 24,
   "id": "28b65742",
   "metadata": {},
   "outputs": [
    {
     "data": {
      "text/html": [
       "<div>\n",
       "<style scoped>\n",
       "    .dataframe tbody tr th:only-of-type {\n",
       "        vertical-align: middle;\n",
       "    }\n",
       "\n",
       "    .dataframe tbody tr th {\n",
       "        vertical-align: top;\n",
       "    }\n",
       "\n",
       "    .dataframe thead th {\n",
       "        text-align: right;\n",
       "    }\n",
       "</style>\n",
       "<table border=\"1\" class=\"dataframe\">\n",
       "  <thead>\n",
       "    <tr style=\"text-align: right;\">\n",
       "      <th></th>\n",
       "      <th>user_id</th>\n",
       "      <th>distance</th>\n",
       "      <th>duration</th>\n",
       "      <th>date_month</th>\n",
       "    </tr>\n",
       "  </thead>\n",
       "  <tbody>\n",
       "    <tr>\n",
       "      <th>count</th>\n",
       "      <td>18068.000000</td>\n",
       "      <td>18068.000000</td>\n",
       "      <td>18068.000000</td>\n",
       "      <td>18068.000000</td>\n",
       "    </tr>\n",
       "    <tr>\n",
       "      <th>mean</th>\n",
       "      <td>842.869936</td>\n",
       "      <td>3070.659992</td>\n",
       "      <td>18.303520</td>\n",
       "      <td>6.486772</td>\n",
       "    </tr>\n",
       "    <tr>\n",
       "      <th>std</th>\n",
       "      <td>434.734317</td>\n",
       "      <td>1116.831222</td>\n",
       "      <td>6.094928</td>\n",
       "      <td>3.437410</td>\n",
       "    </tr>\n",
       "    <tr>\n",
       "      <th>min</th>\n",
       "      <td>1.000000</td>\n",
       "      <td>0.860000</td>\n",
       "      <td>1.000000</td>\n",
       "      <td>1.000000</td>\n",
       "    </tr>\n",
       "    <tr>\n",
       "      <th>25%</th>\n",
       "      <td>487.000000</td>\n",
       "      <td>2543.227500</td>\n",
       "      <td>14.000000</td>\n",
       "      <td>4.000000</td>\n",
       "    </tr>\n",
       "    <tr>\n",
       "      <th>50%</th>\n",
       "      <td>889.000000</td>\n",
       "      <td>3133.610000</td>\n",
       "      <td>18.000000</td>\n",
       "      <td>6.000000</td>\n",
       "    </tr>\n",
       "    <tr>\n",
       "      <th>75%</th>\n",
       "      <td>1213.250000</td>\n",
       "      <td>3776.220000</td>\n",
       "      <td>22.000000</td>\n",
       "      <td>9.000000</td>\n",
       "    </tr>\n",
       "    <tr>\n",
       "      <th>max</th>\n",
       "      <td>1534.000000</td>\n",
       "      <td>7211.010000</td>\n",
       "      <td>41.000000</td>\n",
       "      <td>12.000000</td>\n",
       "    </tr>\n",
       "  </tbody>\n",
       "</table>\n",
       "</div>"
      ],
      "text/plain": [
       "            user_id      distance      duration    date_month\n",
       "count  18068.000000  18068.000000  18068.000000  18068.000000\n",
       "mean     842.869936   3070.659992     18.303520      6.486772\n",
       "std      434.734317   1116.831222      6.094928      3.437410\n",
       "min        1.000000      0.860000      1.000000      1.000000\n",
       "25%      487.000000   2543.227500     14.000000      4.000000\n",
       "50%      889.000000   3133.610000     18.000000      6.000000\n",
       "75%     1213.250000   3776.220000     22.000000      9.000000\n",
       "max     1534.000000   7211.010000     41.000000     12.000000"
      ]
     },
     "execution_count": 24,
     "metadata": {},
     "output_type": "execute_result"
    }
   ],
   "source": [
    "rides.describe()"
   ]
  },
  {
   "cell_type": "markdown",
   "id": "d60a8fa9",
   "metadata": {},
   "source": [
    "Средняя продолжительность поездок варьируется от 15 до 20 минут."
   ]
  },
  {
   "cell_type": "markdown",
   "id": "4ef51331",
   "metadata": {},
   "source": [
    "#### Шаг 4. Объединение данных"
   ]
  },
  {
   "cell_type": "markdown",
   "id": "582f5bc4",
   "metadata": {},
   "source": [
    "##### Объединение данных о пользователях, поездках и подписках в один датафрейм. \n"
   ]
  },
  {
   "cell_type": "code",
   "execution_count": 25,
   "id": "6bf288b5",
   "metadata": {},
   "outputs": [
    {
     "data": {
      "text/html": [
       "<div>\n",
       "<style scoped>\n",
       "    .dataframe tbody tr th:only-of-type {\n",
       "        vertical-align: middle;\n",
       "    }\n",
       "\n",
       "    .dataframe tbody tr th {\n",
       "        vertical-align: top;\n",
       "    }\n",
       "\n",
       "    .dataframe thead th {\n",
       "        text-align: right;\n",
       "    }\n",
       "</style>\n",
       "<table border=\"1\" class=\"dataframe\">\n",
       "  <thead>\n",
       "    <tr style=\"text-align: right;\">\n",
       "      <th></th>\n",
       "      <th>user_id</th>\n",
       "      <th>distance</th>\n",
       "      <th>duration</th>\n",
       "      <th>date</th>\n",
       "      <th>date_month</th>\n",
       "      <th>name</th>\n",
       "      <th>age</th>\n",
       "      <th>city</th>\n",
       "      <th>subscription_type</th>\n",
       "      <th>minute_price</th>\n",
       "      <th>start_ride_price</th>\n",
       "      <th>subscription_fee</th>\n",
       "    </tr>\n",
       "  </thead>\n",
       "  <tbody>\n",
       "    <tr>\n",
       "      <th>0</th>\n",
       "      <td>1</td>\n",
       "      <td>4409.92</td>\n",
       "      <td>26.0</td>\n",
       "      <td>2021-01-01</td>\n",
       "      <td>1</td>\n",
       "      <td>Кира</td>\n",
       "      <td>22</td>\n",
       "      <td>Тюмень</td>\n",
       "      <td>ultra</td>\n",
       "      <td>6</td>\n",
       "      <td>0</td>\n",
       "      <td>199</td>\n",
       "    </tr>\n",
       "    <tr>\n",
       "      <th>1</th>\n",
       "      <td>1</td>\n",
       "      <td>2617.59</td>\n",
       "      <td>16.0</td>\n",
       "      <td>2021-01-18</td>\n",
       "      <td>1</td>\n",
       "      <td>Кира</td>\n",
       "      <td>22</td>\n",
       "      <td>Тюмень</td>\n",
       "      <td>ultra</td>\n",
       "      <td>6</td>\n",
       "      <td>0</td>\n",
       "      <td>199</td>\n",
       "    </tr>\n",
       "    <tr>\n",
       "      <th>2</th>\n",
       "      <td>1</td>\n",
       "      <td>754.16</td>\n",
       "      <td>7.0</td>\n",
       "      <td>2021-04-20</td>\n",
       "      <td>4</td>\n",
       "      <td>Кира</td>\n",
       "      <td>22</td>\n",
       "      <td>Тюмень</td>\n",
       "      <td>ultra</td>\n",
       "      <td>6</td>\n",
       "      <td>0</td>\n",
       "      <td>199</td>\n",
       "    </tr>\n",
       "    <tr>\n",
       "      <th>3</th>\n",
       "      <td>1</td>\n",
       "      <td>2694.78</td>\n",
       "      <td>19.0</td>\n",
       "      <td>2021-08-11</td>\n",
       "      <td>8</td>\n",
       "      <td>Кира</td>\n",
       "      <td>22</td>\n",
       "      <td>Тюмень</td>\n",
       "      <td>ultra</td>\n",
       "      <td>6</td>\n",
       "      <td>0</td>\n",
       "      <td>199</td>\n",
       "    </tr>\n",
       "    <tr>\n",
       "      <th>4</th>\n",
       "      <td>1</td>\n",
       "      <td>4028.69</td>\n",
       "      <td>27.0</td>\n",
       "      <td>2021-08-28</td>\n",
       "      <td>8</td>\n",
       "      <td>Кира</td>\n",
       "      <td>22</td>\n",
       "      <td>Тюмень</td>\n",
       "      <td>ultra</td>\n",
       "      <td>6</td>\n",
       "      <td>0</td>\n",
       "      <td>199</td>\n",
       "    </tr>\n",
       "  </tbody>\n",
       "</table>\n",
       "</div>"
      ],
      "text/plain": [
       "   user_id  distance  duration       date  date_month  name  age    city  \\\n",
       "0        1   4409.92      26.0 2021-01-01           1  Кира   22  Тюмень   \n",
       "1        1   2617.59      16.0 2021-01-18           1  Кира   22  Тюмень   \n",
       "2        1    754.16       7.0 2021-04-20           4  Кира   22  Тюмень   \n",
       "3        1   2694.78      19.0 2021-08-11           8  Кира   22  Тюмень   \n",
       "4        1   4028.69      27.0 2021-08-28           8  Кира   22  Тюмень   \n",
       "\n",
       "  subscription_type  minute_price  start_ride_price  subscription_fee  \n",
       "0             ultra             6                 0               199  \n",
       "1             ultra             6                 0               199  \n",
       "2             ultra             6                 0               199  \n",
       "3             ultra             6                 0               199  \n",
       "4             ultra             6                 0               199  "
      ]
     },
     "execution_count": 25,
     "metadata": {},
     "output_type": "execute_result"
    }
   ],
   "source": [
    "df = pd.merge(users, subs, on='subscription_type')\n",
    "df = pd.merge(rides, df, on='user_id')\n",
    "df.head()"
   ]
  },
  {
   "cell_type": "code",
   "execution_count": 26,
   "id": "4b72c249",
   "metadata": {},
   "outputs": [
    {
     "name": "stdout",
     "output_type": "stream",
     "text": [
      "<class 'pandas.core.frame.DataFrame'>\n",
      "Int64Index: 18068 entries, 0 to 18067\n",
      "Data columns (total 12 columns):\n",
      " #   Column             Non-Null Count  Dtype         \n",
      "---  ------             --------------  -----         \n",
      " 0   user_id            18068 non-null  int64         \n",
      " 1   distance           18068 non-null  float64       \n",
      " 2   duration           18068 non-null  float64       \n",
      " 3   date               18068 non-null  datetime64[ns]\n",
      " 4   date_month         18068 non-null  int64         \n",
      " 5   name               18068 non-null  object        \n",
      " 6   age                18068 non-null  int64         \n",
      " 7   city               18068 non-null  object        \n",
      " 8   subscription_type  18068 non-null  object        \n",
      " 9   minute_price       18068 non-null  int64         \n",
      " 10  start_ride_price   18068 non-null  int64         \n",
      " 11  subscription_fee   18068 non-null  int64         \n",
      "dtypes: datetime64[ns](1), float64(2), int64(6), object(3)\n",
      "memory usage: 1.8+ MB\n"
     ]
    }
   ],
   "source": [
    "df.info()"
   ]
  },
  {
   "cell_type": "markdown",
   "id": "de3b2154",
   "metadata": {},
   "source": [
    "Объединив 3 таблицы users, rides и subs, получили новый датафрэйм df. Количество строк совпадает с исходным rides. Объединение прошло верно."
   ]
  },
  {
   "cell_type": "markdown",
   "id": "a9af583b",
   "metadata": {},
   "source": [
    "##### Создание ещё двух датафреймов: c данными о пользователях без подписки и с ней;"
   ]
  },
  {
   "cell_type": "code",
   "execution_count": 27,
   "id": "1d5f287a",
   "metadata": {},
   "outputs": [
    {
     "data": {
      "text/html": [
       "<div>\n",
       "<style scoped>\n",
       "    .dataframe tbody tr th:only-of-type {\n",
       "        vertical-align: middle;\n",
       "    }\n",
       "\n",
       "    .dataframe tbody tr th {\n",
       "        vertical-align: top;\n",
       "    }\n",
       "\n",
       "    .dataframe thead th {\n",
       "        text-align: right;\n",
       "    }\n",
       "</style>\n",
       "<table border=\"1\" class=\"dataframe\">\n",
       "  <thead>\n",
       "    <tr style=\"text-align: right;\">\n",
       "      <th></th>\n",
       "      <th>user_id</th>\n",
       "      <th>distance</th>\n",
       "      <th>duration</th>\n",
       "      <th>date</th>\n",
       "      <th>date_month</th>\n",
       "      <th>name</th>\n",
       "      <th>age</th>\n",
       "      <th>city</th>\n",
       "      <th>subscription_type</th>\n",
       "      <th>minute_price</th>\n",
       "      <th>start_ride_price</th>\n",
       "      <th>subscription_fee</th>\n",
       "    </tr>\n",
       "  </thead>\n",
       "  <tbody>\n",
       "    <tr>\n",
       "      <th>6500</th>\n",
       "      <td>700</td>\n",
       "      <td>2515.69</td>\n",
       "      <td>15.0</td>\n",
       "      <td>2021-01-02</td>\n",
       "      <td>1</td>\n",
       "      <td>Айдар</td>\n",
       "      <td>22</td>\n",
       "      <td>Омск</td>\n",
       "      <td>free</td>\n",
       "      <td>8</td>\n",
       "      <td>50</td>\n",
       "      <td>0</td>\n",
       "    </tr>\n",
       "    <tr>\n",
       "      <th>6501</th>\n",
       "      <td>700</td>\n",
       "      <td>846.93</td>\n",
       "      <td>17.0</td>\n",
       "      <td>2021-02-01</td>\n",
       "      <td>2</td>\n",
       "      <td>Айдар</td>\n",
       "      <td>22</td>\n",
       "      <td>Омск</td>\n",
       "      <td>free</td>\n",
       "      <td>8</td>\n",
       "      <td>50</td>\n",
       "      <td>0</td>\n",
       "    </tr>\n",
       "    <tr>\n",
       "      <th>6502</th>\n",
       "      <td>700</td>\n",
       "      <td>4004.43</td>\n",
       "      <td>21.0</td>\n",
       "      <td>2021-02-04</td>\n",
       "      <td>2</td>\n",
       "      <td>Айдар</td>\n",
       "      <td>22</td>\n",
       "      <td>Омск</td>\n",
       "      <td>free</td>\n",
       "      <td>8</td>\n",
       "      <td>50</td>\n",
       "      <td>0</td>\n",
       "    </tr>\n",
       "    <tr>\n",
       "      <th>6503</th>\n",
       "      <td>700</td>\n",
       "      <td>1205.91</td>\n",
       "      <td>10.0</td>\n",
       "      <td>2021-02-10</td>\n",
       "      <td>2</td>\n",
       "      <td>Айдар</td>\n",
       "      <td>22</td>\n",
       "      <td>Омск</td>\n",
       "      <td>free</td>\n",
       "      <td>8</td>\n",
       "      <td>50</td>\n",
       "      <td>0</td>\n",
       "    </tr>\n",
       "    <tr>\n",
       "      <th>6504</th>\n",
       "      <td>700</td>\n",
       "      <td>3047.38</td>\n",
       "      <td>18.0</td>\n",
       "      <td>2021-02-14</td>\n",
       "      <td>2</td>\n",
       "      <td>Айдар</td>\n",
       "      <td>22</td>\n",
       "      <td>Омск</td>\n",
       "      <td>free</td>\n",
       "      <td>8</td>\n",
       "      <td>50</td>\n",
       "      <td>0</td>\n",
       "    </tr>\n",
       "  </tbody>\n",
       "</table>\n",
       "</div>"
      ],
      "text/plain": [
       "      user_id  distance  duration       date  date_month   name  age  city  \\\n",
       "6500      700   2515.69      15.0 2021-01-02           1  Айдар   22  Омск   \n",
       "6501      700    846.93      17.0 2021-02-01           2  Айдар   22  Омск   \n",
       "6502      700   4004.43      21.0 2021-02-04           2  Айдар   22  Омск   \n",
       "6503      700   1205.91      10.0 2021-02-10           2  Айдар   22  Омск   \n",
       "6504      700   3047.38      18.0 2021-02-14           2  Айдар   22  Омск   \n",
       "\n",
       "     subscription_type  minute_price  start_ride_price  subscription_fee  \n",
       "6500              free             8                50                 0  \n",
       "6501              free             8                50                 0  \n",
       "6502              free             8                50                 0  \n",
       "6503              free             8                50                 0  \n",
       "6504              free             8                50                 0  "
      ]
     },
     "execution_count": 27,
     "metadata": {},
     "output_type": "execute_result"
    }
   ],
   "source": [
    "df_free = df[df['subscription_type'] == 'free']\n",
    "df_free.head()"
   ]
  },
  {
   "cell_type": "code",
   "execution_count": 28,
   "id": "4a0db4a7",
   "metadata": {},
   "outputs": [
    {
     "data": {
      "text/html": [
       "<div>\n",
       "<style scoped>\n",
       "    .dataframe tbody tr th:only-of-type {\n",
       "        vertical-align: middle;\n",
       "    }\n",
       "\n",
       "    .dataframe tbody tr th {\n",
       "        vertical-align: top;\n",
       "    }\n",
       "\n",
       "    .dataframe thead th {\n",
       "        text-align: right;\n",
       "    }\n",
       "</style>\n",
       "<table border=\"1\" class=\"dataframe\">\n",
       "  <thead>\n",
       "    <tr style=\"text-align: right;\">\n",
       "      <th></th>\n",
       "      <th>user_id</th>\n",
       "      <th>distance</th>\n",
       "      <th>duration</th>\n",
       "      <th>date</th>\n",
       "      <th>date_month</th>\n",
       "      <th>name</th>\n",
       "      <th>age</th>\n",
       "      <th>city</th>\n",
       "      <th>subscription_type</th>\n",
       "      <th>minute_price</th>\n",
       "      <th>start_ride_price</th>\n",
       "      <th>subscription_fee</th>\n",
       "    </tr>\n",
       "  </thead>\n",
       "  <tbody>\n",
       "    <tr>\n",
       "      <th>0</th>\n",
       "      <td>1</td>\n",
       "      <td>4409.92</td>\n",
       "      <td>26.0</td>\n",
       "      <td>2021-01-01</td>\n",
       "      <td>1</td>\n",
       "      <td>Кира</td>\n",
       "      <td>22</td>\n",
       "      <td>Тюмень</td>\n",
       "      <td>ultra</td>\n",
       "      <td>6</td>\n",
       "      <td>0</td>\n",
       "      <td>199</td>\n",
       "    </tr>\n",
       "    <tr>\n",
       "      <th>1</th>\n",
       "      <td>1</td>\n",
       "      <td>2617.59</td>\n",
       "      <td>16.0</td>\n",
       "      <td>2021-01-18</td>\n",
       "      <td>1</td>\n",
       "      <td>Кира</td>\n",
       "      <td>22</td>\n",
       "      <td>Тюмень</td>\n",
       "      <td>ultra</td>\n",
       "      <td>6</td>\n",
       "      <td>0</td>\n",
       "      <td>199</td>\n",
       "    </tr>\n",
       "    <tr>\n",
       "      <th>2</th>\n",
       "      <td>1</td>\n",
       "      <td>754.16</td>\n",
       "      <td>7.0</td>\n",
       "      <td>2021-04-20</td>\n",
       "      <td>4</td>\n",
       "      <td>Кира</td>\n",
       "      <td>22</td>\n",
       "      <td>Тюмень</td>\n",
       "      <td>ultra</td>\n",
       "      <td>6</td>\n",
       "      <td>0</td>\n",
       "      <td>199</td>\n",
       "    </tr>\n",
       "    <tr>\n",
       "      <th>3</th>\n",
       "      <td>1</td>\n",
       "      <td>2694.78</td>\n",
       "      <td>19.0</td>\n",
       "      <td>2021-08-11</td>\n",
       "      <td>8</td>\n",
       "      <td>Кира</td>\n",
       "      <td>22</td>\n",
       "      <td>Тюмень</td>\n",
       "      <td>ultra</td>\n",
       "      <td>6</td>\n",
       "      <td>0</td>\n",
       "      <td>199</td>\n",
       "    </tr>\n",
       "    <tr>\n",
       "      <th>4</th>\n",
       "      <td>1</td>\n",
       "      <td>4028.69</td>\n",
       "      <td>27.0</td>\n",
       "      <td>2021-08-28</td>\n",
       "      <td>8</td>\n",
       "      <td>Кира</td>\n",
       "      <td>22</td>\n",
       "      <td>Тюмень</td>\n",
       "      <td>ultra</td>\n",
       "      <td>6</td>\n",
       "      <td>0</td>\n",
       "      <td>199</td>\n",
       "    </tr>\n",
       "  </tbody>\n",
       "</table>\n",
       "</div>"
      ],
      "text/plain": [
       "   user_id  distance  duration       date  date_month  name  age    city  \\\n",
       "0        1   4409.92      26.0 2021-01-01           1  Кира   22  Тюмень   \n",
       "1        1   2617.59      16.0 2021-01-18           1  Кира   22  Тюмень   \n",
       "2        1    754.16       7.0 2021-04-20           4  Кира   22  Тюмень   \n",
       "3        1   2694.78      19.0 2021-08-11           8  Кира   22  Тюмень   \n",
       "4        1   4028.69      27.0 2021-08-28           8  Кира   22  Тюмень   \n",
       "\n",
       "  subscription_type  minute_price  start_ride_price  subscription_fee  \n",
       "0             ultra             6                 0               199  \n",
       "1             ultra             6                 0               199  \n",
       "2             ultra             6                 0               199  \n",
       "3             ultra             6                 0               199  \n",
       "4             ultra             6                 0               199  "
      ]
     },
     "execution_count": 28,
     "metadata": {},
     "output_type": "execute_result"
    }
   ],
   "source": [
    "df_ultra = df[df['subscription_type'] == 'ultra']\n",
    "df_ultra.head()"
   ]
  },
  {
   "cell_type": "code",
   "execution_count": null,
   "id": "22e0adef",
   "metadata": {},
   "outputs": [],
   "source": []
  },
  {
   "cell_type": "markdown",
   "id": "a0f6e16d",
   "metadata": {},
   "source": [
    "##### Визуализация информации о расстоянии и времени поездок для пользователей обеих категорий."
   ]
  },
  {
   "cell_type": "code",
   "execution_count": 29,
   "id": "bbca9d97",
   "metadata": {},
   "outputs": [
    {
     "data": {
      "image/png": "[encoded data removed]",
      "text/plain": [
       "<Figure size 1080x360 with 1 Axes>"
      ]
     },
     "metadata": {
      "needs_background": "light"
     },
     "output_type": "display_data"
    }
   ],
   "source": [
    "plt.figure(figsize=(15, 5))\n",
    "plt.hist([df_free['distance'], df_ultra['distance']], bins=70, range=(1,7200), label=['free', 'ultra'])\n",
    "plt.legend()\n",
    "plt.title('Визуализация информации о расстоянии поездок для пользователей обеих категорий.')\n",
    "plt.xlabel('Расстояние')\n",
    "plt.ylabel('Количество поездок')\n",
    "plt.grid(True)\n",
    "plt.show()"
   ]
  },
  {
   "cell_type": "code",
   "execution_count": 30,
   "id": "54e76615",
   "metadata": {},
   "outputs": [
    {
     "data": {
      "image/png": "[encoded data removed]",
      "text/plain": [
       "<Figure size 1080x360 with 1 Axes>"
      ]
     },
     "metadata": {
      "needs_background": "light"
     },
     "output_type": "display_data"
    }
   ],
   "source": [
    "plt.figure(figsize=(15, 5))\n",
    "plt.hist([df_free['duration'], df_ultra['duration']], bins=40, range=(1,40), label=['free', 'ultra'])\n",
    "plt.legend()\n",
    "plt.title('Визуализация информации о времени поездок для пользователей обеих категорий.')\n",
    "plt.xlabel('Время поездки')\n",
    "plt.ylabel('Количество поездок')\n",
    "plt.grid(True)\n",
    "plt.show()"
   ]
  },
  {
   "cell_type": "code",
   "execution_count": 31,
   "id": "53049e0a",
   "metadata": {},
   "outputs": [
    {
     "data": {
      "text/html": [
       "<div>\n",
       "<style scoped>\n",
       "    .dataframe tbody tr th:only-of-type {\n",
       "        vertical-align: middle;\n",
       "    }\n",
       "\n",
       "    .dataframe tbody tr th {\n",
       "        vertical-align: top;\n",
       "    }\n",
       "\n",
       "    .dataframe thead th {\n",
       "        text-align: right;\n",
       "    }\n",
       "</style>\n",
       "<table border=\"1\" class=\"dataframe\">\n",
       "  <thead>\n",
       "    <tr style=\"text-align: right;\">\n",
       "      <th></th>\n",
       "      <th>distance</th>\n",
       "      <th>duration</th>\n",
       "    </tr>\n",
       "  </thead>\n",
       "  <tbody>\n",
       "    <tr>\n",
       "      <th>count</th>\n",
       "      <td>11568.000000</td>\n",
       "      <td>11568.000000</td>\n",
       "    </tr>\n",
       "    <tr>\n",
       "      <th>mean</th>\n",
       "      <td>3045.495284</td>\n",
       "      <td>17.890992</td>\n",
       "    </tr>\n",
       "    <tr>\n",
       "      <th>std</th>\n",
       "      <td>1246.173810</td>\n",
       "      <td>6.330250</td>\n",
       "    </tr>\n",
       "    <tr>\n",
       "      <th>min</th>\n",
       "      <td>0.860000</td>\n",
       "      <td>1.000000</td>\n",
       "    </tr>\n",
       "    <tr>\n",
       "      <th>25%</th>\n",
       "      <td>2366.560000</td>\n",
       "      <td>13.000000</td>\n",
       "    </tr>\n",
       "    <tr>\n",
       "      <th>50%</th>\n",
       "      <td>3114.650000</td>\n",
       "      <td>18.000000</td>\n",
       "    </tr>\n",
       "    <tr>\n",
       "      <th>75%</th>\n",
       "      <td>3905.695000</td>\n",
       "      <td>22.000000</td>\n",
       "    </tr>\n",
       "    <tr>\n",
       "      <th>max</th>\n",
       "      <td>7211.010000</td>\n",
       "      <td>35.000000</td>\n",
       "    </tr>\n",
       "  </tbody>\n",
       "</table>\n",
       "</div>"
      ],
      "text/plain": [
       "           distance      duration\n",
       "count  11568.000000  11568.000000\n",
       "mean    3045.495284     17.890992\n",
       "std     1246.173810      6.330250\n",
       "min        0.860000      1.000000\n",
       "25%     2366.560000     13.000000\n",
       "50%     3114.650000     18.000000\n",
       "75%     3905.695000     22.000000\n",
       "max     7211.010000     35.000000"
      ]
     },
     "execution_count": 31,
     "metadata": {},
     "output_type": "execute_result"
    }
   ],
   "source": [
    "(\n",
    "    df_free[['distance', 'duration']]\n",
    "    .describe()\n",
    ")"
   ]
  },
  {
   "cell_type": "code",
   "execution_count": 32,
   "id": "ef9b0819",
   "metadata": {},
   "outputs": [
    {
     "data": {
      "text/html": [
       "<div>\n",
       "<style scoped>\n",
       "    .dataframe tbody tr th:only-of-type {\n",
       "        vertical-align: middle;\n",
       "    }\n",
       "\n",
       "    .dataframe tbody tr th {\n",
       "        vertical-align: top;\n",
       "    }\n",
       "\n",
       "    .dataframe thead th {\n",
       "        text-align: right;\n",
       "    }\n",
       "</style>\n",
       "<table border=\"1\" class=\"dataframe\">\n",
       "  <thead>\n",
       "    <tr style=\"text-align: right;\">\n",
       "      <th></th>\n",
       "      <th>distance</th>\n",
       "      <th>duration</th>\n",
       "    </tr>\n",
       "  </thead>\n",
       "  <tbody>\n",
       "    <tr>\n",
       "      <th>count</th>\n",
       "      <td>6500.000000</td>\n",
       "      <td>6500.000000</td>\n",
       "    </tr>\n",
       "    <tr>\n",
       "      <th>mean</th>\n",
       "      <td>3115.445431</td>\n",
       "      <td>19.037692</td>\n",
       "    </tr>\n",
       "    <tr>\n",
       "      <th>std</th>\n",
       "      <td>836.895369</td>\n",
       "      <td>5.577439</td>\n",
       "    </tr>\n",
       "    <tr>\n",
       "      <th>min</th>\n",
       "      <td>244.210000</td>\n",
       "      <td>4.000000</td>\n",
       "    </tr>\n",
       "    <tr>\n",
       "      <th>25%</th>\n",
       "      <td>2785.447500</td>\n",
       "      <td>15.000000</td>\n",
       "    </tr>\n",
       "    <tr>\n",
       "      <th>50%</th>\n",
       "      <td>3148.640000</td>\n",
       "      <td>19.000000</td>\n",
       "    </tr>\n",
       "    <tr>\n",
       "      <th>75%</th>\n",
       "      <td>3560.577500</td>\n",
       "      <td>22.000000</td>\n",
       "    </tr>\n",
       "    <tr>\n",
       "      <th>max</th>\n",
       "      <td>5699.770000</td>\n",
       "      <td>41.000000</td>\n",
       "    </tr>\n",
       "  </tbody>\n",
       "</table>\n",
       "</div>"
      ],
      "text/plain": [
       "          distance     duration\n",
       "count  6500.000000  6500.000000\n",
       "mean   3115.445431    19.037692\n",
       "std     836.895369     5.577439\n",
       "min     244.210000     4.000000\n",
       "25%    2785.447500    15.000000\n",
       "50%    3148.640000    19.000000\n",
       "75%    3560.577500    22.000000\n",
       "max    5699.770000    41.000000"
      ]
     },
     "execution_count": 32,
     "metadata": {},
     "output_type": "execute_result"
    }
   ],
   "source": [
    "(\n",
    "    df_ultra[['distance', 'duration']]\n",
    "    .describe()\n",
    ")"
   ]
  },
  {
   "cell_type": "markdown",
   "id": "afda80f1",
   "metadata": {},
   "source": [
    "В ходе визуализации информации о расстоянии поездок для пользователей обеих категорий выявили следующие зависимости: \n",
    "- пик на низких расстояниях больше у пользователей без подписки, то есть они чаще берут самокат для непродолжительных, возможно незапланированных поездках. В то же время пользователи с подпиской чаще совершают более длительные, скорее всего, запланированные поездки. \n",
    "\n",
    "Гистограмма для времени поездок пользователей обеих категорий показала, что продолжительность не сильно, но выше у пользователей с подпиской. Разницу в 1-2 минуты можно считать не значительной. "
   ]
  },
  {
   "cell_type": "markdown",
   "id": "41545ac0",
   "metadata": {},
   "source": [
    "#### Шаг 5. Подсчёт выручки"
   ]
  },
  {
   "cell_type": "markdown",
   "id": "e30fa42f",
   "metadata": {},
   "source": [
    "##### Создание датафрейма с агрегированными данными о поездках: суммарное расстояние, количество поездок и суммарное время для каждого пользователя за каждый месяц."
   ]
  },
  {
   "cell_type": "code",
   "execution_count": 33,
   "id": "31132fab",
   "metadata": {},
   "outputs": [
    {
     "data": {
      "text/html": [
       "<div>\n",
       "<style scoped>\n",
       "    .dataframe tbody tr th:only-of-type {\n",
       "        vertical-align: middle;\n",
       "    }\n",
       "\n",
       "    .dataframe tbody tr th {\n",
       "        vertical-align: top;\n",
       "    }\n",
       "\n",
       "    .dataframe thead th {\n",
       "        text-align: right;\n",
       "    }\n",
       "</style>\n",
       "<table border=\"1\" class=\"dataframe\">\n",
       "  <thead>\n",
       "    <tr style=\"text-align: right;\">\n",
       "      <th></th>\n",
       "      <th></th>\n",
       "      <th>count</th>\n",
       "      <th>distance</th>\n",
       "      <th>duration</th>\n",
       "      <th>minute_price</th>\n",
       "      <th>start_ride_price</th>\n",
       "      <th>subscription_fee</th>\n",
       "    </tr>\n",
       "    <tr>\n",
       "      <th>user_id</th>\n",
       "      <th>date_month</th>\n",
       "      <th></th>\n",
       "      <th></th>\n",
       "      <th></th>\n",
       "      <th></th>\n",
       "      <th></th>\n",
       "      <th></th>\n",
       "    </tr>\n",
       "  </thead>\n",
       "  <tbody>\n",
       "    <tr>\n",
       "      <th rowspan=\"6\" valign=\"top\">1</th>\n",
       "      <th>1</th>\n",
       "      <td>2</td>\n",
       "      <td>7027.51</td>\n",
       "      <td>42.0</td>\n",
       "      <td>6</td>\n",
       "      <td>0</td>\n",
       "      <td>199</td>\n",
       "    </tr>\n",
       "    <tr>\n",
       "      <th>4</th>\n",
       "      <td>1</td>\n",
       "      <td>754.16</td>\n",
       "      <td>7.0</td>\n",
       "      <td>6</td>\n",
       "      <td>0</td>\n",
       "      <td>199</td>\n",
       "    </tr>\n",
       "    <tr>\n",
       "      <th>8</th>\n",
       "      <td>2</td>\n",
       "      <td>6723.47</td>\n",
       "      <td>46.0</td>\n",
       "      <td>6</td>\n",
       "      <td>0</td>\n",
       "      <td>199</td>\n",
       "    </tr>\n",
       "    <tr>\n",
       "      <th>10</th>\n",
       "      <td>2</td>\n",
       "      <td>5809.91</td>\n",
       "      <td>32.0</td>\n",
       "      <td>6</td>\n",
       "      <td>0</td>\n",
       "      <td>199</td>\n",
       "    </tr>\n",
       "    <tr>\n",
       "      <th>11</th>\n",
       "      <td>3</td>\n",
       "      <td>7003.50</td>\n",
       "      <td>56.0</td>\n",
       "      <td>6</td>\n",
       "      <td>0</td>\n",
       "      <td>199</td>\n",
       "    </tr>\n",
       "    <tr>\n",
       "      <th>12</th>\n",
       "      <td>2</td>\n",
       "      <td>6751.63</td>\n",
       "      <td>28.0</td>\n",
       "      <td>6</td>\n",
       "      <td>0</td>\n",
       "      <td>199</td>\n",
       "    </tr>\n",
       "    <tr>\n",
       "      <th rowspan=\"7\" valign=\"top\">2</th>\n",
       "      <th>3</th>\n",
       "      <td>3</td>\n",
       "      <td>10187.73</td>\n",
       "      <td>63.0</td>\n",
       "      <td>6</td>\n",
       "      <td>0</td>\n",
       "      <td>199</td>\n",
       "    </tr>\n",
       "    <tr>\n",
       "      <th>4</th>\n",
       "      <td>2</td>\n",
       "      <td>6164.39</td>\n",
       "      <td>40.0</td>\n",
       "      <td>6</td>\n",
       "      <td>0</td>\n",
       "      <td>199</td>\n",
       "    </tr>\n",
       "    <tr>\n",
       "      <th>6</th>\n",
       "      <td>1</td>\n",
       "      <td>3255.34</td>\n",
       "      <td>14.0</td>\n",
       "      <td>6</td>\n",
       "      <td>0</td>\n",
       "      <td>199</td>\n",
       "    </tr>\n",
       "    <tr>\n",
       "      <th>7</th>\n",
       "      <td>2</td>\n",
       "      <td>6780.73</td>\n",
       "      <td>48.0</td>\n",
       "      <td>6</td>\n",
       "      <td>0</td>\n",
       "      <td>199</td>\n",
       "    </tr>\n",
       "    <tr>\n",
       "      <th>8</th>\n",
       "      <td>1</td>\n",
       "      <td>923.01</td>\n",
       "      <td>7.0</td>\n",
       "      <td>6</td>\n",
       "      <td>0</td>\n",
       "      <td>199</td>\n",
       "    </tr>\n",
       "    <tr>\n",
       "      <th>10</th>\n",
       "      <td>1</td>\n",
       "      <td>2824.64</td>\n",
       "      <td>19.0</td>\n",
       "      <td>6</td>\n",
       "      <td>0</td>\n",
       "      <td>199</td>\n",
       "    </tr>\n",
       "    <tr>\n",
       "      <th>12</th>\n",
       "      <td>1</td>\n",
       "      <td>3828.25</td>\n",
       "      <td>12.0</td>\n",
       "      <td>6</td>\n",
       "      <td>0</td>\n",
       "      <td>199</td>\n",
       "    </tr>\n",
       "    <tr>\n",
       "      <th rowspan=\"7\" valign=\"top\">3</th>\n",
       "      <th>1</th>\n",
       "      <td>1</td>\n",
       "      <td>3061.78</td>\n",
       "      <td>13.0</td>\n",
       "      <td>6</td>\n",
       "      <td>0</td>\n",
       "      <td>199</td>\n",
       "    </tr>\n",
       "    <tr>\n",
       "      <th>2</th>\n",
       "      <td>2</td>\n",
       "      <td>5421.16</td>\n",
       "      <td>39.0</td>\n",
       "      <td>6</td>\n",
       "      <td>0</td>\n",
       "      <td>199</td>\n",
       "    </tr>\n",
       "    <tr>\n",
       "      <th>4</th>\n",
       "      <td>1</td>\n",
       "      <td>2956.65</td>\n",
       "      <td>21.0</td>\n",
       "      <td>6</td>\n",
       "      <td>0</td>\n",
       "      <td>199</td>\n",
       "    </tr>\n",
       "    <tr>\n",
       "      <th>5</th>\n",
       "      <td>3</td>\n",
       "      <td>9064.03</td>\n",
       "      <td>63.0</td>\n",
       "      <td>6</td>\n",
       "      <td>0</td>\n",
       "      <td>199</td>\n",
       "    </tr>\n",
       "    <tr>\n",
       "      <th>7</th>\n",
       "      <td>3</td>\n",
       "      <td>10919.59</td>\n",
       "      <td>67.0</td>\n",
       "      <td>6</td>\n",
       "      <td>0</td>\n",
       "      <td>199</td>\n",
       "    </tr>\n",
       "    <tr>\n",
       "      <th>9</th>\n",
       "      <td>1</td>\n",
       "      <td>2891.01</td>\n",
       "      <td>23.0</td>\n",
       "      <td>6</td>\n",
       "      <td>0</td>\n",
       "      <td>199</td>\n",
       "    </tr>\n",
       "    <tr>\n",
       "      <th>12</th>\n",
       "      <td>1</td>\n",
       "      <td>2593.38</td>\n",
       "      <td>13.0</td>\n",
       "      <td>6</td>\n",
       "      <td>0</td>\n",
       "      <td>199</td>\n",
       "    </tr>\n",
       "  </tbody>\n",
       "</table>\n",
       "</div>"
      ],
      "text/plain": [
       "                    count  distance  duration  minute_price  start_ride_price  \\\n",
       "user_id date_month                                                              \n",
       "1       1               2   7027.51      42.0             6                 0   \n",
       "        4               1    754.16       7.0             6                 0   \n",
       "        8               2   6723.47      46.0             6                 0   \n",
       "        10              2   5809.91      32.0             6                 0   \n",
       "        11              3   7003.50      56.0             6                 0   \n",
       "        12              2   6751.63      28.0             6                 0   \n",
       "2       3               3  10187.73      63.0             6                 0   \n",
       "        4               2   6164.39      40.0             6                 0   \n",
       "        6               1   3255.34      14.0             6                 0   \n",
       "        7               2   6780.73      48.0             6                 0   \n",
       "        8               1    923.01       7.0             6                 0   \n",
       "        10              1   2824.64      19.0             6                 0   \n",
       "        12              1   3828.25      12.0             6                 0   \n",
       "3       1               1   3061.78      13.0             6                 0   \n",
       "        2               2   5421.16      39.0             6                 0   \n",
       "        4               1   2956.65      21.0             6                 0   \n",
       "        5               3   9064.03      63.0             6                 0   \n",
       "        7               3  10919.59      67.0             6                 0   \n",
       "        9               1   2891.01      23.0             6                 0   \n",
       "        12              1   2593.38      13.0             6                 0   \n",
       "\n",
       "                    subscription_fee  \n",
       "user_id date_month                    \n",
       "1       1                        199  \n",
       "        4                        199  \n",
       "        8                        199  \n",
       "        10                       199  \n",
       "        11                       199  \n",
       "        12                       199  \n",
       "2       3                        199  \n",
       "        4                        199  \n",
       "        6                        199  \n",
       "        7                        199  \n",
       "        8                        199  \n",
       "        10                       199  \n",
       "        12                       199  \n",
       "3       1                        199  \n",
       "        2                        199  \n",
       "        4                        199  \n",
       "        5                        199  \n",
       "        7                        199  \n",
       "        9                        199  \n",
       "        12                       199  "
      ]
     },
     "execution_count": 33,
     "metadata": {},
     "output_type": "execute_result"
    }
   ],
   "source": [
    "df_agg = df.pivot_table(index=['user_id', 'date_month'],\n",
    "                        values=('distance','duration','minute_price','start_ride_price','subscription_fee'), \n",
    "                        aggfunc=({'distance':{'count', 'sum'},'duration':'sum', 'minute_price': 'mean','start_ride_price':'mean','subscription_fee':'mean',}))\n",
    "                        \n",
    "df_agg.columns = ['count', 'distance','duration','minute_price','start_ride_price','subscription_fee']\n",
    "df_agg.head(20)                       "
   ]
  },
  {
   "cell_type": "markdown",
   "id": "7c859074",
   "metadata": {},
   "source": [
    "##### Добавление столбца с помесячной выручкой, которую принёс каждый пользователь."
   ]
  },
  {
   "cell_type": "code",
   "execution_count": 34,
   "id": "72723095",
   "metadata": {},
   "outputs": [],
   "source": [
    "#import numpy as np\n",
    "\n",
    "#df_agg['duration'] = np.ceil(df_agg['duration'])"
   ]
  },
  {
   "cell_type": "code",
   "execution_count": 35,
   "id": "bb8201e2",
   "metadata": {},
   "outputs": [
    {
     "data": {
      "text/html": [
       "<div>\n",
       "<style scoped>\n",
       "    .dataframe tbody tr th:only-of-type {\n",
       "        vertical-align: middle;\n",
       "    }\n",
       "\n",
       "    .dataframe tbody tr th {\n",
       "        vertical-align: top;\n",
       "    }\n",
       "\n",
       "    .dataframe thead th {\n",
       "        text-align: right;\n",
       "    }\n",
       "</style>\n",
       "<table border=\"1\" class=\"dataframe\">\n",
       "  <thead>\n",
       "    <tr style=\"text-align: right;\">\n",
       "      <th></th>\n",
       "      <th></th>\n",
       "      <th>count</th>\n",
       "      <th>distance</th>\n",
       "      <th>duration</th>\n",
       "      <th>minute_price</th>\n",
       "      <th>start_ride_price</th>\n",
       "      <th>subscription_fee</th>\n",
       "      <th>revenue</th>\n",
       "    </tr>\n",
       "    <tr>\n",
       "      <th>user_id</th>\n",
       "      <th>date_month</th>\n",
       "      <th></th>\n",
       "      <th></th>\n",
       "      <th></th>\n",
       "      <th></th>\n",
       "      <th></th>\n",
       "      <th></th>\n",
       "      <th></th>\n",
       "    </tr>\n",
       "  </thead>\n",
       "  <tbody>\n",
       "    <tr>\n",
       "      <th rowspan=\"5\" valign=\"top\">1</th>\n",
       "      <th>1</th>\n",
       "      <td>2</td>\n",
       "      <td>7027.51</td>\n",
       "      <td>42.0</td>\n",
       "      <td>6</td>\n",
       "      <td>0</td>\n",
       "      <td>199</td>\n",
       "      <td>451.0</td>\n",
       "    </tr>\n",
       "    <tr>\n",
       "      <th>4</th>\n",
       "      <td>1</td>\n",
       "      <td>754.16</td>\n",
       "      <td>7.0</td>\n",
       "      <td>6</td>\n",
       "      <td>0</td>\n",
       "      <td>199</td>\n",
       "      <td>241.0</td>\n",
       "    </tr>\n",
       "    <tr>\n",
       "      <th>8</th>\n",
       "      <td>2</td>\n",
       "      <td>6723.47</td>\n",
       "      <td>46.0</td>\n",
       "      <td>6</td>\n",
       "      <td>0</td>\n",
       "      <td>199</td>\n",
       "      <td>475.0</td>\n",
       "    </tr>\n",
       "    <tr>\n",
       "      <th>10</th>\n",
       "      <td>2</td>\n",
       "      <td>5809.91</td>\n",
       "      <td>32.0</td>\n",
       "      <td>6</td>\n",
       "      <td>0</td>\n",
       "      <td>199</td>\n",
       "      <td>391.0</td>\n",
       "    </tr>\n",
       "    <tr>\n",
       "      <th>11</th>\n",
       "      <td>3</td>\n",
       "      <td>7003.50</td>\n",
       "      <td>56.0</td>\n",
       "      <td>6</td>\n",
       "      <td>0</td>\n",
       "      <td>199</td>\n",
       "      <td>535.0</td>\n",
       "    </tr>\n",
       "  </tbody>\n",
       "</table>\n",
       "</div>"
      ],
      "text/plain": [
       "                    count  distance  duration  minute_price  start_ride_price  \\\n",
       "user_id date_month                                                              \n",
       "1       1               2   7027.51      42.0             6                 0   \n",
       "        4               1    754.16       7.0             6                 0   \n",
       "        8               2   6723.47      46.0             6                 0   \n",
       "        10              2   5809.91      32.0             6                 0   \n",
       "        11              3   7003.50      56.0             6                 0   \n",
       "\n",
       "                    subscription_fee  revenue  \n",
       "user_id date_month                             \n",
       "1       1                        199    451.0  \n",
       "        4                        199    241.0  \n",
       "        8                        199    475.0  \n",
       "        10                       199    391.0  \n",
       "        11                       199    535.0  "
      ]
     },
     "execution_count": 35,
     "metadata": {},
     "output_type": "execute_result"
    }
   ],
   "source": [
    "#df_agg['revenue'] = df_agg['count']*(df_agg['duration']*df_agg['minute_price']+df_agg['start_ride_price'])+df_agg['subscription_fee']\n",
    "\n",
    "df_agg['revenue'] = (df_agg['start_ride_price']*df_agg['count'] + \\\n",
    "                     df_agg['duration']*df_agg['minute_price'] + df_agg['subscription_fee'])\n",
    "\n",
    "                                                                                                                  \n",
    "df_agg.head()"
   ]
  },
  {
   "cell_type": "markdown",
   "id": "f06719b0",
   "metadata": {},
   "source": [
    "Помесячная выручка для каждого пользователя была рассчитана по формуле: стоимость старта поездки × количество поездок + стоимость одной минуты поездки × общая продолжительность всех поездок в минутах + стоимость подписки."
   ]
  },
  {
   "cell_type": "markdown",
   "id": "d5a4347f",
   "metadata": {},
   "source": [
    "#### Шаг 6. Проверка гипотез"
   ]
  },
  {
   "cell_type": "markdown",
   "id": "a6d98c8e",
   "metadata": {},
   "source": [
    "##### Важно понять, тратят ли пользователи с подпиской больше времени на поездки? Если да, то пользователи с подпиской могут быть «выгоднее» для компании. Проверьте гипотезу. Используйте исходные данные о продолжительности каждой сессии — отдельно для подписчиков и тех, у кого нет подписки.\n"
   ]
  },
  {
   "cell_type": "markdown",
   "id": "6de822e4",
   "metadata": {},
   "source": [
    "Выдвинем гипотезы. \n",
    "\n",
    "Нулевая: пользователи с подписками обоих типов тратят одинаковое время на поездки. \n",
    "\n",
    "Первая: пользователи с подпиской тратят больше времени."
   ]
  },
  {
   "cell_type": "code",
   "execution_count": 36,
   "id": "81a5645a",
   "metadata": {},
   "outputs": [
    {
     "name": "stdout",
     "output_type": "stream",
     "text": [
      "2.4959453720736625e-34\n",
      "Отвергаем нулевую гипотезу\n"
     ]
    }
   ],
   "source": [
    "alpha = 0.05\n",
    "\n",
    "results = st.ttest_ind(\n",
    "    df_ultra['duration'], \n",
    "    df_free['duration'], \n",
    "    alternative='greater')\n",
    "\n",
    "print(results.pvalue)\n",
    "\n",
    "\n",
    "if results.pvalue < alpha:\n",
    "    print('Отвергаем нулевую гипотезу')\n",
    "else:\n",
    "    print('Не получилось отвергнуть нулевую гипотезу')"
   ]
  },
  {
   "cell_type": "code",
   "execution_count": 41,
   "id": "28575eac",
   "metadata": {},
   "outputs": [
    {
     "name": "stdout",
     "output_type": "stream",
     "text": [
      "средняя продолжительность поездок пользователей с подпиской: 19.037692307692307\n",
      "средняя продолжительность поездок пользователей без подписки: 17.890992392807746\n"
     ]
    }
   ],
   "source": [
    "print('средняя продолжительность поездок пользователей с подпиской:', df_ultra['duration'].mean()) \n",
    "print('средняя продолжительность поездок пользователей без подписки:', df_free['duration'].mean())"
   ]
  },
  {
   "cell_type": "markdown",
   "id": "2a98632e",
   "metadata": {},
   "source": [
    "Нулевая гипотеза отвергнута, как это и было видно из диаграммы. Небольшое увеличение по времени с подпиской есть. Можно сделать вывод, что пользователи с подпиской могут быть «выгоднее» для компании."
   ]
  },
  {
   "cell_type": "markdown",
   "id": "aa83c4ac",
   "metadata": {},
   "source": [
    "##### Расстояние одной поездки в 3130 метров — оптимальное с точки зрения износа самоката. Можно ли сказать, что среднее расстояние, которое проезжают пользователи с подпиской за одну поездку, не превышает  3130 метров? Проверьте гипотезу и сделайте выводы.\n"
   ]
  },
  {
   "cell_type": "markdown",
   "id": "fe90ee83",
   "metadata": {},
   "source": [
    "Нулевая гипотеза: среднее расстояние, которое проезжают пользователи с подпиской за одну поездку, равно 3130 метров.\n",
    "\n",
    "Первая: среднее расстояние, которое проезжают пользователи с подпиской за одну поездку, меньше 3130 метров"
   ]
  },
  {
   "cell_type": "code",
   "execution_count": 37,
   "id": "03f03d79",
   "metadata": {},
   "outputs": [
    {
     "name": "stdout",
     "output_type": "stream",
     "text": [
      "p-значение: 0.0804637394157586\n",
      "Не получилось отвергнуть нулевую гипотезу\n"
     ]
    }
   ],
   "source": [
    "interested_value = 3130 \n",
    "\n",
    "alpha = 0.05 # уровень статистической значимости\n",
    "            # можно указать .05 или 0.05\n",
    "\n",
    "results = st.ttest_1samp(\n",
    "    df_ultra['distance'], \n",
    "    interested_value, \n",
    "    alternative='less')\n",
    "\n",
    "print('p-значение:', results.pvalue)\n",
    "\n",
    "if results.pvalue < alpha:\n",
    "    print('Отвергаем нулевую гипотезу')\n",
    "else:\n",
    "    print('Не получилось отвергнуть нулевую гипотезу')"
   ]
  },
  {
   "cell_type": "code",
   "execution_count": 42,
   "id": "55794712",
   "metadata": {},
   "outputs": [
    {
     "name": "stdout",
     "output_type": "stream",
     "text": [
      "средняя длительность поездок пользователей с подпиской: 3115.445430769231\n"
     ]
    }
   ],
   "source": [
    "print('средняя длительность поездок пользователей с подпиской:', df_ultra['distance'].mean()) "
   ]
  },
  {
   "cell_type": "markdown",
   "id": "14dd6a6b",
   "metadata": {},
   "source": [
    "Не получилось отвергнуть нулевую гипотезу. Действительно, среднее расстояние, которое проезжают пользователи с подпиской за одну поездку, не превышает  3130 метров."
   ]
  },
  {
   "cell_type": "markdown",
   "id": "eaedd62e",
   "metadata": {},
   "source": [
    "##### Проверьте гипотезу о том, будет ли помесячная выручка от пользователей с подпиской по месяцам выше, чем выручка от пользователей без подписки. Сделайте вывод.\n"
   ]
  },
  {
   "cell_type": "markdown",
   "id": "0a7ec564",
   "metadata": {},
   "source": [
    "Нулевая гипотеза: помесячная выручка от пользователей с подпиской по месяцам равна выручке от пользователей без подписки. \n",
    "Первая: помесячная выручка от пользователей с подпиской по месяцам больше выручки от пользователей без подписки. "
   ]
  },
  {
   "cell_type": "code",
   "execution_count": 38,
   "id": "fd259f26",
   "metadata": {},
   "outputs": [
    {
     "name": "stdout",
     "output_type": "stream",
     "text": [
      "p-значение: 1.8850394384715216e-31\n",
      "Отвергаем нулевую гипотезу\n"
     ]
    }
   ],
   "source": [
    "alpha = 0.05 # уровень статистической значимости\n",
    "# если p-value окажется меньше него, отвергнем гипотезу\n",
    "\n",
    "results = st.ttest_ind(\n",
    "    df_agg.loc[df_agg['subscription_fee'] > 0, 'revenue'], \n",
    "    df_agg.loc[df_agg['subscription_fee'] == 0, 'revenue'],\n",
    "    alternative='greater')\n",
    "\n",
    "\n",
    "\n",
    "print('p-значение:', results.pvalue)\n",
    "\n",
    "if results.pvalue < alpha:\n",
    "    print('Отвергаем нулевую гипотезу')\n",
    "else:\n",
    "    print('Не получилось отвергнуть нулевую гипотезу') "
   ]
  },
  {
   "cell_type": "code",
   "execution_count": 43,
   "id": "1807e092",
   "metadata": {},
   "outputs": [
    {
     "name": "stdout",
     "output_type": "stream",
     "text": [
      "средняя помесячная выручка от пользователей с подпиской: 362.7921906022502\n",
      "средняя помесячная выручка от пользователей без подписки: 328.6413651073845\n"
     ]
    }
   ],
   "source": [
    "print('средняя помесячная выручка от пользователей с подпиской:', df_agg.loc[df_agg['subscription_fee'] > 0, 'revenue'].mean()) \n",
    "print('средняя помесячная выручка от пользователей без подписки:',  df_agg.loc[df_agg['subscription_fee'] == 0, 'revenue'].mean())"
   ]
  },
  {
   "cell_type": "markdown",
   "id": "93a6570b",
   "metadata": {},
   "source": [
    "Отвергаем нулевую гипотезу. Можем сделать вывод, что помесячная выручка от пользователей с подпиской по месяцам больше выручки от пользователей без подписки."
   ]
  },
  {
   "cell_type": "markdown",
   "id": "ebff6bf6",
   "metadata": {},
   "source": [
    "##### Представьте такую ситуацию: техническая команда сервиса обновила сервера, с которыми взаимодействует мобильное приложение. Она надеется, что из-за этого количество обращений в техподдержку значимо снизилось. Некоторый файл содержит для каждого пользователя данные о количестве обращений до обновления и после него. Какой тест вам понадобился бы для проверки этой гипотезы?"
   ]
  },
  {
   "cell_type": "markdown",
   "id": "439d154c",
   "metadata": {},
   "source": [
    "Нам необходимо исследовать наборы данных до и после. Чтобы проверить гипотезу о равенстве среднего генеральной совокупности для зависимых (парных) выборок в Python, применим метод scipy.stats.ttest_rel(), указак alternative=\"less\".\n",
    "Ему достаточно передать всего два параметра: наборы данных до и после. Оба набора должны быть одинаковыми по размеру: каждое измерение должно быть проведено до и после изменения."
   ]
  },
  {
   "cell_type": "markdown",
   "id": "61213c5e",
   "metadata": {},
   "source": [
    "#### Шаг 7. Распределения (необязательно)"
   ]
  },
  {
   "cell_type": "markdown",
   "id": "07f6623b",
   "metadata": {},
   "source": [
    "пока не приступала. выполню это задание, как только не будет критических комментарев по обязательным пунктам:)"
   ]
  },
  {
   "cell_type": "markdown",
   "id": "88a1f0e7",
   "metadata": {},
   "source": [
    "#### Вывод"
   ]
  },
  {
   "cell_type": "markdown",
   "id": "8fe5e945",
   "metadata": {},
   "source": [
    "В ходе проделанной работы был изучен сервис аренды самокатов GoFast. Для анализа были использованы данные о некоторых пользователях из нескольких городов, а также об их поездках. Проанализировали данные и проверили некоторые гипотезы, которые могут помочь бизнесу вырасти.\n",
    "\n",
    "Работа состояла из 3-х шагов:\n",
    "\n",
    "Шаг 1. Предобработка данных.\n",
    "На входе получили 3 таблицы с данными: 1) users - информация о пользователях(id, имя пользователя, возраст, город, тип подписки)\n",
    "2) rides - информация о поездках (id, расстояние, продолжительность сессии, дата)\n",
    "3) subs - информация о подписках (тип подписки, стоимость одной минуты поездки, стоимость начала поездки, стоимость ежемесячного платежа)\n",
    "Пропущенных значений в трех таблицах нет.\n",
    "Для дальнейшейшего анализа необходимо проверить данные на дубликаты и привести столбец rides['date'] к типу даты в библиотеке пандас.\n",
    "\n",
    "Пропуски были проверены в первом этапе, оказалось, что их нет ни в одном из датафрэймов. Проверим данные на наличие дубликатов и удалим их.Данные считаю полными и готовыми для исследовательского и статистического анализа.\n",
    "\n",
    "Шаг 2. Исследовательский анализ, поиск зависимостей.\n",
    "На этом шаге удалось выявить следующие зависимости: \n",
    "- Чаще всего люди берут самокаты в аренду в г.Пятигорск (219 пользователей), в Москве же сервис не пользуется популярностью. \n",
    "- 54,4% пользователей берут в аренду самокат без подписки.\n",
    "- Сервисом пользуются люди в возрасте от 12 до 43 лет, средний возраст 24 года. Больше всего пользователей в возрасте 25 лет.\n",
    "- На диаграмме мы видим 2 пика: на значениях порядка 700м и 3100м. Это средние значения наиболее часто встречающихся поездок.\n",
    "- Средняя продолжительность поездок варьируется от 15 до 20 минут.\n",
    "\n",
    "Далее сгруппировали данные по наличию подписки и расстоянию/времени/стоимости поездок: \n",
    "- пик на низких расстояниях больше у пользователей без подписки, то есть они чаще берут самокат для непродолжительных, возможно незапланированных поездках. В то же время пользователи с подпиской чаще совершают более длительные, скорее всего, запланированные поездки.\n",
    "- Гистограмма для времени поездок пользователей обеих категорий показала, что продолжительность не сильно, но выше у пользователей с подпиской. Разницу в 1-2 минуты можно считать не значительной.\n",
    "- Помесячная выручка для каждого пользователя была рассчитана по формуле: стоимость старта поездки × количество поездок + стоимость одной минуты поездки × общая продолжительность всех поездок в минутах + стоимость подписки.\n",
    "\n",
    "Шаг 3. Проверка гипотез. \n",
    "- Нулевая гипотеза 1. Пользователи с подписками обоих типов тратят одинаковое время на поездки.\n",
    "Нулевая гипотеза отвергнута, как это и было видно из диаграммы. Небольшое увеличение по времени с подпиской есть. Можно сделать вывод, что пользователи с подпиской могут быть «выгоднее» для компании.\n",
    "\n",
    "- Нулевая гипотеза2: среднее расстояние, которое проезжают пользователи с подпиской за одну поездку, равно 3130 метров.\n",
    "Не получилось отвергнуть нулевую гипотезу. Действительно, среднее расстояние, которое проезжают пользователи с подпиской за одну поездку, не превышает 3130 метров.\n",
    "\n",
    "- Нулевая гипотеза3: помесячная выручка от пользователей с подпиской по месяцам равна выручке от пользователей без подписки. \n",
    "Нулевая гипотеза отвергнута. Можем сделать вывод, что помесячная выручка от пользователей с подпиской по месяцам больше выручки от пользователей без подписки.\n",
    "\n",
    "Делаем вывод, что для компании выгоднее, чтобы пользовали оформляли подписку. Стоит обратить на это внимание, для дальнейшего роста выручки."
   ]
  }
 ],
 "metadata": {
  "ExecuteTimeLog": [
   {
    "duration": 84,
    "start_time": "2024-08-01T12:35:54.035Z"
   },
   {
    "duration": 410,
    "start_time": "2024-08-01T12:35:59.144Z"
   },
   {
    "duration": 160,
    "start_time": "2024-08-01T12:35:59.557Z"
   },
   {
    "duration": 48,
    "start_time": "2024-08-01T12:36:08.342Z"
   },
   {
    "duration": 227,
    "start_time": "2024-08-01T12:37:37.124Z"
   },
   {
    "duration": 105,
    "start_time": "2024-08-01T12:37:39.735Z"
   },
   {
    "duration": 14,
    "start_time": "2024-08-01T12:38:28.874Z"
   },
   {
    "duration": 14,
    "start_time": "2024-08-01T12:38:55.526Z"
   },
   {
    "duration": 42,
    "start_time": "2024-08-01T12:39:59.825Z"
   },
   {
    "duration": 13,
    "start_time": "2024-08-01T12:40:03.689Z"
   },
   {
    "duration": 19,
    "start_time": "2024-08-01T12:40:21.605Z"
   },
   {
    "duration": 10,
    "start_time": "2024-08-01T12:42:56.532Z"
   },
   {
    "duration": 61,
    "start_time": "2024-08-01T12:43:13.782Z"
   },
   {
    "duration": 6,
    "start_time": "2024-08-01T12:45:07.981Z"
   },
   {
    "duration": 11,
    "start_time": "2024-08-01T12:45:21.672Z"
   },
   {
    "duration": 10,
    "start_time": "2024-08-01T12:55:55.633Z"
   },
   {
    "duration": 7,
    "start_time": "2024-08-01T12:56:02.426Z"
   },
   {
    "duration": 8,
    "start_time": "2024-08-01T12:56:18.686Z"
   },
   {
    "duration": 5,
    "start_time": "2024-08-01T12:56:30.238Z"
   },
   {
    "duration": 8,
    "start_time": "2024-08-01T12:57:22.730Z"
   },
   {
    "duration": 22,
    "start_time": "2024-08-01T12:59:52.330Z"
   },
   {
    "duration": 7,
    "start_time": "2024-08-01T13:00:33.384Z"
   },
   {
    "duration": 6,
    "start_time": "2024-08-01T13:01:24.230Z"
   },
   {
    "duration": 10,
    "start_time": "2024-08-01T13:01:25.739Z"
   },
   {
    "duration": 10,
    "start_time": "2024-08-01T13:04:08.743Z"
   },
   {
    "duration": 10,
    "start_time": "2024-08-01T13:09:15.954Z"
   },
   {
    "duration": 10,
    "start_time": "2024-08-01T13:10:13.172Z"
   },
   {
    "duration": 7,
    "start_time": "2024-08-01T13:10:30.226Z"
   },
   {
    "duration": 6,
    "start_time": "2024-08-01T13:10:39.106Z"
   },
   {
    "duration": 542,
    "start_time": "2024-08-01T13:11:30.460Z"
   },
   {
    "duration": 288,
    "start_time": "2024-08-01T13:11:45.533Z"
   },
   {
    "duration": 28,
    "start_time": "2024-08-01T13:12:07.672Z"
   },
   {
    "duration": 311,
    "start_time": "2024-08-01T13:12:16.352Z"
   },
   {
    "duration": 256,
    "start_time": "2024-08-01T13:12:33.314Z"
   },
   {
    "duration": 268,
    "start_time": "2024-08-01T13:12:46.069Z"
   },
   {
    "duration": 289,
    "start_time": "2024-08-01T13:13:03.587Z"
   },
   {
    "duration": 5,
    "start_time": "2024-08-01T13:14:05.548Z"
   },
   {
    "duration": 16,
    "start_time": "2024-08-01T13:17:10.000Z"
   },
   {
    "duration": 268,
    "start_time": "2024-08-01T13:18:07.530Z"
   },
   {
    "duration": 6,
    "start_time": "2024-08-01T13:18:26.802Z"
   },
   {
    "duration": 76,
    "start_time": "2024-08-01T13:19:01.354Z"
   },
   {
    "duration": 176,
    "start_time": "2024-08-01T13:19:08.277Z"
   },
   {
    "duration": 393,
    "start_time": "2024-08-01T18:15:39.762Z"
   },
   {
    "duration": 84,
    "start_time": "2024-08-01T18:15:40.157Z"
   },
   {
    "duration": 26,
    "start_time": "2024-08-01T18:15:40.243Z"
   },
   {
    "duration": 152,
    "start_time": "2024-08-01T18:15:40.276Z"
   },
   {
    "duration": 14,
    "start_time": "2024-08-01T18:15:40.430Z"
   },
   {
    "duration": 72,
    "start_time": "2024-08-01T18:15:40.445Z"
   },
   {
    "duration": 12,
    "start_time": "2024-08-01T18:15:40.519Z"
   },
   {
    "duration": 27,
    "start_time": "2024-08-01T18:15:40.532Z"
   },
   {
    "duration": 11,
    "start_time": "2024-08-01T18:15:40.561Z"
   },
   {
    "duration": 5,
    "start_time": "2024-08-01T18:15:40.573Z"
   },
   {
    "duration": 8,
    "start_time": "2024-08-01T18:15:40.580Z"
   },
   {
    "duration": 8,
    "start_time": "2024-08-01T18:15:40.589Z"
   },
   {
    "duration": 10,
    "start_time": "2024-08-01T18:15:40.598Z"
   },
   {
    "duration": 587,
    "start_time": "2024-08-01T18:15:40.610Z"
   },
   {
    "duration": 203,
    "start_time": "2024-08-01T18:16:10.656Z"
   },
   {
    "duration": 151,
    "start_time": "2024-08-01T18:16:22.817Z"
   },
   {
    "duration": 11,
    "start_time": "2024-08-01T18:20:18.872Z"
   },
   {
    "duration": 232,
    "start_time": "2024-08-01T18:20:32.734Z"
   },
   {
    "duration": 242,
    "start_time": "2024-08-01T18:20:49.597Z"
   },
   {
    "duration": 63,
    "start_time": "2024-08-01T18:21:23.096Z"
   },
   {
    "duration": 151,
    "start_time": "2024-08-01T18:21:27.337Z"
   },
   {
    "duration": 124,
    "start_time": "2024-08-01T18:21:35.547Z"
   },
   {
    "duration": 87,
    "start_time": "2024-08-01T18:21:51.142Z"
   },
   {
    "duration": 103,
    "start_time": "2024-08-01T18:22:01.060Z"
   },
   {
    "duration": 155,
    "start_time": "2024-08-01T18:22:09.063Z"
   },
   {
    "duration": 6,
    "start_time": "2024-08-01T18:23:15.811Z"
   },
   {
    "duration": 6,
    "start_time": "2024-08-01T18:24:29.317Z"
   },
   {
    "duration": 5,
    "start_time": "2024-08-01T18:25:20.059Z"
   },
   {
    "duration": 268,
    "start_time": "2024-08-01T18:25:53.604Z"
   },
   {
    "duration": 1195,
    "start_time": "2024-08-01T18:29:16.334Z"
   },
   {
    "duration": 6,
    "start_time": "2024-08-01T18:29:39.362Z"
   },
   {
    "duration": 15,
    "start_time": "2024-08-01T18:31:08.479Z"
   },
   {
    "duration": 225,
    "start_time": "2024-08-01T18:32:51.155Z"
   },
   {
    "duration": 202,
    "start_time": "2024-08-01T18:33:27.093Z"
   },
   {
    "duration": 10,
    "start_time": "2024-08-01T18:34:14.592Z"
   },
   {
    "duration": 198,
    "start_time": "2024-08-01T18:34:28.834Z"
   },
   {
    "duration": 358,
    "start_time": "2024-08-01T18:35:29.882Z"
   },
   {
    "duration": 13,
    "start_time": "2024-08-01T18:35:45.245Z"
   },
   {
    "duration": 62,
    "start_time": "2024-08-01T18:37:54.485Z"
   },
   {
    "duration": 189,
    "start_time": "2024-08-01T18:37:59.781Z"
   },
   {
    "duration": 268,
    "start_time": "2024-08-01T18:38:20.705Z"
   },
   {
    "duration": 724,
    "start_time": "2024-08-01T18:38:26.453Z"
   },
   {
    "duration": 7,
    "start_time": "2024-08-01T18:39:18.753Z"
   },
   {
    "duration": 847,
    "start_time": "2024-08-01T18:40:02.404Z"
   },
   {
    "duration": 721,
    "start_time": "2024-08-01T18:40:17.199Z"
   },
   {
    "duration": 13,
    "start_time": "2024-08-01T18:41:07.513Z"
   },
   {
    "duration": 8,
    "start_time": "2024-08-01T18:42:12.807Z"
   },
   {
    "duration": 13,
    "start_time": "2024-08-01T18:42:23.883Z"
   },
   {
    "duration": 14,
    "start_time": "2024-08-01T18:43:11.075Z"
   },
   {
    "duration": 11,
    "start_time": "2024-08-01T18:43:18.205Z"
   },
   {
    "duration": 182,
    "start_time": "2024-08-01T18:44:28.137Z"
   },
   {
    "duration": 298,
    "start_time": "2024-08-01T18:44:37.566Z"
   },
   {
    "duration": 187,
    "start_time": "2024-08-01T18:45:23.237Z"
   },
   {
    "duration": 728,
    "start_time": "2024-08-01T18:45:46.342Z"
   },
   {
    "duration": 860,
    "start_time": "2024-08-01T18:46:18.013Z"
   },
   {
    "duration": 15,
    "start_time": "2024-08-01T19:11:43.883Z"
   },
   {
    "duration": 253,
    "start_time": "2024-08-01T19:12:26.404Z"
   },
   {
    "duration": 399,
    "start_time": "2024-08-01T19:19:31.395Z"
   },
   {
    "duration": 40,
    "start_time": "2024-08-01T19:19:31.796Z"
   },
   {
    "duration": 14,
    "start_time": "2024-08-01T19:19:31.837Z"
   },
   {
    "duration": 87,
    "start_time": "2024-08-01T19:19:31.853Z"
   },
   {
    "duration": 15,
    "start_time": "2024-08-01T19:19:31.942Z"
   },
   {
    "duration": 21,
    "start_time": "2024-08-01T19:19:31.959Z"
   },
   {
    "duration": 13,
    "start_time": "2024-08-01T19:19:31.981Z"
   },
   {
    "duration": 26,
    "start_time": "2024-08-01T19:19:31.996Z"
   },
   {
    "duration": 19,
    "start_time": "2024-08-01T19:19:32.024Z"
   },
   {
    "duration": 30,
    "start_time": "2024-08-01T19:19:32.045Z"
   },
   {
    "duration": 137,
    "start_time": "2024-08-01T19:19:32.077Z"
   },
   {
    "duration": 24,
    "start_time": "2024-08-01T19:19:32.216Z"
   },
   {
    "duration": 22,
    "start_time": "2024-08-01T19:19:32.242Z"
   },
   {
    "duration": 413,
    "start_time": "2024-08-01T19:19:32.268Z"
   },
   {
    "duration": 6,
    "start_time": "2024-08-01T19:19:32.683Z"
   },
   {
    "duration": 104,
    "start_time": "2024-08-01T19:19:32.690Z"
   },
   {
    "duration": 6,
    "start_time": "2024-08-01T19:19:32.795Z"
   },
   {
    "duration": 290,
    "start_time": "2024-08-01T19:19:32.803Z"
   },
   {
    "duration": 15,
    "start_time": "2024-08-01T19:19:33.094Z"
   },
   {
    "duration": 357,
    "start_time": "2024-08-01T19:19:33.110Z"
   },
   {
    "duration": 73,
    "start_time": "2024-08-01T19:23:34.810Z"
   },
   {
    "duration": 458,
    "start_time": "2024-08-01T19:24:07.295Z"
   },
   {
    "duration": 756,
    "start_time": "2024-08-01T19:24:14.792Z"
   },
   {
    "duration": 290,
    "start_time": "2024-08-01T19:24:46.696Z"
   },
   {
    "duration": 245,
    "start_time": "2024-08-01T19:25:50.431Z"
   },
   {
    "duration": 362,
    "start_time": "2024-08-01T19:26:06.366Z"
   },
   {
    "duration": 811,
    "start_time": "2024-08-01T19:27:00.648Z"
   },
   {
    "duration": 9,
    "start_time": "2024-08-01T19:27:30.419Z"
   },
   {
    "duration": 766,
    "start_time": "2024-08-01T19:28:06.957Z"
   },
   {
    "duration": 9,
    "start_time": "2024-08-01T19:30:31.316Z"
   },
   {
    "duration": 22,
    "start_time": "2024-08-01T19:30:57.633Z"
   },
   {
    "duration": 877,
    "start_time": "2024-08-01T19:31:23.731Z"
   },
   {
    "duration": 773,
    "start_time": "2024-08-01T19:31:31.242Z"
   },
   {
    "duration": 413,
    "start_time": "2024-08-01T19:31:59.645Z"
   },
   {
    "duration": 387,
    "start_time": "2024-08-01T19:32:05.070Z"
   },
   {
    "duration": 491,
    "start_time": "2024-08-01T19:32:14.402Z"
   },
   {
    "duration": 44,
    "start_time": "2024-08-01T19:33:52.579Z"
   },
   {
    "duration": 11,
    "start_time": "2024-08-01T19:34:24.069Z"
   },
   {
    "duration": 14,
    "start_time": "2024-08-01T19:39:00.323Z"
   },
   {
    "duration": 22,
    "start_time": "2024-08-01T19:39:17.858Z"
   },
   {
    "duration": 16,
    "start_time": "2024-08-01T19:41:21.223Z"
   },
   {
    "duration": 20,
    "start_time": "2024-08-01T19:41:26.467Z"
   },
   {
    "duration": 915,
    "start_time": "2024-08-01T19:42:20.856Z"
   },
   {
    "duration": 709,
    "start_time": "2024-08-01T19:42:48.726Z"
   },
   {
    "duration": 769,
    "start_time": "2024-08-01T19:43:51.717Z"
   },
   {
    "duration": 505,
    "start_time": "2024-08-01T19:43:58.254Z"
   },
   {
    "duration": 267,
    "start_time": "2024-08-01T19:44:22.935Z"
   },
   {
    "duration": 259,
    "start_time": "2024-08-01T19:47:48.549Z"
   },
   {
    "duration": 271,
    "start_time": "2024-08-01T19:50:35.973Z"
   },
   {
    "duration": 253,
    "start_time": "2024-08-01T19:50:58.701Z"
   },
   {
    "duration": 271,
    "start_time": "2024-08-01T19:52:39.928Z"
   },
   {
    "duration": 323,
    "start_time": "2024-08-01T19:53:01.801Z"
   },
   {
    "duration": 74,
    "start_time": "2024-08-01T19:53:52.306Z"
   },
   {
    "duration": 226,
    "start_time": "2024-08-01T19:56:24.868Z"
   },
   {
    "duration": 273,
    "start_time": "2024-08-01T19:56:48.288Z"
   },
   {
    "duration": 241,
    "start_time": "2024-08-01T19:57:48.427Z"
   },
   {
    "duration": 275,
    "start_time": "2024-08-01T19:57:58.466Z"
   },
   {
    "duration": 299,
    "start_time": "2024-08-01T19:59:53.600Z"
   },
   {
    "duration": 611,
    "start_time": "2024-08-01T20:00:26.581Z"
   },
   {
    "duration": 300,
    "start_time": "2024-08-01T20:00:35.923Z"
   },
   {
    "duration": 441,
    "start_time": "2024-08-01T20:02:34.680Z"
   },
   {
    "duration": 314,
    "start_time": "2024-08-01T20:02:40.352Z"
   },
   {
    "duration": 201,
    "start_time": "2024-08-01T20:02:46.096Z"
   },
   {
    "duration": 269,
    "start_time": "2024-08-01T20:02:52.515Z"
   },
   {
    "duration": 289,
    "start_time": "2024-08-01T20:03:00.637Z"
   },
   {
    "duration": 339,
    "start_time": "2024-08-01T20:03:10.653Z"
   },
   {
    "duration": 129,
    "start_time": "2024-08-01T20:16:27.815Z"
   },
   {
    "duration": 632,
    "start_time": "2024-08-01T20:16:35.991Z"
   },
   {
    "duration": 17,
    "start_time": "2024-08-01T20:17:02.512Z"
   },
   {
    "duration": 61,
    "start_time": "2024-08-01T20:17:12.386Z"
   },
   {
    "duration": 23,
    "start_time": "2024-08-01T20:17:30.202Z"
   },
   {
    "duration": 20,
    "start_time": "2024-08-01T20:18:14.507Z"
   },
   {
    "duration": 15,
    "start_time": "2024-08-01T20:18:18.576Z"
   },
   {
    "duration": 3,
    "start_time": "2024-08-01T20:30:20.512Z"
   },
   {
    "duration": 66,
    "start_time": "2024-08-01T20:42:21.954Z"
   },
   {
    "duration": 73,
    "start_time": "2024-08-01T20:43:34.478Z"
   },
   {
    "duration": 87,
    "start_time": "2024-08-01T20:48:05.846Z"
   },
   {
    "duration": 62,
    "start_time": "2024-08-01T20:48:19.661Z"
   },
   {
    "duration": 25,
    "start_time": "2024-08-01T20:48:56.132Z"
   },
   {
    "duration": 28,
    "start_time": "2024-08-01T20:49:29.991Z"
   },
   {
    "duration": 39,
    "start_time": "2024-08-01T20:50:05.181Z"
   },
   {
    "duration": 70,
    "start_time": "2024-08-01T20:51:20.574Z"
   },
   {
    "duration": 55,
    "start_time": "2024-08-01T20:59:41.432Z"
   },
   {
    "duration": 45,
    "start_time": "2024-08-01T21:00:16.938Z"
   },
   {
    "duration": 24,
    "start_time": "2024-08-01T21:02:23.282Z"
   },
   {
    "duration": 97,
    "start_time": "2024-08-01T21:04:04.415Z"
   },
   {
    "duration": 31,
    "start_time": "2024-08-01T21:04:47.293Z"
   },
   {
    "duration": 52,
    "start_time": "2024-08-01T21:05:36.952Z"
   },
   {
    "duration": 9,
    "start_time": "2024-08-01T21:09:31.228Z"
   },
   {
    "duration": 917,
    "start_time": "2024-08-01T21:09:55.888Z"
   },
   {
    "duration": 85,
    "start_time": "2024-08-01T21:12:32.484Z"
   },
   {
    "duration": 46,
    "start_time": "2024-08-01T21:12:42.315Z"
   },
   {
    "duration": 4,
    "start_time": "2024-08-01T21:14:18.341Z"
   },
   {
    "duration": 13,
    "start_time": "2024-08-01T21:15:12.440Z"
   },
   {
    "duration": 9,
    "start_time": "2024-08-01T21:20:25.834Z"
   },
   {
    "duration": 10,
    "start_time": "2024-08-01T21:20:47.690Z"
   },
   {
    "duration": 18,
    "start_time": "2024-08-01T21:26:19.829Z"
   },
   {
    "duration": 18,
    "start_time": "2024-08-01T21:27:06.848Z"
   },
   {
    "duration": 3,
    "start_time": "2024-08-01T21:35:30.533Z"
   },
   {
    "duration": 9,
    "start_time": "2024-08-01T21:35:37.635Z"
   },
   {
    "duration": 12,
    "start_time": "2024-08-01T21:35:59.146Z"
   },
   {
    "duration": 9,
    "start_time": "2024-08-01T21:37:11.581Z"
   },
   {
    "duration": 9,
    "start_time": "2024-08-01T21:44:49.917Z"
   },
   {
    "duration": 9,
    "start_time": "2024-08-01T21:45:05.520Z"
   },
   {
    "duration": 3,
    "start_time": "2024-08-01T21:45:31.111Z"
   },
   {
    "duration": 25,
    "start_time": "2024-08-01T21:45:35.422Z"
   },
   {
    "duration": 22,
    "start_time": "2024-08-01T21:47:47.858Z"
   },
   {
    "duration": 23,
    "start_time": "2024-08-01T21:48:01.210Z"
   },
   {
    "duration": 64,
    "start_time": "2024-08-01T21:53:03.110Z"
   },
   {
    "duration": 22,
    "start_time": "2024-08-01T21:53:27.361Z"
   },
   {
    "duration": 12,
    "start_time": "2024-08-01T21:53:56.237Z"
   },
   {
    "duration": 22,
    "start_time": "2024-08-01T21:54:04.070Z"
   },
   {
    "duration": 14,
    "start_time": "2024-08-01T21:54:23.391Z"
   },
   {
    "duration": 10,
    "start_time": "2024-08-01T21:54:43.338Z"
   },
   {
    "duration": 14,
    "start_time": "2024-08-01T21:59:06.857Z"
   },
   {
    "duration": 1180,
    "start_time": "2024-08-02T18:52:13.557Z"
   },
   {
    "duration": 120,
    "start_time": "2024-08-02T18:52:14.738Z"
   },
   {
    "duration": 13,
    "start_time": "2024-08-02T18:52:14.859Z"
   },
   {
    "duration": 191,
    "start_time": "2024-08-02T18:52:14.874Z"
   },
   {
    "duration": 15,
    "start_time": "2024-08-02T18:52:15.066Z"
   },
   {
    "duration": 88,
    "start_time": "2024-08-02T18:52:15.082Z"
   },
   {
    "duration": 12,
    "start_time": "2024-08-02T18:52:15.172Z"
   },
   {
    "duration": 23,
    "start_time": "2024-08-02T18:52:15.185Z"
   },
   {
    "duration": 10,
    "start_time": "2024-08-02T18:52:15.209Z"
   },
   {
    "duration": 5,
    "start_time": "2024-08-02T18:52:15.222Z"
   },
   {
    "duration": 13,
    "start_time": "2024-08-02T18:52:15.228Z"
   },
   {
    "duration": 25,
    "start_time": "2024-08-02T18:52:15.243Z"
   },
   {
    "duration": 23,
    "start_time": "2024-08-02T18:52:15.270Z"
   },
   {
    "duration": 193,
    "start_time": "2024-08-02T18:52:15.294Z"
   },
   {
    "duration": 7,
    "start_time": "2024-08-02T18:52:15.489Z"
   },
   {
    "duration": 118,
    "start_time": "2024-08-02T18:52:15.497Z"
   },
   {
    "duration": 5,
    "start_time": "2024-08-02T18:52:15.616Z"
   },
   {
    "duration": 254,
    "start_time": "2024-08-02T18:52:15.622Z"
   },
   {
    "duration": 8,
    "start_time": "2024-08-02T18:52:15.877Z"
   },
   {
    "duration": 754,
    "start_time": "2024-08-02T18:52:15.895Z"
   },
   {
    "duration": 482,
    "start_time": "2024-08-02T18:52:16.650Z"
   },
   {
    "duration": 21,
    "start_time": "2024-08-02T18:52:17.133Z"
   },
   {
    "duration": 26,
    "start_time": "2024-08-02T18:52:17.155Z"
   },
   {
    "duration": 28,
    "start_time": "2024-08-02T18:52:17.183Z"
   },
   {
    "duration": 14,
    "start_time": "2024-08-02T18:52:17.212Z"
   },
   {
    "duration": 340,
    "start_time": "2024-08-02T18:52:17.227Z"
   },
   {
    "duration": 254,
    "start_time": "2024-08-02T18:52:17.569Z"
   },
   {
    "duration": 15,
    "start_time": "2024-08-02T18:52:17.826Z"
   },
   {
    "duration": 31,
    "start_time": "2024-08-02T18:52:17.842Z"
   },
   {
    "duration": 50,
    "start_time": "2024-08-02T18:52:17.874Z"
   },
   {
    "duration": 3,
    "start_time": "2024-08-02T18:52:17.926Z"
   },
   {
    "duration": 16,
    "start_time": "2024-08-02T18:52:17.930Z"
   },
   {
    "duration": 7,
    "start_time": "2024-08-02T18:52:17.947Z"
   },
   {
    "duration": 3,
    "start_time": "2024-08-02T18:53:07.241Z"
   },
   {
    "duration": 5,
    "start_time": "2024-08-02T18:56:00.139Z"
   },
   {
    "duration": 5,
    "start_time": "2024-08-02T18:56:35.238Z"
   },
   {
    "duration": 8,
    "start_time": "2024-08-02T19:04:49.045Z"
   },
   {
    "duration": 5,
    "start_time": "2024-08-02T19:07:32.172Z"
   },
   {
    "duration": 96,
    "start_time": "2024-08-02T19:14:01.474Z"
   },
   {
    "duration": 322,
    "start_time": "2024-08-02T19:14:14.784Z"
   },
   {
    "duration": 148,
    "start_time": "2024-08-02T19:14:23.366Z"
   },
   {
    "duration": 8,
    "start_time": "2024-08-02T19:15:05.126Z"
   },
   {
    "duration": 5,
    "start_time": "2024-08-02T20:37:30.666Z"
   },
   {
    "duration": 1176,
    "start_time": "2024-08-05T19:11:42.160Z"
   },
   {
    "duration": 85,
    "start_time": "2024-08-05T19:11:43.338Z"
   },
   {
    "duration": 13,
    "start_time": "2024-08-05T19:11:43.425Z"
   },
   {
    "duration": 167,
    "start_time": "2024-08-05T19:11:43.439Z"
   },
   {
    "duration": 12,
    "start_time": "2024-08-05T19:11:43.607Z"
   },
   {
    "duration": 137,
    "start_time": "2024-08-05T19:11:43.620Z"
   },
   {
    "duration": 10,
    "start_time": "2024-08-05T19:11:43.758Z"
   },
   {
    "duration": 95,
    "start_time": "2024-08-05T19:11:43.769Z"
   },
   {
    "duration": 7,
    "start_time": "2024-08-05T19:11:43.866Z"
   },
   {
    "duration": 4,
    "start_time": "2024-08-05T19:11:43.876Z"
   },
   {
    "duration": 9,
    "start_time": "2024-08-05T19:11:43.881Z"
   },
   {
    "duration": 7,
    "start_time": "2024-08-05T19:11:43.891Z"
   },
   {
    "duration": 3,
    "start_time": "2024-08-05T19:11:43.899Z"
   },
   {
    "duration": 5,
    "start_time": "2024-08-05T19:11:43.904Z"
   },
   {
    "duration": 148,
    "start_time": "2024-08-05T19:11:43.910Z"
   },
   {
    "duration": 4,
    "start_time": "2024-08-05T19:11:44.060Z"
   },
   {
    "duration": 100,
    "start_time": "2024-08-05T19:11:44.065Z"
   },
   {
    "duration": 6,
    "start_time": "2024-08-05T19:11:44.166Z"
   },
   {
    "duration": 221,
    "start_time": "2024-08-05T19:11:44.173Z"
   },
   {
    "duration": 9,
    "start_time": "2024-08-05T19:11:44.395Z"
   },
   {
    "duration": 629,
    "start_time": "2024-08-05T19:11:44.405Z"
   },
   {
    "duration": 412,
    "start_time": "2024-08-05T19:11:45.036Z"
   },
   {
    "duration": 18,
    "start_time": "2024-08-05T19:11:45.450Z"
   },
   {
    "duration": 30,
    "start_time": "2024-08-05T19:11:45.471Z"
   },
   {
    "duration": 13,
    "start_time": "2024-08-05T19:11:45.503Z"
   },
   {
    "duration": 23,
    "start_time": "2024-08-05T19:11:45.518Z"
   },
   {
    "duration": 279,
    "start_time": "2024-08-05T19:11:45.542Z"
   },
   {
    "duration": 221,
    "start_time": "2024-08-05T19:11:45.826Z"
   },
   {
    "duration": 14,
    "start_time": "2024-08-05T19:11:46.048Z"
   },
   {
    "duration": 24,
    "start_time": "2024-08-05T19:11:46.064Z"
   },
   {
    "duration": 45,
    "start_time": "2024-08-05T19:11:46.089Z"
   },
   {
    "duration": 2,
    "start_time": "2024-08-05T19:11:46.136Z"
   },
   {
    "duration": 30,
    "start_time": "2024-08-05T19:11:46.139Z"
   },
   {
    "duration": 4,
    "start_time": "2024-08-05T19:11:46.170Z"
   },
   {
    "duration": 7,
    "start_time": "2024-08-05T19:11:46.176Z"
   },
   {
    "duration": 13,
    "start_time": "2024-08-05T19:11:46.184Z"
   },
   {
    "duration": 141,
    "start_time": "2024-08-05T19:15:03.288Z"
   },
   {
    "duration": 212,
    "start_time": "2024-08-05T19:15:46.242Z"
   },
   {
    "duration": 138,
    "start_time": "2024-08-05T19:16:23.677Z"
   },
   {
    "duration": 153,
    "start_time": "2024-08-05T19:16:43.294Z"
   },
   {
    "duration": 83,
    "start_time": "2024-08-05T19:17:46.098Z"
   },
   {
    "duration": 252,
    "start_time": "2024-08-05T19:18:36.896Z"
   },
   {
    "duration": 456,
    "start_time": "2024-08-05T19:20:00.648Z"
   },
   {
    "duration": 469,
    "start_time": "2024-08-05T19:20:43.115Z"
   },
   {
    "duration": 398,
    "start_time": "2024-08-05T19:21:14.882Z"
   },
   {
    "duration": 381,
    "start_time": "2024-08-05T19:21:27.134Z"
   },
   {
    "duration": 501,
    "start_time": "2024-08-05T19:21:41.035Z"
   },
   {
    "duration": 379,
    "start_time": "2024-08-05T19:22:16.904Z"
   },
   {
    "duration": 465,
    "start_time": "2024-08-05T19:22:54.093Z"
   },
   {
    "duration": 218,
    "start_time": "2024-08-05T19:27:41.695Z"
   },
   {
    "duration": 280,
    "start_time": "2024-08-05T19:27:57.753Z"
   },
   {
    "duration": 11,
    "start_time": "2024-08-05T19:36:36.360Z"
   },
   {
    "duration": 11,
    "start_time": "2024-08-05T19:56:12.145Z"
   },
   {
    "duration": 11,
    "start_time": "2024-08-05T20:00:01.983Z"
   },
   {
    "duration": 407,
    "start_time": "2024-08-05T20:10:48.885Z"
   },
   {
    "duration": 499,
    "start_time": "2024-08-05T20:11:06.590Z"
   },
   {
    "duration": 363,
    "start_time": "2024-08-05T20:11:14.238Z"
   },
   {
    "duration": 376,
    "start_time": "2024-08-05T20:12:57.723Z"
   },
   {
    "duration": 719,
    "start_time": "2024-08-05T20:13:09.252Z"
   },
   {
    "duration": 701,
    "start_time": "2024-08-05T20:14:33.789Z"
   },
   {
    "duration": 635,
    "start_time": "2024-08-05T20:16:07.748Z"
   },
   {
    "duration": 749,
    "start_time": "2024-08-05T20:16:42.269Z"
   },
   {
    "duration": 408,
    "start_time": "2024-08-05T20:16:57.931Z"
   },
   {
    "duration": 298,
    "start_time": "2024-08-05T20:17:11.398Z"
   },
   {
    "duration": 237,
    "start_time": "2024-08-05T20:17:26.594Z"
   },
   {
    "duration": 10,
    "start_time": "2024-08-05T20:17:47.687Z"
   },
   {
    "duration": 545,
    "start_time": "2024-08-05T20:17:56.696Z"
   },
   {
    "duration": 576,
    "start_time": "2024-08-05T20:19:04.985Z"
   },
   {
    "duration": 501,
    "start_time": "2024-08-05T20:19:44.435Z"
   },
   {
    "duration": 306,
    "start_time": "2024-08-05T20:19:50.436Z"
   },
   {
    "duration": 277,
    "start_time": "2024-08-05T20:19:53.303Z"
   },
   {
    "duration": 1212,
    "start_time": "2024-08-06T19:42:03.919Z"
   },
   {
    "duration": 86,
    "start_time": "2024-08-06T19:42:05.134Z"
   },
   {
    "duration": 18,
    "start_time": "2024-08-06T19:42:05.222Z"
   },
   {
    "duration": 159,
    "start_time": "2024-08-06T19:42:05.242Z"
   },
   {
    "duration": 5,
    "start_time": "2024-08-06T19:42:05.404Z"
   },
   {
    "duration": 17,
    "start_time": "2024-08-06T19:42:05.411Z"
   },
   {
    "duration": 71,
    "start_time": "2024-08-06T19:42:05.430Z"
   },
   {
    "duration": 13,
    "start_time": "2024-08-06T19:42:05.502Z"
   },
   {
    "duration": 14,
    "start_time": "2024-08-06T19:42:05.516Z"
   },
   {
    "duration": 12,
    "start_time": "2024-08-06T19:42:05.531Z"
   },
   {
    "duration": 6,
    "start_time": "2024-08-06T19:42:05.545Z"
   },
   {
    "duration": 7,
    "start_time": "2024-08-06T19:42:05.553Z"
   },
   {
    "duration": 7,
    "start_time": "2024-08-06T19:42:05.561Z"
   },
   {
    "duration": 5,
    "start_time": "2024-08-06T19:42:05.571Z"
   },
   {
    "duration": 6,
    "start_time": "2024-08-06T19:42:05.577Z"
   },
   {
    "duration": 200,
    "start_time": "2024-08-06T19:42:05.585Z"
   },
   {
    "duration": 6,
    "start_time": "2024-08-06T19:42:05.787Z"
   },
   {
    "duration": 117,
    "start_time": "2024-08-06T19:42:05.794Z"
   },
   {
    "duration": 8,
    "start_time": "2024-08-06T19:42:05.913Z"
   },
   {
    "duration": 328,
    "start_time": "2024-08-06T19:42:05.923Z"
   },
   {
    "duration": 8,
    "start_time": "2024-08-06T19:42:06.260Z"
   },
   {
    "duration": 854,
    "start_time": "2024-08-06T19:42:06.270Z"
   },
   {
    "duration": 475,
    "start_time": "2024-08-06T19:42:07.126Z"
   },
   {
    "duration": 20,
    "start_time": "2024-08-06T19:42:07.603Z"
   },
   {
    "duration": 21,
    "start_time": "2024-08-06T19:42:07.624Z"
   },
   {
    "duration": 26,
    "start_time": "2024-08-06T19:42:07.646Z"
   },
   {
    "duration": 16,
    "start_time": "2024-08-06T19:42:07.673Z"
   },
   {
    "duration": 14,
    "start_time": "2024-08-06T19:42:07.691Z"
   },
   {
    "duration": 692,
    "start_time": "2024-08-06T19:42:07.707Z"
   },
   {
    "duration": 663,
    "start_time": "2024-08-06T19:42:08.401Z"
   },
   {
    "duration": 15,
    "start_time": "2024-08-06T19:42:09.065Z"
   },
   {
    "duration": 14,
    "start_time": "2024-08-06T19:42:09.081Z"
   },
   {
    "duration": 78,
    "start_time": "2024-08-06T19:42:09.097Z"
   },
   {
    "duration": 2,
    "start_time": "2024-08-06T19:42:09.176Z"
   },
   {
    "duration": 14,
    "start_time": "2024-08-06T19:42:09.179Z"
   },
   {
    "duration": 5,
    "start_time": "2024-08-06T19:42:09.194Z"
   },
   {
    "duration": 5,
    "start_time": "2024-08-06T19:42:09.200Z"
   },
   {
    "duration": 8,
    "start_time": "2024-08-06T19:42:09.206Z"
   },
   {
    "duration": 11,
    "start_time": "2024-08-06T19:42:34.659Z"
   },
   {
    "duration": 388,
    "start_time": "2024-08-06T19:43:05.435Z"
   },
   {
    "duration": 4,
    "start_time": "2024-08-06T19:48:23.583Z"
   },
   {
    "duration": 4,
    "start_time": "2024-08-06T19:50:00.172Z"
   },
   {
    "duration": 7,
    "start_time": "2024-08-06T19:52:05.729Z"
   },
   {
    "duration": 23,
    "start_time": "2024-08-06T20:00:20.387Z"
   }
  ],
  "kernelspec": {
   "display_name": "Python 3 (ipykernel)",
   "language": "python",
   "name": "python3"
  },
  "language_info": {
   "codemirror_mode": {
    "name": "ipython",
    "version": 3
   },
   "file_extension": ".py",
   "mimetype": "text/x-python",
   "name": "python",
   "nbconvert_exporter": "python",
   "pygments_lexer": "ipython3",
   "version": "3.9.5"
  },
  "toc": {
   "base_numbering": 1,
   "nav_menu": {},
   "number_sections": true,
   "sideBar": true,
   "skip_h1_title": true,
   "title_cell": "Table of Contents",
   "title_sidebar": "Contents",
   "toc_cell": false,
   "toc_position": {
    "height": "calc(100% - 180px)",
    "left": "10px",
    "top": "150px",
    "width": "307.2px"
   },
   "toc_section_display": true,
   "toc_window_display": true
  }
 },
 "nbformat": 4,
 "nbformat_minor": 5
}
